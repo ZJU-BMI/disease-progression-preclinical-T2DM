{
 "cells": [
  {
   "cell_type": "code",
   "execution_count": 10,
   "id": "initial_id",
   "metadata": {
    "collapsed": true,
    "ExecuteTime": {
     "end_time": "2024-01-24T08:23:39.467601900Z",
     "start_time": "2024-01-24T08:23:39.458467700Z"
    }
   },
   "outputs": [],
   "source": [
    "import pandas as pd"
   ]
  },
  {
   "cell_type": "code",
   "outputs": [],
   "source": [
    "df = pd.read_csv('data/data_balanced/data_t2_idp_covars_balanced_norep.csv')\n",
    "df_new = df[['Eid']].copy()"
   ],
   "metadata": {
    "collapsed": false,
    "ExecuteTime": {
     "end_time": "2024-01-24T08:23:39.576914900Z",
     "start_time": "2024-01-24T08:23:39.460472300Z"
    }
   },
   "id": "8b0853457b2f43b6",
   "execution_count": 11
  },
  {
   "cell_type": "code",
   "outputs": [],
   "source": [
    "df_biomarkers = pd.read_csv('data/data_preprocessed/biomarkers.csv')\n",
    "# common diseases\n",
    "df_dis = pd.read_csv('data/data_preprocessed/common_disease.csv')\n",
    "df_brain_disorder = pd.read_csv('data/data_brain_disorder_all.csv')"
   ],
   "metadata": {
    "collapsed": false,
    "ExecuteTime": {
     "end_time": "2024-01-24T08:23:40.112927600Z",
     "start_time": "2024-01-24T08:23:39.576914900Z"
    }
   },
   "id": "dfa50bd6b6d64dae",
   "execution_count": 12
  },
  {
   "cell_type": "code",
   "outputs": [],
   "source": [
    "df_new = pd.merge(df_new, df_biomarkers, on='Eid', how='left')\n",
    "df_new = pd.merge(df_new, df_dis, on='Eid', how='left')\n",
    "df_new = pd.merge(df_new, df_brain_disorder, on='Eid', how='left')"
   ],
   "metadata": {
    "collapsed": false,
    "ExecuteTime": {
     "end_time": "2024-01-24T08:23:40.269380Z",
     "start_time": "2024-01-24T08:23:40.112927600Z"
    }
   },
   "id": "326b3c1a391e3fb8",
   "execution_count": 13
  },
  {
   "cell_type": "code",
   "outputs": [
    {
     "data": {
      "text/plain": "Eid                                0.000000\nDBP                                0.784753\nSBP                                0.784753\nHbA1c                              4.260090\nHDLc                              10.986547\nLDLc                               4.671151\nTriglycerides                      4.708520\nGlucose                           10.986547\nCRP                                4.708520\nhypertension                       0.000000\nrenal_failure                      0.000000\nheart_failure                      0.000000\nobesity                            0.000000\nhyperlipidemia                     0.000000\nischemic_heart_disease             0.000000\nretinopathy                        0.000000\nAlzheimer_disease                  0.000000\nAnorexia_nervosa                   0.000000\nAnxiety_disorder                   0.000000\nBipolar_disorder                   0.000000\nDepression                         0.000000\nEpilepsy                           0.000000\nMultiple_sclerosis                 0.000000\nObsessive_compulsive_disorder      0.000000\nParkinson_disease                  0.000000\npost_traumatic_stress_disorder     0.000000\nSchizophrenia                      0.000000\nSleep_disorder                     0.000000\nStroke                             0.000000\ndtype: float64"
     },
     "execution_count": 14,
     "metadata": {},
     "output_type": "execute_result"
    }
   ],
   "source": [
    "# number and frequency of missing values for each column\n",
    "df_new.isnull().sum() / df_new.shape[0] * 100"
   ],
   "metadata": {
    "collapsed": false,
    "ExecuteTime": {
     "end_time": "2024-01-24T08:23:40.281114500Z",
     "start_time": "2024-01-24T08:23:40.266968900Z"
    }
   },
   "id": "d9d3c3f2206665ae",
   "execution_count": 14
  },
  {
   "cell_type": "code",
   "outputs": [
    {
     "name": "stdout",
     "output_type": "stream",
     "text": [
      "hypertension 1532\n",
      "renal_failure 209\n",
      "heart_failure 98\n",
      "obesity 299\n",
      "hyperlipidemia 599\n",
      "ischemic_heart_disease 330\n",
      "retinopathy 70\n",
      "Alzheimer_disease 6\n",
      "Anorexia_nervosa 1\n",
      "Anxiety_disorder 195\n",
      "Bipolar_disorder 14\n",
      "Depression 382\n",
      "Epilepsy 25\n",
      "Multiple_sclerosis 11\n",
      "Obsessive_compulsive_disorder 6\n",
      "Parkinson_disease 9\n",
      "post_traumatic_stress_disorder 11\n",
      "Schizophrenia 4\n",
      "Sleep_disorder 137\n",
      "Stroke 75\n",
      "['hypertension', 'renal_failure', 'obesity', 'hyperlipidemia', 'ischemic_heart_disease', 'Anxiety_disorder', 'Depression', 'Sleep_disorder']\n"
     ]
    }
   ],
   "source": [
    "# number of subjects with disease\n",
    "common_diseases = df_dis.columns[1:].tolist()\n",
    "brain_disorders = df_brain_disorder.columns[1:].tolist()\n",
    "# diseases with more than 10 subjects\n",
    "dis_selected = []\n",
    "for dis in common_diseases + brain_disorders:\n",
    "    print(dis, df_new[dis].sum())\n",
    "    if df_new[dis].sum() > 100:\n",
    "        dis_selected.append(dis)\n",
    "print(dis_selected)"
   ],
   "metadata": {
    "collapsed": false,
    "ExecuteTime": {
     "end_time": "2024-01-24T08:23:40.282111100Z",
     "start_time": "2024-01-24T08:23:40.272888900Z"
    }
   },
   "id": "6ae8f0cf5e137c10",
   "execution_count": 15
  },
  {
   "cell_type": "code",
   "outputs": [],
   "source": [
    "# select diseases with more than 100 subjects\n",
    "biomarkers = df_biomarkers.columns[1:].tolist()\n",
    "df_new = df_new[['Eid'] + biomarkers + dis_selected].copy()"
   ],
   "metadata": {
    "collapsed": false,
    "ExecuteTime": {
     "end_time": "2024-01-24T08:23:40.291673400Z",
     "start_time": "2024-01-24T08:23:40.282111100Z"
    }
   },
   "id": "c1f5359a8aa67725",
   "execution_count": 16
  },
  {
   "cell_type": "code",
   "outputs": [],
   "source": [
    "df_new.to_csv('results/data_t2_biomarker_dis_norep.csv', index=False)"
   ],
   "metadata": {
    "collapsed": false,
    "ExecuteTime": {
     "end_time": "2024-01-24T08:23:40.324561300Z",
     "start_time": "2024-01-24T08:23:40.287674100Z"
    }
   },
   "id": "724ecef497df795",
   "execution_count": 17
  },
  {
   "cell_type": "code",
   "outputs": [],
   "source": [],
   "metadata": {
    "collapsed": false,
    "ExecuteTime": {
     "end_time": "2024-01-24T08:23:40.324561300Z",
     "start_time": "2024-01-24T08:23:40.305022600Z"
    }
   },
   "id": "3c2c0d0919835237",
   "execution_count": 17
  }
 ],
 "metadata": {
  "kernelspec": {
   "display_name": "Python 3",
   "language": "python",
   "name": "python3"
  },
  "language_info": {
   "codemirror_mode": {
    "name": "ipython",
    "version": 2
   },
   "file_extension": ".py",
   "mimetype": "text/x-python",
   "name": "python",
   "nbconvert_exporter": "python",
   "pygments_lexer": "ipython2",
   "version": "2.7.6"
  }
 },
 "nbformat": 4,
 "nbformat_minor": 5
}
