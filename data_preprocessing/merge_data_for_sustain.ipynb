{
 "cells": [
  {
   "cell_type": "code",
   "id": "initial_id",
   "metadata": {
    "collapsed": true
   },
   "source": [
    "import pandas as pd"
   ],
   "outputs": [],
   "execution_count": null
  },
  {
   "cell_type": "code",
   "source": [
    "df = pd.read_csv('data/data_balanced/data_t2_idp_covars_balanced_norep.csv')\n",
    "df_new = df[['Eid']].copy()"
   ],
   "metadata": {
    "collapsed": false
   },
   "id": "8b0853457b2f43b6",
   "outputs": [],
   "execution_count": null
  },
  {
   "cell_type": "code",
   "source": [
    "df_biomarkers = pd.read_csv('data/data_preprocessed/biomarkers.csv')\n",
    "# common diseases\n",
    "df_dis = pd.read_csv('data/data_preprocessed/common_disease.csv')\n",
    "df_brain_disorder = pd.read_csv('data/data_brain_disorder_all.csv')"
   ],
   "metadata": {
    "collapsed": false
   },
   "id": "dfa50bd6b6d64dae",
   "outputs": [],
   "execution_count": null
  },
  {
   "cell_type": "code",
   "source": [
    "df_new = pd.merge(df_new, df_biomarkers, on='Eid', how='left')\n",
    "df_new = pd.merge(df_new, df_dis, on='Eid', how='left')\n",
    "df_new = pd.merge(df_new, df_brain_disorder, on='Eid', how='left')"
   ],
   "metadata": {
    "collapsed": false
   },
   "id": "326b3c1a391e3fb8",
   "outputs": [],
   "execution_count": null
  },
  {
   "cell_type": "code",
   "source": [
    "# number and frequency of missing values for each column\n",
    "df_new.isnull().sum() / df_new.shape[0] * 100"
   ],
   "metadata": {
    "collapsed": false
   },
   "id": "d9d3c3f2206665ae",
   "outputs": [],
   "execution_count": null
  },
  {
   "cell_type": "code",
   "source": [
    "# number of subjects with disease\n",
    "common_diseases = df_dis.columns[1:].tolist()\n",
    "brain_disorders = df_brain_disorder.columns[1:].tolist()\n",
    "# diseases with more than 10 subjects\n",
    "dis_selected = []\n",
    "for dis in common_diseases + brain_disorders:\n",
    "    print(dis, df_new[dis].sum())\n",
    "    if df_new[dis].sum() > 100:\n",
    "        dis_selected.append(dis)\n",
    "print(dis_selected)"
   ],
   "metadata": {
    "collapsed": false
   },
   "id": "6ae8f0cf5e137c10",
   "outputs": [],
   "execution_count": null
  },
  {
   "cell_type": "code",
   "source": [
    "# select diseases with more than 100 subjects\n",
    "biomarkers = df_biomarkers.columns[1:].tolist()\n",
    "df_new = df_new[['Eid'] + biomarkers + dis_selected].copy()"
   ],
   "metadata": {
    "collapsed": false
   },
   "id": "c1f5359a8aa67725",
   "outputs": [],
   "execution_count": null
  },
  {
   "cell_type": "code",
   "source": [
    "df_new.to_csv('results/data_t2_biomarker_dis_norep.csv', index=False)"
   ],
   "metadata": {
    "collapsed": false
   },
   "id": "724ecef497df795",
   "outputs": [],
   "execution_count": null
  },
  {
   "cell_type": "code",
   "source": [],
   "metadata": {
    "collapsed": false
   },
   "id": "3c2c0d0919835237",
   "outputs": [],
   "execution_count": null
  }
 ],
 "metadata": {
  "kernelspec": {
   "display_name": "Python 3",
   "language": "python",
   "name": "python3"
  },
  "language_info": {
   "codemirror_mode": {
    "name": "ipython",
    "version": 2
   },
   "file_extension": ".py",
   "mimetype": "text/x-python",
   "name": "python",
   "nbconvert_exporter": "python",
   "pygments_lexer": "ipython2",
   "version": "2.7.6"
  }
 },
 "nbformat": 4,
 "nbformat_minor": 5
}
