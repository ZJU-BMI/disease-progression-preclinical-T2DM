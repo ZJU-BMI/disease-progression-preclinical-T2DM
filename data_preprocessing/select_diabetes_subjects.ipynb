{
 "cells": [
  {
   "cell_type": "code",
   "execution_count": 6,
   "id": "initial_id",
   "metadata": {
    "collapsed": true,
    "ExecuteTime": {
     "end_time": "2024-01-08T08:56:02.301865800Z",
     "start_time": "2024-01-08T08:56:02.293196400Z"
    }
   },
   "outputs": [],
   "source": [
    "import pandas as pd\n",
    "import numpy as np"
   ]
  },
  {
   "cell_type": "code",
   "outputs": [],
   "source": [
    "# ICD10 codes for T1DM, T2DM\n",
    "icd10_t1dm = ['E10']\n",
    "\n",
    "icd10_t2dm = ['E11']\n",
    "\n",
    "icd1_other_dm = ['E12', 'E13', 'E14']"
   ],
   "metadata": {
    "collapsed": false,
    "ExecuteTime": {
     "end_time": "2024-01-08T08:47:56.910462500Z",
     "start_time": "2024-01-08T08:47:56.894693200Z"
    }
   },
   "id": "1eab07683cb66b88",
   "execution_count": 2
  },
  {
   "cell_type": "code",
   "outputs": [],
   "source": [
    "# self-reported diabetes codes\n",
    "sr_t1dm = [1222]\n",
    "\n",
    "sr_t2dm = [1223]\n",
    "\n",
    "sr_other_dm = [1221, 1521]\n",
    "\n",
    "sr_alltype_dm = [1220]"
   ],
   "metadata": {
    "collapsed": false,
    "ExecuteTime": {
     "end_time": "2024-01-08T09:09:31.244979500Z",
     "start_time": "2024-01-08T09:09:31.223169700Z"
    }
   },
   "id": "fc5e045e219c613d",
   "execution_count": 17
  },
  {
   "cell_type": "code",
   "outputs": [],
   "source": [
    "# read ICD10 codes and self-reported codes for all subjects\n",
    "df_icd = pd.read_csv('data/main_data_icd10.csv', low_memory=False)\n",
    "df_icd_times = pd.read_csv('data/time_icd10.csv', low_memory=False)\n",
    "df_noncancer = pd.read_csv('data/self_reported_noncancer.csv', low_memory=False)\n",
    "df_noncancer_times = pd.read_csv('data/self_reported_noncancer_times.csv', low_memory=False)"
   ],
   "metadata": {
    "collapsed": false,
    "ExecuteTime": {
     "end_time": "2024-01-08T08:54:19.030540Z",
     "start_time": "2024-01-08T08:53:45.642396900Z"
    }
   },
   "id": "8ee074ac2c571555",
   "execution_count": 4
  },
  {
   "cell_type": "code",
   "outputs": [
    {
     "name": "stdout",
     "output_type": "stream",
     "text": [
      "True\n"
     ]
    }
   ],
   "source": [
    "# check Eid for df_icd and df_noncancer\n",
    "print(df_icd['Eid'].equals(df_noncancer['Eid']))"
   ],
   "metadata": {
    "collapsed": false,
    "ExecuteTime": {
     "end_time": "2024-01-08T08:55:09.858153800Z",
     "start_time": "2024-01-08T08:55:09.843727100Z"
    }
   },
   "id": "dd174264f18e2479",
   "execution_count": 5
  },
  {
   "cell_type": "code",
   "outputs": [],
   "source": [
    "# codes to numpy\n",
    "icd_codes = df_icd.iloc[:, 1:].to_numpy()\n",
    "icd_code_times = df_icd_times.iloc[:, 1:].to_numpy()\n",
    "noncancers_codes = df_noncancer.iloc[:, 1:].to_numpy()\n",
    "noncancers_code_times = df_noncancer_times.iloc[:, 1:].to_numpy()\n",
    "# disease marker for t1dm, t2dm, other dm\n",
    "dis_marker = np.zeros([len(icd_codes), 4], dtype=np.int32)\n",
    "dis_date = np.zeros([len(icd_codes), 4], dtype=float)"
   ],
   "metadata": {
    "collapsed": false,
    "ExecuteTime": {
     "end_time": "2024-01-08T09:08:26.043172800Z",
     "start_time": "2024-01-08T09:08:23.803551900Z"
    }
   },
   "id": "827670919d49ce1",
   "execution_count": 15
  },
  {
   "cell_type": "code",
   "outputs": [],
   "source": [
    "from datetime import datetime\n",
    "\n",
    "# search for t1dm, t2dm, other dm from icd_codes\n",
    "for i in range(len(icd_codes)):\n",
    "    icd_i = icd_codes[i]\n",
    "    # check icd_codes\n",
    "    for t, icd_code in enumerate(icd_i):\n",
    "        # if nan detected, just break (no more codes for this subject)\n",
    "        if isinstance(icd_code, str) is False:\n",
    "            break\n",
    "        # 0. t1dm\n",
    "        for x in icd10_t1dm:\n",
    "            if icd_code.startswith(x):\n",
    "                dis_marker[i][0] = 1\n",
    "                if str(icd_code_times[i][t]) != 'nan':\n",
    "                    dt = datetime.strptime(icd_code_times[i][t], '%d/%m/%Y')\n",
    "                    dis_date[i][0] = dt.timestamp()\n",
    "                    break\n",
    "                \n",
    "        # 1. t2dm\n",
    "        for x in icd10_t2dm:\n",
    "            if icd_code.startswith(x):\n",
    "                dis_marker[i][1] = 1\n",
    "                if str(icd_code_times[i][t]) != 'nan':\n",
    "                    dt = datetime.strptime(icd_code_times[i][t], '%d/%m/%Y')\n",
    "                    dis_date[i][1] = dt.timestamp()\n",
    "                    break\n",
    "                \n",
    "        # 2. other dm\n",
    "        for x in icd1_other_dm:\n",
    "            if icd_code.startswith(x):\n",
    "                dis_marker[i][2] = 1\n",
    "                if str(icd_code_times[i][t]) != 'nan':\n",
    "                    dt = datetime.strptime(icd_code_times[i][t], '%d/%m/%Y')\n",
    "                    dis_date[i][2] = dt.timestamp()\n",
    "                    break"
   ],
   "metadata": {
    "collapsed": false,
    "ExecuteTime": {
     "end_time": "2024-01-08T09:08:39.607374Z",
     "start_time": "2024-01-08T09:08:28.459337800Z"
    }
   },
   "id": "453646a535d2465a",
   "execution_count": 16
  },
  {
   "cell_type": "code",
   "outputs": [],
   "source": [
    "# search for t1dm, t2dm, other dm from noncancers_codes\n",
    "from math import ceil\n",
    "# check non-cancer codes\n",
    "for i in range(len(icd_codes)):\n",
    "    noncancers_i = noncancers_codes[i]\n",
    "    for t, code in enumerate(noncancers_i):\n",
    "        if code == np.nan:\n",
    "            continue\n",
    "        # 0. t1dm\n",
    "        if dis_marker[i][0] == 0:\n",
    "            for x in sr_t1dm:\n",
    "                if code == x:\n",
    "                    dis_marker[i][0] = 1\n",
    "                    dt = 0.\n",
    "                    if not np.isnan(noncancers_code_times[i][t]) and noncancers_code_times[i][t] != -1:\n",
    "                        yr = int(noncancers_code_times[i][t])\n",
    "                        mon = max(1, ceil(int((noncancers_code_times[i][t] - int(noncancers_code_times[i][t])) * 12))) \n",
    "                        if yr > 1970:\n",
    "                            dt = datetime(year=yr, month=mon, day=1).timestamp()\n",
    "                    dis_date[i][0] = dt\n",
    "                    break\n",
    "                \n",
    "        # 1. t2dm\n",
    "        if dis_marker[i][1] == 0:\n",
    "            for x in sr_t2dm:\n",
    "                if code == x:\n",
    "                    dis_marker[i][1] = 1\n",
    "                    dt = 0.\n",
    "                    if not np.isnan(noncancers_code_times[i][t]) and noncancers_code_times[i][t] != -1:\n",
    "                        yr = int(noncancers_code_times[i][t])\n",
    "                        mon = max(1, ceil(int((noncancers_code_times[i][t] - int(noncancers_code_times[i][t])) * 12))) \n",
    "                        if yr > 1970:\n",
    "                            dt = datetime(year=yr, month=mon, day=1).timestamp()\n",
    "                    dis_date[i][1] = dt\n",
    "                    break\n",
    "        \n",
    "        # 3. other dm\n",
    "        if dis_marker[i][2] == 0:\n",
    "            for x in sr_other_dm:\n",
    "                if code == x:\n",
    "                    dis_marker[i][2] = 1\n",
    "                    dt = 0.\n",
    "                    if not np.isnan(noncancers_code_times[i][t]) and noncancers_code_times[i][t] != -1:\n",
    "                        yr = int(noncancers_code_times[i][t])\n",
    "                        mon = max(1, ceil(int((noncancers_code_times[i][t] - int(noncancers_code_times[i][t])) * 12))) \n",
    "                        if yr > 1970:\n",
    "                            dt = datetime(year=yr, month=mon, day=1).timestamp()\n",
    "                    dis_date[i][2] = dt\n",
    "                    break\n",
    "                    \n",
    "        # 4. all dm\n",
    "        if dis_marker[i][3] == 0:\n",
    "            for x in sr_alltype_dm:\n",
    "                if code == x:\n",
    "                    dis_marker[i][3] = 1\n",
    "                    dt = 0.\n",
    "                    if not np.isnan(noncancers_code_times[i][t]) and noncancers_code_times[i][t] != -1:\n",
    "                        yr = int(noncancers_code_times[i][t])\n",
    "                        mon = max(1, ceil(int((noncancers_code_times[i][t] - int(noncancers_code_times[i][t])) * 12))) \n",
    "                        if yr > 1970:\n",
    "                            dt = datetime(year=yr, month=mon, day=1).timestamp()\n",
    "                    dis_date[i][3] = dt\n",
    "                    break"
   ],
   "metadata": {
    "collapsed": false,
    "ExecuteTime": {
     "end_time": "2024-01-08T09:12:21.280809900Z",
     "start_time": "2024-01-08T09:09:38.878555Z"
    }
   },
   "id": "c751c81863d56b51",
   "execution_count": 18
  },
  {
   "cell_type": "code",
   "outputs": [],
   "source": [
    "# save disease marker and disease date\n",
    "df_dis_marker = pd.DataFrame(dis_marker, columns=['t1dm', 't2dm', 'other_dm', 'all_dm'])\n",
    "df_dis_date = pd.DataFrame(dis_date, columns=['t1dm', 't2dm', 'other_dm', 'all_dm'])\n",
    "# add Eid\n",
    "df_dis_marker.insert(0, 'Eid', df_icd['Eid'])\n",
    "df_dis_date.insert(0, 'Eid', df_icd['Eid'])"
   ],
   "metadata": {
    "collapsed": false,
    "ExecuteTime": {
     "end_time": "2024-01-08T09:13:52.162202700Z",
     "start_time": "2024-01-08T09:13:52.135073200Z"
    }
   },
   "id": "a8d3f68b1c073f28",
   "execution_count": 19
  },
  {
   "cell_type": "code",
   "outputs": [
    {
     "name": "stdout",
     "output_type": "stream",
     "text": [
      "t1dm:  5029\n",
      "t2dm:  41783\n",
      "other dm:  6433\n",
      "all dm:  22966\n"
     ]
    }
   ],
   "source": [
    "# count number of subjects with t1dm, t2dm, other dm\n",
    "print('t1dm: ', np.sum(dis_marker[:, 0]))\n",
    "print('t2dm: ', np.sum(dis_marker[:, 1]))\n",
    "print('other dm: ', np.sum(dis_marker[:, 2]))\n",
    "print('all dm: ', np.sum(dis_marker[:, 3]))"
   ],
   "metadata": {
    "collapsed": false,
    "ExecuteTime": {
     "end_time": "2024-01-08T09:14:08.184803500Z",
     "start_time": "2024-01-08T09:14:08.151310200Z"
    }
   },
   "id": "5fd94d7236b6701a",
   "execution_count": 20
  },
  {
   "cell_type": "code",
   "outputs": [],
   "source": [
    "# save to csv file to data/data_preprocessed\n",
    "df_dis_marker.to_csv('data/data_preprocessed/diabetes_marker.csv', index=False)\n",
    "df_dis_date.to_csv('data/data_preprocessed/diabetes_date.csv', index=False)"
   ],
   "metadata": {
    "collapsed": false,
    "ExecuteTime": {
     "end_time": "2024-01-08T09:22:56.205417200Z",
     "start_time": "2024-01-08T09:22:53.771672400Z"
    }
   },
   "id": "beb671ab5a53eaa7",
   "execution_count": 24
  },
  {
   "cell_type": "code",
   "outputs": [
    {
     "name": "stdout",
     "output_type": "stream",
     "text": [
      "9781\n"
     ]
    }
   ],
   "source": [
    "# remove subejects with other dm\n",
    "# remove subjects with other dm, or all dm = 1, t1dm = 0, and t2dm = 0\n",
    "subj_other_dm = df_dis_marker[(df_dis_marker['other_dm'] == 1) | ((df_dis_marker['all_dm'] == 1) & (df_dis_marker['t1dm'] == 0) & (df_dis_marker['t2dm'] == 0))]['Eid'].to_numpy()\n",
    "print(len(subj_other_dm))"
   ],
   "metadata": {
    "collapsed": false,
    "ExecuteTime": {
     "end_time": "2024-01-08T09:26:00.672518500Z",
     "start_time": "2024-01-08T09:26:00.652186100Z"
    }
   },
   "id": "1f5ef64243071221",
   "execution_count": 26
  },
  {
   "cell_type": "code",
   "outputs": [
    {
     "name": "stdout",
     "output_type": "stream",
     "text": [
      "t1dm:  3781\n",
      "t2dm:  36899\n",
      "other dm:  0\n"
     ]
    }
   ],
   "source": [
    "# remove subjects with other dm\n",
    "df_dis_marker_removed_other_dm = df_dis_marker[~df_dis_marker['Eid'].isin(subj_other_dm)]\n",
    "df_dis_date_removed_other_dm = df_dis_date[~df_dis_date['Eid'].isin(subj_other_dm)]\n",
    "# count for t1dm, t2dm, other dm\n",
    "print('t1dm: ', np.sum(df_dis_marker_removed_other_dm['t1dm']))\n",
    "print('t2dm: ', np.sum(df_dis_marker_removed_other_dm['t2dm']))\n",
    "print('other dm: ', np.sum(df_dis_marker_removed_other_dm['other_dm']))"
   ],
   "metadata": {
    "collapsed": false,
    "ExecuteTime": {
     "end_time": "2024-01-08T09:27:01.698058700Z",
     "start_time": "2024-01-08T09:27:01.634374400Z"
    }
   },
   "id": "d319cfbef0a25fc0",
   "execution_count": 28
  },
  {
   "cell_type": "code",
   "outputs": [],
   "source": [
    "# save to csv file to data/data_preprocessed E10, E11\n",
    "df_dis_marker_removed_other_dm.to_csv('data/data_preprocessed/diabetes_marker_removed_other_dm.csv', index=False)\n",
    "df_dis_date_removed_other_dm.to_csv('data/data_preprocessed/diabetes_date_removed_other_dm.csv', index=False)"
   ],
   "metadata": {
    "collapsed": false,
    "ExecuteTime": {
     "end_time": "2024-01-08T09:27:10.737202400Z",
     "start_time": "2024-01-08T09:27:08.392756700Z"
    }
   },
   "id": "167603efa3f30b26",
   "execution_count": 29
  },
  {
   "cell_type": "code",
   "outputs": [
    {
     "name": "stdout",
     "output_type": "stream",
     "text": [
      "2804\n"
     ]
    }
   ],
   "source": [
    "# remove subjects with both t1dm and t2dm\n",
    "subj_both_dm = df_dis_marker_removed_other_dm[(df_dis_marker_removed_other_dm['t1dm'] == 1) & (df_dis_marker_removed_other_dm['t2dm'] == 1)]['Eid'].to_numpy()\n",
    "print(len(subj_both_dm))"
   ],
   "metadata": {
    "collapsed": false,
    "ExecuteTime": {
     "end_time": "2024-01-08T09:31:48.471890800Z",
     "start_time": "2024-01-08T09:31:48.434868Z"
    }
   },
   "id": "ef67f46be07e44ab",
   "execution_count": 30
  },
  {
   "cell_type": "code",
   "outputs": [
    {
     "name": "stdout",
     "output_type": "stream",
     "text": [
      "t1dm:  977\n",
      "t2dm:  34095\n"
     ]
    }
   ],
   "source": [
    "# remove subjects with both t1dm and t2dm\n",
    "df_dis_marker_removed_both_dm = df_dis_marker_removed_other_dm[~df_dis_marker_removed_other_dm['Eid'].isin(subj_both_dm)]\n",
    "df_dis_date_removed_both_dm = df_dis_date_removed_other_dm[~df_dis_date_removed_other_dm['Eid'].isin(subj_both_dm)]\n",
    "# count for t1dm, t2dm, other dm\n",
    "print('t1dm: ', np.sum(df_dis_marker_removed_both_dm['t1dm']))\n",
    "print('t2dm: ', np.sum(df_dis_marker_removed_both_dm['t2dm']))"
   ],
   "metadata": {
    "collapsed": false,
    "ExecuteTime": {
     "end_time": "2024-01-08T09:31:59.175421Z",
     "start_time": "2024-01-08T09:31:59.114342800Z"
    }
   },
   "id": "4bbf99441625af14",
   "execution_count": 31
  },
  {
   "cell_type": "code",
   "outputs": [],
   "source": [
    "# save to csv file to data/data_preprocessed\n",
    "df_dis_marker_removed_both_dm.to_csv('data/data_preprocessed/diabetes_marker_removed_both_dm.csv', index=False)\n",
    "df_dis_date_removed_both_dm.to_csv('data/data_preprocessed/diabetes_date_removed_both_dm.csv', index=False)"
   ],
   "metadata": {
    "collapsed": false,
    "ExecuteTime": {
     "end_time": "2024-01-08T09:32:35.125811300Z",
     "start_time": "2024-01-08T09:32:32.913505300Z"
    }
   },
   "id": "d238685340576c12",
   "execution_count": 32
  },
  {
   "cell_type": "code",
   "outputs": [],
   "source": [
    "# subjects with brain IDPs \n",
    "df_idps = pd.read_csv('data/data_587idp_v2.csv')"
   ],
   "metadata": {
    "collapsed": false,
    "ExecuteTime": {
     "end_time": "2024-01-08T10:58:36.941025Z",
     "start_time": "2024-01-08T10:58:33.648011Z"
    }
   },
   "id": "afdd8ac8aa52030b",
   "execution_count": 33
  },
  {
   "cell_type": "code",
   "outputs": [
    {
     "name": "stdout",
     "output_type": "stream",
     "text": [
      "42802\n"
     ]
    }
   ],
   "source": [
    "# merge with df_dis_marker\n",
    "df_dis_with_idps = pd.merge(df_dis_marker_removed_both_dm, df_idps, on='Eid', how='inner')\n",
    "print(len(df_dis_with_idps))"
   ],
   "metadata": {
    "collapsed": false,
    "ExecuteTime": {
     "end_time": "2024-01-08T11:03:03.779080100Z",
     "start_time": "2024-01-08T11:03:03.445737900Z"
    }
   },
   "id": "4636b3a7822daaf7",
   "execution_count": 41
  },
  {
   "cell_type": "code",
   "outputs": [
    {
     "name": "stdout",
     "output_type": "stream",
     "text": [
      "t1dm:  78\n",
      "t2dm:  1752\n",
      "other dm:  0\n"
     ]
    }
   ],
   "source": [
    "# count for t1dm, t2dm, other dm\n",
    "print('t1dm with idps: ', np.sum(df_dis_with_idps['t1dm']))\n",
    "print('t2dm with idps: ', np.sum(df_dis_with_idps['t2dm']))\n",
    "# print('other dm: ', np.sum(df_dis_with_idps['other_dm']))"
   ],
   "metadata": {
    "collapsed": false,
    "ExecuteTime": {
     "end_time": "2024-01-08T11:03:04.752614900Z",
     "start_time": "2024-01-08T11:03:04.728350400Z"
    }
   },
   "id": "4b23a226b0a1a77",
   "execution_count": 42
  },
  {
   "cell_type": "code",
   "outputs": [],
   "source": [],
   "metadata": {
    "collapsed": false
   },
   "id": "6d3659f062349804"
  }
 ],
 "metadata": {
  "kernelspec": {
   "display_name": "Python 3",
   "language": "python",
   "name": "python3"
  },
  "language_info": {
   "codemirror_mode": {
    "name": "ipython",
    "version": 2
   },
   "file_extension": ".py",
   "mimetype": "text/x-python",
   "name": "python",
   "nbconvert_exporter": "python",
   "pygments_lexer": "ipython2",
   "version": "2.7.6"
  }
 },
 "nbformat": 4,
 "nbformat_minor": 5
}
