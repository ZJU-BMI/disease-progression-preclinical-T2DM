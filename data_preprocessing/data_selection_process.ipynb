{
 "cells": [
  {
   "cell_type": "code",
   "id": "initial_id",
   "metadata": {
    "collapsed": true,
    "ExecuteTime": {
     "end_time": "2024-09-20T08:14:20.340337Z",
     "start_time": "2024-09-20T08:14:19.904950Z"
    }
   },
   "source": "import pandas as pd",
   "outputs": [],
   "execution_count": 1
  },
  {
   "metadata": {
    "ExecuteTime": {
     "end_time": "2024-09-20T08:14:20.958370Z",
     "start_time": "2024-09-20T08:14:20.863568Z"
    }
   },
   "cell_type": "code",
   "source": "df = pd.read_csv('data/data_preprocessed/diabetes_marker.csv')",
   "id": "950c431a92e6552a",
   "outputs": [],
   "execution_count": 2
  },
  {
   "metadata": {
    "ExecuteTime": {
     "end_time": "2024-09-20T08:14:21.400378Z",
     "start_time": "2024-09-20T08:14:21.389785Z"
    }
   },
   "cell_type": "code",
   "source": "df['t2dm'].value_counts()",
   "id": "77e4b84b41594260",
   "outputs": [
    {
     "data": {
      "text/plain": [
       "t2dm\n",
       "0    460628\n",
       "1     41783\n",
       "Name: count, dtype: int64"
      ]
     },
     "execution_count": 3,
     "metadata": {},
     "output_type": "execute_result"
    }
   ],
   "execution_count": 3
  },
  {
   "metadata": {
    "ExecuteTime": {
     "end_time": "2024-09-20T08:14:23.785910Z",
     "start_time": "2024-09-20T08:14:23.686129Z"
    }
   },
   "cell_type": "code",
   "source": [
    "# remove other dm, only keep t2dm\n",
    "df2 = pd.read_csv('data/data_preprocessed/diabetes_marker_removed_other_dm.csv')\n",
    "df2 = df2[df2['t1dm'] == 0]\n",
    "print('removed number of other dm', len(df) - len(df2))\n",
    "print(df2['t2dm'].value_counts())"
   ],
   "id": "cab8a3dd0986ae6",
   "outputs": [
    {
     "name": "stdout",
     "output_type": "stream",
     "text": [
      "removed number of other dm 13562\n",
      "t2dm\n",
      "0    454754\n",
      "1     34095\n",
      "Name: count, dtype: int64\n"
     ]
    }
   ],
   "execution_count": 4
  },
  {
   "metadata": {
    "ExecuteTime": {
     "end_time": "2024-09-20T08:14:26.447539Z",
     "start_time": "2024-09-20T08:14:24.569984Z"
    }
   },
   "cell_type": "code",
   "source": [
    "df_dm_biomarker = pd.read_csv('data/imputed/data_t2dm_biomarker_imputed.csv')\n",
    "print(df_dm_biomarker['t2dm'].value_counts())"
   ],
   "id": "54f5f3fe56e1301",
   "outputs": [
    {
     "name": "stdout",
     "output_type": "stream",
     "text": [
      "t2dm\n",
      "0    454754\n",
      "1     34095\n",
      "Name: count, dtype: int64\n"
     ]
    }
   ],
   "execution_count": 5
  },
  {
   "metadata": {
    "ExecuteTime": {
     "end_time": "2024-09-20T08:14:26.589771Z",
     "start_time": "2024-09-20T08:14:26.449552Z"
    }
   },
   "cell_type": "code",
   "source": [
    "# remove subjects with insulin medication\n",
    "df_ins = pd.read_csv('data/medication/insulin.csv')\n",
    "eid_used_ins = df_ins[df_ins['insulin'] == 1]['Eid'].tolist()\n",
    "df_dm_biomarker1 = df_dm_biomarker[~df_dm_biomarker['Eid'].isin(eid_used_ins)]\n",
    "print('number of subjects removed: ', len(df_dm_biomarker) - len(df_dm_biomarker1))\n",
    "print('number of subjects after removing insulin medication: ', len(df_dm_biomarker))\n",
    "print(df_dm_biomarker1['t2dm'].value_counts())"
   ],
   "id": "7e52911bcb20da1",
   "outputs": [
    {
     "name": "stdout",
     "output_type": "stream",
     "text": [
      "number of subjects removed:  1622\n",
      "number of subjects after removing insulin medication:  488849\n",
      "t2dm\n",
      "0    454628\n",
      "1     32599\n",
      "Name: count, dtype: int64\n"
     ]
    }
   ],
   "execution_count": 6
  },
  {
   "metadata": {
    "ExecuteTime": {
     "end_time": "2024-09-20T08:14:27.646286Z",
     "start_time": "2024-09-20T08:14:27.445182Z"
    }
   },
   "cell_type": "code",
   "source": [
    "df_genetic = pd.read_csv('data/allchr.fam', sep=' ', header=None)\n",
    "df_genetic.columns = ['FID', 'IID', 'PID', 'MID', 'SEX', 'PHENOTYPE']\n",
    "df_dm_biomarker2 = df_dm_biomarker1[df_dm_biomarker1['Eid'].isin(df_genetic['IID'])]\n",
    "print('number of subjects removed: ', len(df_dm_biomarker1) - len(df_dm_biomarker2))\n",
    "print('number of subjects after removing subjects without genetic data: ', len(df_dm_biomarker2))"
   ],
   "id": "d64d2925616239e6",
   "outputs": [
    {
     "name": "stdout",
     "output_type": "stream",
     "text": [
      "number of subjects removed:  14721\n",
      "number of subjects after removing subjects without genetic data:  472506\n"
     ]
    }
   ],
   "execution_count": 7
  },
  {
   "metadata": {
    "ExecuteTime": {
     "end_time": "2024-09-20T08:14:33.117967Z",
     "start_time": "2024-09-20T08:14:28.312422Z"
    }
   },
   "cell_type": "code",
   "source": [
    "# remove outliers for each biomarker, values > 5 standard deviation\n",
    "biomarkers = df_dm_biomarker.columns[11:].tolist()\n",
    "df_dm_biomarker3 = df_dm_biomarker2.copy()\n",
    "for biomarker in biomarkers:\n",
    "    mean = df_dm_biomarker3[biomarker].mean()\n",
    "    std = df_dm_biomarker3[biomarker].std()\n",
    "    df_dm_biomarker3 = df_dm_biomarker3[abs(df_dm_biomarker3[biomarker] - mean) < 5 * std]\n",
    "print('number of subjects removed: ', len(df_dm_biomarker2) - len(df_dm_biomarker3))\n",
    "print('number of subjects after removing outliers: ', len(df_dm_biomarker3))"
   ],
   "id": "a8224a81f4d3be70",
   "outputs": [
    {
     "name": "stdout",
     "output_type": "stream",
     "text": [
      "number of subjects removed:  39829\n",
      "number of subjects after removing outliers:  432677\n"
     ]
    }
   ],
   "execution_count": 8
  },
  {
   "metadata": {
    "ExecuteTime": {
     "end_time": "2024-09-20T08:14:33.692643Z",
     "start_time": "2024-09-20T08:14:33.118981Z"
    }
   },
   "cell_type": "code",
   "source": [
    "df_time_diff = pd.read_csv('data/time/data_t2dm_time_diff.csv')\n",
    "# keep subjects with dm_type and controls\n",
    "Eids_dm_type = df_time_diff[df_time_diff['dm_type'].isin(['control', 'pre'])]['Eid'].tolist()\n",
    "df_dm_biomarker4 = df_dm_biomarker3[df_dm_biomarker3['Eid'].isin(Eids_dm_type)]\n",
    "print('number of subjects removed: ', len(df_dm_biomarker3) - len(df_dm_biomarker4))\n",
    "print('number of subjects after keeping dm_type: ', len(df_dm_biomarker4))\n",
    "# removed subjects Eid\n",
    "Eids_removed = df_dm_biomarker3[~df_dm_biomarker3['Eid'].isin(Eids_dm_type)]['Eid'].tolist()\n",
    "print('len removed subjects Eid: ', len(Eids_removed))\n",
    "df_removed = df_dm_biomarker3[~df_dm_biomarker3['Eid'].isin(Eids_dm_type)]\n",
    "df_removed.to_csv('results/removed_subjects.csv', index=False)"
   ],
   "id": "552d106aa73dcd6",
   "outputs": [
    {
     "name": "stdout",
     "output_type": "stream",
     "text": [
      "number of subjects removed:  3844\n",
      "number of subjects after keeping dm_type:  428833\n",
      "len removed subjects Eid:  3844\n"
     ]
    }
   ],
   "execution_count": 9
  },
  {
   "metadata": {
    "ExecuteTime": {
     "end_time": "2024-09-20T08:14:33.928694Z",
     "start_time": "2024-09-20T08:14:33.693647Z"
    }
   },
   "cell_type": "code",
   "source": [
    "df_dm_biomarker4['HbA1c_prec'] = (df_dm_biomarker4['HbA1c'] * 0.09148) + 2.152\n",
    "df_dm_biomarker5 = df_dm_biomarker4[~((df_dm_biomarker4['t2dm'] == 0) & (df_dm_biomarker4['HbA1c_prec'] >= 6.5))]\n",
    "df_dm_biomarker5 = df_dm_biomarker5[~((df_dm_biomarker4['t2dm'] == 0) & (df_dm_biomarker5['Glucose'] >= 7.0))]\n",
    "print('number of subjects removed: ', len(df_dm_biomarker4) - len(df_dm_biomarker5))\n",
    "print('number of subjects after removing subjects with HbA1c >= 6.5 and Glucose >= 7.0: ', len(df_dm_biomarker5))"
   ],
   "id": "39d22ff87c29348",
   "outputs": [
    {
     "name": "stderr",
     "output_type": "stream",
     "text": [
      "C:\\Users\\casdg\\AppData\\Local\\Temp\\ipykernel_130280\\3841280061.py:1: SettingWithCopyWarning: \n",
      "A value is trying to be set on a copy of a slice from a DataFrame.\n",
      "Try using .loc[row_indexer,col_indexer] = value instead\n",
      "\n",
      "See the caveats in the documentation: https://pandas.pydata.org/pandas-docs/stable/user_guide/indexing.html#returning-a-view-versus-a-copy\n",
      "  df_dm_biomarker4['HbA1c_prec'] = (df_dm_biomarker4['HbA1c'] * 0.09148) + 2.152\n",
      "C:\\Users\\casdg\\AppData\\Local\\Temp\\ipykernel_130280\\3841280061.py:3: UserWarning: Boolean Series key will be reindexed to match DataFrame index.\n",
      "  df_dm_biomarker5 = df_dm_biomarker5[~((df_dm_biomarker4['t2dm'] == 0) & (df_dm_biomarker5['Glucose'] >= 7.0))]\n"
     ]
    },
    {
     "name": "stdout",
     "output_type": "stream",
     "text": [
      "number of subjects removed:  5993\n",
      "number of subjects after removing subjects with HbA1c >= 6.5 and Glucose >= 7.0:  422840\n"
     ]
    }
   ],
   "execution_count": 10
  },
  {
   "metadata": {
    "ExecuteTime": {
     "end_time": "2024-09-20T08:14:37.240317Z",
     "start_time": "2024-09-20T08:14:37.235302Z"
    }
   },
   "cell_type": "code",
   "source": "print(df_dm_biomarker5['t2dm'].value_counts())",
   "id": "b58ff5dcd82c63a6",
   "outputs": [
    {
     "name": "stdout",
     "output_type": "stream",
     "text": [
      "t2dm\n",
      "0    402535\n",
      "1     20305\n",
      "Name: count, dtype: int64\n"
     ]
    }
   ],
   "execution_count": 11
  },
  {
   "metadata": {
    "ExecuteTime": {
     "end_time": "2024-09-20T08:19:28.450594Z",
     "start_time": "2024-09-20T08:19:28.226007Z"
    }
   },
   "cell_type": "code",
   "source": [
    "df_anemia = pd.read_csv('data/anemia.csv')\n",
    "eids_with_anemia = df_anemia[df_anemia['anemia_before_baseline'] == 1]['Eid'].tolist()\n",
    "df_dm_biomarker6 = df_dm_biomarker5[~df_dm_biomarker5['Eid'].isin(eids_with_anemia)]\n",
    "print('number of subjects removed: ', len(df_dm_biomarker5) - len(df_dm_biomarker6))\n",
    "print('number of subjects after removing subjects anemia: ', len(df_dm_biomarker6))"
   ],
   "id": "611ea1867bcb62e5",
   "outputs": [
    {
     "name": "stdout",
     "output_type": "stream",
     "text": [
      "number of subjects removed:  226\n",
      "number of subjects after removing subjects anemia:  422614\n"
     ]
    }
   ],
   "execution_count": 12
  },
  {
   "metadata": {
    "ExecuteTime": {
     "end_time": "2024-09-20T08:19:50.935360Z",
     "start_time": "2024-09-20T08:19:50.930100Z"
    }
   },
   "cell_type": "code",
   "source": "print(df_dm_biomarker6['t2dm'].value_counts())",
   "id": "175e6ca3af36898c",
   "outputs": [
    {
     "name": "stdout",
     "output_type": "stream",
     "text": [
      "t2dm\n",
      "0    402337\n",
      "1     20277\n",
      "Name: count, dtype: int64\n"
     ]
    }
   ],
   "execution_count": 13
  },
  {
   "metadata": {
    "ExecuteTime": {
     "end_time": "2024-04-14T07:08:04.440900Z",
     "start_time": "2024-04-14T07:08:04.318309Z"
    }
   },
   "cell_type": "code",
   "source": [
    "# data with Brain MRI IDPs\n",
    "df_brian = pd.read_csv('results/sustain_results_idps.csv')\n",
    "# CMR\n",
    "df_cmr = pd.read_csv('results/sustain_results_cmr.csv')"
   ],
   "id": "f1e21b5118541420",
   "outputs": [],
   "execution_count": 31
  },
  {
   "metadata": {
    "ExecuteTime": {
     "end_time": "2024-04-14T07:08:21.836281Z",
     "start_time": "2024-04-14T07:08:21.831711Z"
    }
   },
   "cell_type": "code",
   "source": "df_brian['t2dm'].value_counts()",
   "id": "2969387f8e750ad0",
   "outputs": [
    {
     "data": {
      "text/plain": [
       "t2dm\n",
       "0    1591\n",
       "1    1134\n",
       "Name: count, dtype: int64"
      ]
     },
     "execution_count": 32,
     "metadata": {},
     "output_type": "execute_result"
    }
   ],
   "execution_count": 32
  },
  {
   "metadata": {
    "ExecuteTime": {
     "end_time": "2024-04-14T07:08:23.414535Z",
     "start_time": "2024-04-14T07:08:23.410696Z"
    }
   },
   "cell_type": "code",
   "source": "df_cmr['t2dm'].value_counts()",
   "id": "c244d22e1ec493e0",
   "outputs": [
    {
     "data": {
      "text/plain": [
       "t2dm\n",
       "0    1192\n",
       "1     855\n",
       "Name: count, dtype: int64"
      ]
     },
     "execution_count": 33,
     "metadata": {},
     "output_type": "execute_result"
    }
   ],
   "execution_count": 33
  },
  {
   "metadata": {},
   "cell_type": "code",
   "outputs": [],
   "execution_count": null,
   "source": "",
   "id": "1420682b7a703e24"
  }
 ],
 "metadata": {
  "kernelspec": {
   "display_name": "Python 3",
   "language": "python",
   "name": "python3"
  },
  "language_info": {
   "codemirror_mode": {
    "name": "ipython",
    "version": 2
   },
   "file_extension": ".py",
   "mimetype": "text/x-python",
   "name": "python",
   "nbconvert_exporter": "python",
   "pygments_lexer": "ipython2",
   "version": "2.7.6"
  }
 },
 "nbformat": 4,
 "nbformat_minor": 5
}
