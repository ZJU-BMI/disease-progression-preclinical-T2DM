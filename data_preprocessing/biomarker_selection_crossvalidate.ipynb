{
 "cells": [
  {
   "cell_type": "code",
   "id": "initial_id",
   "metadata": {
    "collapsed": true
   },
   "source": [
    "import pandas as pd\n",
    "import numpy as np\n",
    "from sklearn.model_selection import train_test_split, StratifiedKFold, KFold\n",
    "import statsmodels.api as sm\n",
    "from scipy.stats import t"
   ],
   "outputs": [],
   "execution_count": null
  },
  {
   "metadata": {},
   "cell_type": "code",
   "source": [
    "dm_type = 'pre'\n",
    "df = pd.read_csv(f'data/data_balanced/data_t2dm_{dm_type}_balanced_no_outliers.csv')\n",
    "# df = pd.read_csv('data/data_balanced/data_t2dm_biomarker_imputed.csv')\n",
    "df_bio_names = pd.read_csv('data/biomarker_field.csv')\n",
    "df_bio_names = df_bio_names[['Biomarker', 'Field', 'Units']]"
   ],
   "id": "f8adcfa886f96e44",
   "outputs": [],
   "execution_count": null
  },
  {
   "metadata": {},
   "cell_type": "code",
   "source": "print(df['t2dm'].value_counts())",
   "id": "c0c0070c4fa5a24b",
   "outputs": [],
   "execution_count": null
  },
  {
   "metadata": {},
   "cell_type": "code",
   "source": [
    "biomarkers = df.columns[11:len(df.columns)]\n",
    "print(biomarkers)"
   ],
   "id": "e95267676e5e3338",
   "outputs": [],
   "execution_count": null
  },
  {
   "metadata": {},
   "cell_type": "code",
   "source": [
    "# z-score normalization\n",
    "from utils import normalize_by_controls\n",
    "df_zscored = normalize_by_controls(df, 't2dm', biomarkers)"
   ],
   "id": "44fce356401d940c",
   "outputs": [],
   "execution_count": null
  },
  {
   "metadata": {},
   "cell_type": "code",
   "source": [
    "# cross validation 10-fold\n",
    "skf = StratifiedKFold(n_splits=10, shuffle=True, random_state=42)"
   ],
   "id": "36084a46c404156a",
   "outputs": [],
   "execution_count": null
  },
  {
   "metadata": {},
   "cell_type": "code",
   "source": [
    "beta = np.zeros((len(biomarkers), 10))\n",
    "p_values = np.ones((len(biomarkers), 10))\n",
    "i = 0\n",
    "for tr_idx, te_idx in skf.split(df_zscored[biomarkers], df_zscored['t2dm']):\n",
    "    df_data = df_zscored.iloc[te_idx]\n",
    "    for j, biomarker in enumerate(biomarkers):\n",
    "        bio = biomarkers[j]\n",
    "        X = np.asarray(df_data[bio])\n",
    "        y = np.asarray(df_data['t2dm'])\n",
    "        X = sm.add_constant(X.reshape(-1, 1))\n",
    "        print(f'fold {i + 1}, biomarker = {bio}')\n",
    "        try:\n",
    "            model = sm.Logit(y, X)\n",
    "            result = model.fit()\n",
    "            p_values[j, i] = result.pvalues[1]\n",
    "            beta[j, i] = result.params[1]\n",
    "        except Exception as e:\n",
    "            print(e)\n",
    "            # except:\n",
    "            #     print('Error')\n",
    "            #     p_values[j, i] = 1\n",
    "            #     beta[j, i] = np.nan\n",
    "    i += 1"
   ],
   "id": "309579a6b9ac26ec",
   "outputs": [],
   "execution_count": null
  },
  {
   "metadata": {},
   "cell_type": "code",
   "source": [
    "# meta beta, se, p-value\n",
    "beta_cv = np.mean(beta, axis=1)\n",
    "se_cv = np.std(beta, axis=1) / np.sqrt(10)\n",
    "# t-value\n",
    "t_stats = beta_cv / (se_cv + 1e-9)\n",
    "# p-value\n",
    "p_values_cv = 2 * (1 - t.cdf(np.abs(t_stats), 10 - 1))"
   ],
   "id": "bd3ba42a63e5ad00",
   "outputs": [],
   "execution_count": null
  },
  {
   "metadata": {},
   "cell_type": "code",
   "source": [
    "# save results\n",
    "df_logit_cv = pd.DataFrame({\n",
    "    'Biomarker': biomarkers, \n",
    "    'Beta': beta_cv, \n",
    "    'SE': se_cv, \n",
    "    't': t_stats, \n",
    "    'p-value': p_values_cv,\n",
    "    'abs_beta': np.abs(beta_cv)\n",
    "}).sort_values(by='abs_beta', ascending=False)\n",
    "df_logit_cv = df_logit_cv.merge(df_bio_names, on='Biomarker', how='left')\n",
    "df_logit_cv.to_csv(f'data/data_balanced/logistic/biomarker_logit_cv_{dm_type}.csv', index=False)"
   ],
   "id": "81913e43ff8f61e0",
   "outputs": [],
   "execution_count": null
  },
  {
   "metadata": {},
   "cell_type": "code",
   "source": "",
   "id": "fc6e88aa7ed2c64d",
   "outputs": [],
   "execution_count": null
  }
 ],
 "metadata": {
  "kernelspec": {
   "display_name": "Python 3",
   "language": "python",
   "name": "python3"
  },
  "language_info": {
   "codemirror_mode": {
    "name": "ipython",
    "version": 2
   },
   "file_extension": ".py",
   "mimetype": "text/x-python",
   "name": "python",
   "nbconvert_exporter": "python",
   "pygments_lexer": "ipython2",
   "version": "2.7.6"
  }
 },
 "nbformat": 4,
 "nbformat_minor": 5
}
