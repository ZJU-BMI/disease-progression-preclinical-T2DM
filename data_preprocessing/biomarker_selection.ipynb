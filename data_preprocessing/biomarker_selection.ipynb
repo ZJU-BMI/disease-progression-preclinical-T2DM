{
 "cells": [
  {
   "cell_type": "code",
   "execution_count": 18,
   "id": "initial_id",
   "metadata": {
    "collapsed": true,
    "ExecuteTime": {
     "end_time": "2024-03-16T07:59:44.273461Z",
     "start_time": "2024-03-16T07:59:44.271596Z"
    }
   },
   "outputs": [],
   "source": [
    "import pandas as pd\n",
    "import numpy as np"
   ]
  },
  {
   "cell_type": "code",
   "outputs": [],
   "source": [
    "dm_type = 'pre'\n",
    "df = pd.read_csv(f'data/data_balanced/data_t2dm_{dm_type}_balanced_no_outliers.csv')\n",
    "# df = pd.read_csv('data/data_balanced/data_t2dm_biomarker_imputed.csv')\n",
    "df_bio_names = pd.read_csv('data/biomarker_field.csv')\n",
    "df_bio_names = df_bio_names[['Biomarker', 'Field', 'Units']]"
   ],
   "metadata": {
    "collapsed": false,
    "ExecuteTime": {
     "end_time": "2024-03-16T07:59:44.411238Z",
     "start_time": "2024-03-16T07:59:44.274465Z"
    }
   },
   "id": "4beba52a1e7fa316",
   "execution_count": 19
  },
  {
   "cell_type": "markdown",
   "source": [
    "# Data Preprocessing"
   ],
   "metadata": {
    "collapsed": false
   },
   "id": "15dd48ec0897fd99"
  },
  {
   "cell_type": "code",
   "outputs": [
    {
     "name": "stdout",
     "output_type": "stream",
     "text": [
      "True\n"
     ]
    }
   ],
   "source": [
    "# check if there are any duplicate samples\n",
    "print(len(df['Eid'].unique()) == len(df))"
   ],
   "metadata": {
    "collapsed": false,
    "ExecuteTime": {
     "end_time": "2024-03-16T07:59:44.415009Z",
     "start_time": "2024-03-16T07:59:44.411705Z"
    }
   },
   "id": "5a3be9f8606a91dc",
   "execution_count": 20
  },
  {
   "cell_type": "code",
   "outputs": [
    {
     "name": "stdout",
     "output_type": "stream",
     "text": [
      "t2dm\n",
      "1    20305\n",
      "0    20305\n",
      "Name: count, dtype: int64\n"
     ]
    }
   ],
   "source": [
    "print(df['t2dm'].value_counts())"
   ],
   "metadata": {
    "collapsed": false,
    "ExecuteTime": {
     "end_time": "2024-03-16T07:59:44.418537Z",
     "start_time": "2024-03-16T07:59:44.415009Z"
    }
   },
   "id": "adce4f1f128cf91",
   "execution_count": 21
  },
  {
   "cell_type": "code",
   "outputs": [],
   "source": [
    "# calculate log2 fold change for each biomarker between t2dm and control\n",
    "biomarkers = df.columns[11:]\n",
    "mean_t2dm = []\n",
    "mean_control = []\n",
    "log2fc = []\n",
    "t_stats = []\n",
    "p_values = []"
   ],
   "metadata": {
    "collapsed": false,
    "ExecuteTime": {
     "end_time": "2024-03-16T07:59:44.421706Z",
     "start_time": "2024-03-16T07:59:44.419540Z"
    }
   },
   "id": "5b425e3a861067e",
   "execution_count": 22
  },
  {
   "cell_type": "code",
   "outputs": [
    {
     "name": "stderr",
     "output_type": "stream",
     "text": [
      "C:\\Users\\casdg\\AppData\\Local\\Temp\\ipykernel_31844\\1721046578.py:10: RuntimeWarning: invalid value encountered in scalar divide\n",
      "  log2fc.append(np.log2(t2dm.mean() / (control.mean())))\n"
     ]
    }
   ],
   "source": [
    "from scipy import stats\n",
    "for bio in biomarkers:\n",
    "    t2dm = df[df['t2dm'] == 1][bio]\n",
    "    control = df[df['t2dm'] == 0][bio]\n",
    "    mean_t2dm.append(t2dm.mean())\n",
    "    mean_control.append(control.mean())\n",
    "    t_stat, p_value = stats.ttest_ind(t2dm, control)\n",
    "    t_stats.append(t_stat)\n",
    "    p_values.append(p_value)\n",
    "    log2fc.append(np.log2(t2dm.mean() / (control.mean())))"
   ],
   "metadata": {
    "collapsed": false,
    "ExecuteTime": {
     "end_time": "2024-03-16T07:59:44.866870Z",
     "start_time": "2024-03-16T07:59:44.421706Z"
    }
   },
   "id": "28681c9bca4df24f",
   "execution_count": 23
  },
  {
   "cell_type": "code",
   "outputs": [],
   "source": [
    "df_log2fc = pd.DataFrame({\n",
    "    'Biomarker': biomarkers, \n",
    "    'mean_t2dm': mean_t2dm, \n",
    "    'mean_control': mean_control, \n",
    "    'log2fc': log2fc, \n",
    "    't_stat': t_stats, \n",
    "    'p_value': p_values,\n",
    "})\n",
    "df_log2fc['Bonferroni_adj_p'] = df_log2fc['p_value'] * len(df_log2fc)\n",
    "df_log2fc['Bonferroni_adj_p'] = df_log2fc['Bonferroni_adj_p'].apply(lambda x: 1 if x > 1 else x)"
   ],
   "metadata": {
    "collapsed": false,
    "ExecuteTime": {
     "end_time": "2024-03-16T07:59:44.870551Z",
     "start_time": "2024-03-16T07:59:44.866870Z"
    }
   },
   "id": "30143b8da67befd9",
   "execution_count": 24
  },
  {
   "cell_type": "code",
   "outputs": [],
   "source": [
    "df_log2fc['abs_log2fc'] = np.abs(df_log2fc['log2fc'])\n",
    "# direction 1: t2dm > control, -1: t2dm < control\n",
    "df_log2fc['direction'] = np.sign(df_log2fc['mean_t2dm'] - df_log2fc['mean_control'])\n",
    "df_log2fc = df_log2fc.sort_values(by='abs_log2fc', ascending=False)\n",
    "df_log2fc = df_log2fc.merge(df_bio_names, left_on='Biomarker', right_on='Biomarker', how='left')\n",
    "# significant if bonferroni adjusted p-value < 0.05, marked as \"< 0.05\" in the table else \"NS\"\n",
    "df_log2fc['Sig_note'] = df_log2fc['Bonferroni_adj_p'].apply(lambda x: '< 0.05' if x < 0.05 else 'NS')\n",
    "df_log2fc['direction'] = np.sign(df_log2fc['log2fc'])"
   ],
   "metadata": {
    "collapsed": false,
    "ExecuteTime": {
     "end_time": "2024-03-16T07:59:44.876361Z",
     "start_time": "2024-03-16T07:59:44.871033Z"
    }
   },
   "id": "6ff3db47d34e9817",
   "execution_count": 25
  },
  {
   "cell_type": "code",
   "outputs": [],
   "source": [
    "df_log2fc.to_csv(f'data/data_balanced/log2fc/biomarkers_{dm_type}_log2fc_no_outlier.csv', index=False)"
   ],
   "metadata": {
    "collapsed": false,
    "ExecuteTime": {
     "end_time": "2024-03-16T07:59:44.880648Z",
     "start_time": "2024-03-16T07:59:44.876864Z"
    }
   },
   "id": "e400aad27d1f54ad",
   "execution_count": 26
  },
  {
   "cell_type": "code",
   "outputs": [],
   "source": [
    "# z-score normalization\n",
    "from utils import normalize_by_controls\n",
    "df_zscored = normalize_by_controls(df, 't2dm', biomarkers)"
   ],
   "metadata": {
    "collapsed": false,
    "ExecuteTime": {
     "end_time": "2024-03-16T07:59:44.913271Z",
     "start_time": "2024-03-16T07:59:44.880648Z"
    }
   },
   "id": "6560f9949f1800ec",
   "execution_count": 27
  },
  {
   "cell_type": "code",
   "outputs": [
    {
     "name": "stdout",
     "output_type": "stream",
     "text": [
      "BMI\n",
      "Optimization terminated successfully.\n",
      "         Current function value: 0.611685\n",
      "         Iterations 5\n",
      "SBP\n",
      "Optimization terminated successfully.\n",
      "         Current function value: 0.690595\n",
      "         Iterations 4\n",
      "DBP\n",
      "Optimization terminated successfully.\n",
      "         Current function value: 0.690507\n",
      "         Iterations 4\n",
      "WBC\n",
      "Optimization terminated successfully.\n",
      "         Current function value: 0.674072\n",
      "         Iterations 4\n",
      "RBC\n",
      "Optimization terminated successfully.\n",
      "         Current function value: 0.689443\n",
      "         Iterations 4\n",
      "Hgb\n",
      "Optimization terminated successfully.\n",
      "         Current function value: 0.692904\n",
      "         Iterations 3\n",
      "Hct\n",
      "Optimization terminated successfully.\n",
      "         Current function value: 0.692723\n",
      "         Iterations 3\n",
      "MCV\n",
      "Optimization terminated successfully.\n",
      "         Current function value: 0.687594\n",
      "         Iterations 4\n",
      "MCH\n",
      "Optimization terminated successfully.\n",
      "         Current function value: 0.687819\n",
      "         Iterations 4\n",
      "MCHC\n",
      "Optimization terminated successfully.\n",
      "         Current function value: 0.692867\n",
      "         Iterations 3\n",
      "RDW\n",
      "Optimization terminated successfully.\n",
      "         Current function value: 0.690171\n",
      "         Iterations 4\n",
      "PLT\n",
      "Optimization terminated successfully.\n",
      "         Current function value: 0.692932\n",
      "         Iterations 3\n",
      "PCT\n",
      "Optimization terminated successfully.\n",
      "         Current function value: 0.692416\n",
      "         Iterations 3\n",
      "MPV\n",
      "Optimization terminated successfully.\n",
      "         Current function value: 0.692649\n",
      "         Iterations 3\n",
      "PDW\n",
      "Optimization terminated successfully.\n",
      "         Current function value: 0.691411\n",
      "         Iterations 4\n",
      "LYM\n",
      "Optimization terminated successfully.\n",
      "         Current function value: 0.679631\n",
      "         Iterations 4\n",
      "MONO\n",
      "Optimization terminated successfully.\n",
      "         Current function value: 0.686607\n",
      "         Iterations 4\n",
      "NEUT\n",
      "Optimization terminated successfully.\n",
      "         Current function value: 0.682366\n",
      "         Iterations 4\n",
      "EOS\n",
      "Optimization terminated successfully.\n",
      "         Current function value: 0.688979\n",
      "         Iterations 4\n",
      "BASO\n",
      "Optimization terminated successfully.\n",
      "         Current function value: 0.691942\n",
      "         Iterations 4\n",
      "NRBC\n",
      "LYMP\n",
      "Optimization terminated successfully.\n",
      "         Current function value: 0.693012\n",
      "         Iterations 3\n",
      "MONOP\n",
      "Optimization terminated successfully.\n",
      "         Current function value: 0.692723\n",
      "         Iterations 3\n",
      "NEUTP\n",
      "Optimization terminated successfully.\n",
      "         Current function value: 0.693088\n",
      "         Iterations 3\n",
      "EOSP\n",
      "Optimization terminated successfully.\n",
      "         Current function value: 0.692956\n",
      "         Iterations 3\n",
      "BASOP\n",
      "Optimization terminated successfully.\n",
      "         Current function value: 0.693107\n",
      "         Iterations 3\n",
      "NRBCP\n",
      "RETP\n",
      "Optimization terminated successfully.\n",
      "         Current function value: 0.663915\n",
      "         Iterations 5\n",
      "RET\n",
      "Optimization terminated successfully.\n",
      "         Current function value: 0.661264\n",
      "         Iterations 5\n",
      "MRV\n",
      "Optimization terminated successfully.\n",
      "         Current function value: 0.692014\n",
      "         Iterations 3\n",
      "MSCV\n",
      "Optimization terminated successfully.\n",
      "         Current function value: 0.687142\n",
      "         Iterations 4\n",
      "IRF\n",
      "Optimization terminated successfully.\n",
      "         Current function value: 0.669526\n",
      "         Iterations 4\n",
      "HLS_ReticP\n",
      "Optimization terminated successfully.\n",
      "         Current function value: 0.656341\n",
      "         Iterations 5\n",
      "HLS_Retic\n",
      "Optimization terminated successfully.\n",
      "         Current function value: 0.653629\n",
      "         Iterations 5\n",
      "Urine_creatinine\n",
      "Optimization terminated successfully.\n",
      "         Current function value: 0.687291\n",
      "         Iterations 4\n",
      "Urine_potassium\n",
      "Optimization terminated successfully.\n",
      "         Current function value: 0.692004\n",
      "         Iterations 3\n",
      "Urine_sodium\n",
      "Optimization terminated successfully.\n",
      "         Current function value: 0.686091\n",
      "         Iterations 4\n",
      "Albumin\n",
      "Optimization terminated successfully.\n",
      "         Current function value: 0.693128\n",
      "         Iterations 3\n",
      "ALP\n",
      "Optimization terminated successfully.\n",
      "         Current function value: 0.690288\n",
      "         Iterations 4\n",
      "ALT\n",
      "Optimization terminated successfully.\n",
      "         Current function value: 0.667604\n",
      "         Iterations 5\n",
      "ApoA\n",
      "Optimization terminated successfully.\n",
      "         Current function value: 0.673975\n",
      "         Iterations 4\n",
      "ApoB\n",
      "Optimization terminated successfully.\n",
      "         Current function value: 0.688998\n",
      "         Iterations 4\n",
      "AST\n",
      "Optimization terminated successfully.\n",
      "         Current function value: 0.688404\n",
      "         Iterations 4\n",
      "DBIL\n",
      "Optimization terminated successfully.\n",
      "         Current function value: 0.693133\n",
      "         Iterations 3\n",
      "Urea\n",
      "Optimization terminated successfully.\n",
      "         Current function value: 0.692807\n",
      "         Iterations 3\n",
      "Calcium\n",
      "Optimization terminated successfully.\n",
      "         Current function value: 0.691963\n",
      "         Iterations 3\n",
      "CHOL\n",
      "Optimization terminated successfully.\n",
      "         Current function value: 0.675083\n",
      "         Iterations 4\n",
      "Creatinine\n",
      "Optimization terminated successfully.\n",
      "         Current function value: 0.693082\n",
      "         Iterations 3\n",
      "CRP\n",
      "Optimization terminated successfully.\n",
      "         Current function value: 0.678670\n",
      "         Iterations 5\n",
      "CysC\n",
      "Optimization terminated successfully.\n",
      "         Current function value: 0.683295\n",
      "         Iterations 4\n",
      "Glucose\n",
      "Optimization terminated successfully.\n",
      "         Current function value: 0.630474\n",
      "         Iterations 6\n",
      "HbA1c\n",
      "Optimization terminated successfully.\n",
      "         Current function value: 0.499473\n",
      "         Iterations 6\n",
      "HDLc\n",
      "Optimization terminated successfully.\n",
      "         Current function value: 0.655896\n",
      "         Iterations 5\n",
      "IGF_1\n",
      "Optimization terminated successfully.\n",
      "         Current function value: 0.691038\n",
      "         Iterations 4\n",
      "LDLc\n",
      "Optimization terminated successfully.\n",
      "         Current function value: 0.679845\n",
      "         Iterations 4\n",
      "Lpa\n",
      "Optimization terminated successfully.\n",
      "         Current function value: 0.693145\n",
      "         Iterations 3\n",
      "Phosphate\n",
      "Optimization terminated successfully.\n",
      "         Current function value: 0.692987\n",
      "         Iterations 3\n",
      "TBIL\n",
      "Optimization terminated successfully.\n",
      "         Current function value: 0.691763\n",
      "         Iterations 4\n",
      "Testosterone\n",
      "Optimization terminated successfully.\n",
      "         Current function value: 0.690221\n",
      "         Iterations 4\n",
      "TP\n",
      "Optimization terminated successfully.\n",
      "         Current function value: 0.691686\n",
      "         Iterations 4\n",
      "TG\n",
      "Optimization terminated successfully.\n",
      "         Current function value: 0.670539\n",
      "         Iterations 5\n",
      "Urate\n",
      "Optimization terminated successfully.\n",
      "         Current function value: 0.675216\n",
      "         Iterations 4\n",
      "Vitamin_D\n",
      "Optimization terminated successfully.\n",
      "         Current function value: 0.681980\n",
      "         Iterations 4\n",
      "TyG\n",
      "Optimization terminated successfully.\n",
      "         Current function value: 0.645752\n",
      "         Iterations 5\n",
      "HbA1c_prec\n",
      "Optimization terminated successfully.\n",
      "         Current function value: 0.499473\n",
      "         Iterations 6\n",
      "propensity_score\n",
      "Optimization terminated successfully.\n",
      "         Current function value: 0.693147\n",
      "         Iterations 2\n"
     ]
    }
   ],
   "source": [
    "# calculate logistic regression coefficients and p-values for each biomarker\n",
    "import statsmodels.api as sm\n",
    "\n",
    "biomarkers = df_zscored.columns[11:]\n",
    "beta = []\n",
    "p_values = []\n",
    "\n",
    "for bio in biomarkers:\n",
    "    print(bio)\n",
    "    if df_zscored[bio].isna().sum() > 0:\n",
    "        beta.append(np.nan)\n",
    "        p_values.append(np.nan)\n",
    "        continue\n",
    "    X = np.asarray(df_zscored[bio]) \n",
    "    y = np.asarray(df_zscored['t2dm'])\n",
    "    X = sm.add_constant(X.reshape(-1, 1))\n",
    "    model = sm.Logit(y, X)\n",
    "    try:\n",
    "        result = model.fit()\n",
    "        beta.append(result.params[1])\n",
    "        p_values.append(result.pvalues[1])\n",
    "    except:\n",
    "        beta.append(np.nan)\n",
    "        p_values.append(np.nan)"
   ],
   "metadata": {
    "collapsed": false,
    "ExecuteTime": {
     "end_time": "2024-03-16T07:59:45.518813Z",
     "start_time": "2024-03-16T07:59:44.914274Z"
    }
   },
   "id": "b2a0761e3076980c",
   "execution_count": 28
  },
  {
   "cell_type": "code",
   "outputs": [],
   "source": [
    "df_logreg = pd.DataFrame({\n",
    "    'Biomarker': biomarkers, \n",
    "    'Beta': beta, \n",
    "    'P_value': p_values,\n",
    "    'abs_Beta': np.abs(beta)\n",
    "})\n",
    "# bonferroni adjusted p-value, if p-value > 1, set it to 1\n",
    "df_logreg['Bonferroni_adj_p'] = df_logreg['P_value'] * len(df_logreg)\n",
    "df_logreg['Bonferroni_adj_p'] = df_logreg['Bonferroni_adj_p'].apply(lambda x: 1 if x > 1 else x)\n",
    "# significant if bonferroni adjusted p-value < 0.05, marked as \"< 0.05\" in the table else \"NS\"\n",
    "df_logreg['Sig_note'] = df_logreg['Bonferroni_adj_p'].apply(lambda x: '< 0.05' if x < 0.05 else 'NS')\n",
    "df_logreg['direction'] = np.sign(df_logreg['Beta'])"
   ],
   "metadata": {
    "collapsed": false,
    "ExecuteTime": {
     "end_time": "2024-03-16T07:59:45.523139Z",
     "start_time": "2024-03-16T07:59:45.518813Z"
    }
   },
   "id": "bc3675fe9b2e67e",
   "execution_count": 29
  },
  {
   "cell_type": "code",
   "outputs": [],
   "source": [
    "df_logreg = df_logreg.merge(df_bio_names, on='Biomarker', how='left')"
   ],
   "metadata": {
    "collapsed": false,
    "ExecuteTime": {
     "end_time": "2024-03-16T07:59:45.527286Z",
     "start_time": "2024-03-16T07:59:45.523139Z"
    }
   },
   "id": "7ebe9ed0387e5ab7",
   "execution_count": 30
  },
  {
   "cell_type": "code",
   "outputs": [],
   "source": [
    "df_logreg = df_logreg.sort_values(by='abs_Beta', ascending=False)"
   ],
   "metadata": {
    "collapsed": false,
    "ExecuteTime": {
     "end_time": "2024-03-16T07:59:45.530028Z",
     "start_time": "2024-03-16T07:59:45.527535Z"
    }
   },
   "id": "6e048be127a244c7",
   "execution_count": 31
  },
  {
   "cell_type": "code",
   "outputs": [],
   "source": [
    "df_logreg.to_csv(f'data/data_balanced/logistic/biomarkers_{dm_type}_logreg_no_outlier.csv', index=False)"
   ],
   "metadata": {
    "collapsed": false,
    "ExecuteTime": {
     "end_time": "2024-03-16T07:59:45.533821Z",
     "start_time": "2024-03-16T07:59:45.530028Z"
    }
   },
   "id": "37d94ee4366db260",
   "execution_count": 32
  },
  {
   "cell_type": "code",
   "outputs": [],
   "source": [],
   "metadata": {
    "collapsed": false,
    "ExecuteTime": {
     "end_time": "2024-03-16T07:59:45.535920Z",
     "start_time": "2024-03-16T07:59:45.534154Z"
    }
   },
   "id": "4901fec3b43b94af",
   "execution_count": 32
  },
  {
   "cell_type": "code",
   "outputs": [],
   "source": [],
   "metadata": {
    "collapsed": false,
    "ExecuteTime": {
     "end_time": "2024-03-16T07:59:45.537932Z",
     "start_time": "2024-03-16T07:59:45.535920Z"
    }
   },
   "id": "c05ec047ae48271",
   "execution_count": 32
  }
 ],
 "metadata": {
  "kernelspec": {
   "display_name": "Python 3",
   "language": "python",
   "name": "python3"
  },
  "language_info": {
   "codemirror_mode": {
    "name": "ipython",
    "version": 2
   },
   "file_extension": ".py",
   "mimetype": "text/x-python",
   "name": "python",
   "nbconvert_exporter": "python",
   "pygments_lexer": "ipython2",
   "version": "2.7.6"
  }
 },
 "nbformat": 4,
 "nbformat_minor": 5
}
