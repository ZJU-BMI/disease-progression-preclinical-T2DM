{
 "cells": [
  {
   "cell_type": "code",
   "id": "initial_id",
   "metadata": {
    "collapsed": true,
    "ExecuteTime": {
     "end_time": "2024-09-22T13:14:15.896867Z",
     "start_time": "2024-09-22T13:14:15.594515Z"
    }
   },
   "source": [
    "import pandas as pd\n",
    "import numpy as np\n",
    "import os"
   ],
   "outputs": [],
   "execution_count": 1
  },
  {
   "cell_type": "code",
   "source": [
    "df_confounder_snps = pd.read_csv('data/confounders/confounders.csv')\n",
    "confounder_snps = df_confounder_snps['SNPS'].unique().tolist()\n",
    "df_confounder_snps = df_confounder_snps[['DISEASE/TRAIT', 'SNPS']]"
   ],
   "metadata": {
    "collapsed": false,
    "ExecuteTime": {
     "end_time": "2024-09-22T13:14:15.956798Z",
     "start_time": "2024-09-22T13:14:15.897885Z"
    }
   },
   "id": "1c4dc79f41c85e7",
   "outputs": [],
   "execution_count": 2
  },
  {
   "cell_type": "code",
   "source": [
    "exponame = 't2dm'\n",
    "expo_path = f'exposure/{exponame}'\n",
    "expo_path_rm_confounder = f'exposure/{exponame}_rm_confounder'\n",
    "os.makedirs(expo_path_rm_confounder, exist_ok=True)"
   ],
   "metadata": {
    "collapsed": false,
    "ExecuteTime": {
     "end_time": "2024-09-22T13:14:15.960003Z",
     "start_time": "2024-09-22T13:14:15.956798Z"
    }
   },
   "id": "35d300e0c07bfabc",
   "outputs": [],
   "execution_count": 3
  },
  {
   "cell_type": "code",
   "source": [
    "expos = os.listdir(expo_path)\n",
    "print(len(expos))"
   ],
   "metadata": {
    "collapsed": false,
    "ExecuteTime": {
     "end_time": "2024-09-22T13:14:15.964068Z",
     "start_time": "2024-09-22T13:14:15.960003Z"
    }
   },
   "id": "b02507708d960ecf",
   "outputs": [
    {
     "name": "stdout",
     "output_type": "stream",
     "text": [
      "2\n"
     ]
    }
   ],
   "execution_count": 4
  },
  {
   "cell_type": "code",
   "source": [
    "for expo in expos:\n",
    "    filename = expo.split('.')[0]\n",
    "    df_expo = pd.read_csv(os.path.join(expo_path, expo))\n",
    "    \n",
    "    expo_snps = df_expo['SNP'].tolist()\n",
    "    # intersect with confounder snps\n",
    "    intersect_snps = list(set(expo_snps).intersection(confounder_snps))\n",
    "    \n",
    "    df_expo_rm_confounder = df_expo[~df_expo['SNP'].isin(intersect_snps)]\n",
    "    df_expo_inter_confounder = df_expo[df_expo['SNP'].isin(intersect_snps)]\n",
    "    # merge with df_confounder_snps\n",
    "    df_expo_inter_confounder = pd.merge(df_expo_inter_confounder, df_confounder_snps, how='left', left_on='SNP', right_on='SNPS')\n",
    "    # save\n",
    "    df_expo_rm_confounder.to_csv(os.path.join(expo_path_rm_confounder, f'{filename}_rm_confounder.csv'), index=False)\n",
    "    df_expo_inter_confounder.to_csv(os.path.join(expo_path_rm_confounder, f'{filename}_inter_confounder.csv'), index=False)\n",
    "    \n",
    "    print(f'{filename}:', len(df_expo), '-> left', len(df_expo_rm_confounder), '+ removed', len(df_expo_inter_confounder))"
   ],
   "metadata": {
    "collapsed": false,
    "ExecuteTime": {
     "end_time": "2024-09-22T13:14:23.000468Z",
     "start_time": "2024-09-22T13:14:22.973195Z"
    }
   },
   "id": "fca132a47410b37a",
   "outputs": [
    {
     "name": "stdout",
     "output_type": "stream",
     "text": [
      "T2DM_Subtype1_expo: 2 -> left 2 + removed 0\n",
      "T2DM_Subtype2_expo: 20 -> left 20 + removed 0\n"
     ]
    }
   ],
   "execution_count": 5
  },
  {
   "cell_type": "code",
   "outputs": [],
   "source": [],
   "metadata": {
    "collapsed": false,
    "ExecuteTime": {
     "end_time": "2024-03-25T08:05:00.272201Z",
     "start_time": "2024-03-25T08:05:00.269689Z"
    }
   },
   "id": "5ff3fa9229bbcaf1",
   "execution_count": 5
  }
 ],
 "metadata": {
  "kernelspec": {
   "display_name": "Python 3",
   "language": "python",
   "name": "python3"
  },
  "language_info": {
   "codemirror_mode": {
    "name": "ipython",
    "version": 2
   },
   "file_extension": ".py",
   "mimetype": "text/x-python",
   "name": "python",
   "nbconvert_exporter": "python",
   "pygments_lexer": "ipython2",
   "version": "2.7.6"
  }
 },
 "nbformat": 4,
 "nbformat_minor": 5
}
