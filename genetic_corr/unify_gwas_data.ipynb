{
 "cells": [
  {
   "cell_type": "code",
   "id": "initial_id",
   "metadata": {
    "collapsed": true
   },
   "source": [
    "import pandas as pd\n",
    "import os"
   ],
   "outputs": [],
   "execution_count": null
  },
  {
   "cell_type": "code",
   "source": [
    "gwas_path = 'E:/downloads/gwas'\n",
    "gwas_files = os.listdir(gwas_path)\n",
    "print(gwas_files)"
   ],
   "metadata": {
    "collapsed": false
   },
   "id": "156e86758738a1b5",
   "outputs": [],
   "execution_count": null
  },
  {
   "cell_type": "code",
   "source": [
    "# finngen gwas\n",
    "gwas_files_finngen = [f for f in gwas_files if 'finngen' in f]"
   ],
   "metadata": {
    "collapsed": false
   },
   "id": "c5451af750d4066f",
   "outputs": [],
   "execution_count": null
  },
  {
   "cell_type": "code",
   "source": [
    "df_asthma = pd.read_csv('E:/downloads/gwas/TAGC_Multiancestry_and_European-Ancestry_Meta-analyses_Results.tsv', sep='\\t', low_memory=False)"
   ],
   "metadata": {
    "collapsed": false
   },
   "id": "8760c82c3628ce94",
   "outputs": [],
   "execution_count": null
  },
  {
   "cell_type": "code",
   "source": [
    "df_asthma.columns"
   ],
   "metadata": {
    "collapsed": false
   },
   "id": "abf7a68810cbcabe",
   "outputs": [],
   "execution_count": null
  },
  {
   "cell_type": "code",
   "source": [
    "# change column names, rename to: CHR, BP, SNP, A1, A2, P, BETA, SE (other selected columns:  EAF, N)\n",
    "df_asthma = df_asthma.rename(columns={\n",
    "    'chr': 'CHR',\n",
    "    'position': 'BP',\n",
    "    'rsid': 'SNP',\n",
    "    'alternate_allele': 'A1',\n",
    "    'reference_allele': 'A2',\n",
    "    'Multiancestry_beta_fix': 'BETA',\n",
    "    'Multiancestry_se_fix': 'SE',\n",
    "    'Multiancestry_pval_fix': 'P',\n",
    "})\n",
    "df_asthma = df_asthma[['CHR', 'BP', 'SNP', 'A1', 'A2', 'P', 'BETA', 'SE']]"
   ],
   "metadata": {
    "collapsed": false
   },
   "id": "b31cccf86a47bb08",
   "outputs": [],
   "execution_count": null
  },
  {
   "cell_type": "code",
   "source": [
    "print(df_asthma.head())"
   ],
   "metadata": {
    "collapsed": false
   },
   "id": "84df56376dc01d",
   "outputs": [],
   "execution_count": null
  },
  {
   "cell_type": "code",
   "source": [
    "top_hits = df_asthma[df_asthma['P'] < 5e-8]"
   ],
   "metadata": {
    "collapsed": false
   },
   "id": "3f4aa0fffb747d1a",
   "outputs": [],
   "execution_count": null
  },
  {
   "cell_type": "code",
   "source": [
    "# save to csv\n",
    "df_asthma.to_csv('data/gwas_summary/disease/Asthma.txt.gz', index=False, sep=' ', compression='gzip', na_rep='NA')"
   ],
   "metadata": {
    "collapsed": false
   },
   "id": "5b07044e64999004",
   "outputs": [],
   "execution_count": null
  },
  {
   "cell_type": "code",
   "source": [
    "top_hits.to_csv('data/gwas_summary/disease/tophits/Asthma_top.csv', index=False, na_rep='NA')"
   ],
   "metadata": {
    "collapsed": false
   },
   "id": "1b89137c42a326c5",
   "outputs": [],
   "execution_count": null
  },
  {
   "cell_type": "code",
   "source": [
    "df_gwas = pd.read_csv('E:/downloads/gwas/finngen_R9_I9_CHD.gz', sep='\\t', low_memory=False, compression='gzip')"
   ],
   "metadata": {
    "collapsed": false
   },
   "id": "652069f38fca7880",
   "outputs": [],
   "execution_count": null
  },
  {
   "cell_type": "code",
   "source": [
    "df_gwas.columns"
   ],
   "metadata": {
    "collapsed": false
   },
   "id": "7923bcebb55a5635",
   "outputs": [],
   "execution_count": null
  },
  {
   "cell_type": "code",
   "source": [
    "# change column names, rename to: CHR, BP, SNP, A1, A2, P, BETA, SE (other selected columns:  EAF, N)\n",
    "df_gwas = df_gwas.rename(columns={\n",
    "    '#chrom': 'CHR',\n",
    "    'pos': 'BP',\n",
    "    'rsids': 'SNP',\n",
    "    'alt': 'A1',\n",
    "    'ref': 'A2',\n",
    "    'pval': 'P',\n",
    "    'beta': 'BETA',\n",
    "    'sebeta': 'SE',\n",
    "    'af_alt': 'EAF',\n",
    "})\n",
    "df_gwas = df_gwas[['CHR', 'BP', 'SNP', 'A1', 'A2', 'P', 'BETA', 'SE', 'EAF']]"
   ],
   "metadata": {
    "collapsed": false
   },
   "id": "1913830845256a9b",
   "outputs": [],
   "execution_count": null
  },
  {
   "cell_type": "code",
   "source": [
    "# top hits\n",
    "top_hits = df_gwas[df_gwas['P'] < 5e-8]"
   ],
   "metadata": {
    "collapsed": false
   },
   "id": "12b085c42d0732b6",
   "outputs": [],
   "execution_count": null
  },
  {
   "cell_type": "code",
   "source": [
    "# save to csv\n",
    "df_gwas.to_csv('data/gwas_summary/disease/CHD.txt.gz', index=False, sep=' ', compression='gzip', na_rep='NA')\n",
    "top_hits.to_csv('data/gwas_summary/disease/tophits/CHD_top.csv', index=False, na_rep='NA')"
   ],
   "metadata": {
    "collapsed": false
   },
   "id": "be041f6dbf59b307",
   "outputs": [],
   "execution_count": null
  },
  {
   "cell_type": "code",
   "source": [
    "for f in gwas_files_finngen:\n",
    "    print('processing:', f)\n",
    "    # ignore CHD because it is already processed\n",
    "    if f == 'finngen_R9_I9_CHD.gz':\n",
    "        continue\n",
    "    df_gwas = pd.read_csv(f'{gwas_path}/{f}', sep='\\t', low_memory=False, compression='gzip')\n",
    "    df_gwas = df_gwas.rename(columns={\n",
    "        '#chrom': 'CHR',\n",
    "        'pos': 'BP',\n",
    "        'rsids': 'SNP',\n",
    "        'alt': 'A1',\n",
    "        'ref': 'A2',\n",
    "        'pval': 'P',\n",
    "        'beta': 'BETA',\n",
    "        'sebeta': 'SE',\n",
    "        'af_alt': 'EAF',\n",
    "    })\n",
    "    df_gwas = df_gwas[['CHR', 'BP', 'SNP', 'A1', 'A2', 'P', 'BETA', 'SE', 'EAF']]\n",
    "    top_hits = df_gwas[df_gwas['P'] < 5e-8]\n",
    "    print('saving results, number of SNPs:', len(df_gwas), 'top hits:', len(top_hits))\n",
    "    df_gwas.to_csv(f'data/gwas_summary/disease/{f}.txt.gz', index=False, sep=' ', compression='gzip', na_rep='NA')\n",
    "    top_hits.to_csv(f'data/gwas_summary/disease/tophits/{f}_top.csv', index=False, na_rep='NA')"
   ],
   "metadata": {
    "collapsed": false
   },
   "id": "4765e805d006e420",
   "outputs": [],
   "execution_count": null
  },
  {
   "cell_type": "code",
   "source": [
    "df_gwas = pd.read_csv('data/gwas_summary/disease/GN.txt.gz', sep=' ', compression='gzip', low_memory=False)"
   ],
   "metadata": {
    "collapsed": false
   },
   "id": "775517f9a02a7d0a",
   "outputs": [],
   "execution_count": null
  },
  {
   "cell_type": "code",
   "source": [
    "df_top = df_gwas[df_gwas['P'] < 5e-6]"
   ],
   "metadata": {
    "collapsed": false
   },
   "id": "690bed18303ec3a1",
   "outputs": [],
   "execution_count": null
  },
  {
   "cell_type": "code",
   "source": [
    "df_top.to_csv('data/gwas_summary/disease/tophits/GN_top.csv', index=False, na_rep='NA')"
   ],
   "metadata": {
    "collapsed": false
   },
   "id": "d1443f62e9bf7145",
   "outputs": [],
   "execution_count": null
  },
  {
   "cell_type": "code",
   "source": [],
   "metadata": {
    "collapsed": false
   },
   "id": "8173cda881484d05",
   "outputs": [],
   "execution_count": null
  }
 ],
 "metadata": {
  "kernelspec": {
   "display_name": "Python 3",
   "language": "python",
   "name": "python3"
  },
  "language_info": {
   "codemirror_mode": {
    "name": "ipython",
    "version": 2
   },
   "file_extension": ".py",
   "mimetype": "text/x-python",
   "name": "python",
   "nbconvert_exporter": "python",
   "pygments_lexer": "ipython2",
   "version": "2.7.6"
  }
 },
 "nbformat": 4,
 "nbformat_minor": 5
}
