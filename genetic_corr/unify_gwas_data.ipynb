{
 "cells": [
  {
   "cell_type": "code",
   "execution_count": 2,
   "id": "initial_id",
   "metadata": {
    "collapsed": true,
    "ExecuteTime": {
     "end_time": "2024-03-23T10:08:44.535323Z",
     "start_time": "2024-03-23T10:08:44.533230Z"
    }
   },
   "outputs": [],
   "source": [
    "import pandas as pd\n",
    "import os"
   ]
  },
  {
   "cell_type": "code",
   "outputs": [
    {
     "name": "stdout",
     "output_type": "stream",
     "text": [
      "['finngen_R9_CARDIAC_ARRHYTM.gz', 'finngen_R9_E4_OBESITY.gz', 'finngen_R9_H7_RETINOPATHYDIAB.gz', 'finngen_R9_I9_CHD.gz', 'finngen_R9_I9_HEARTFAIL.gz', 'finngen_R9_I9_HYPTENS.gz', 'finngen_R9_N14_ACUTERENFAIL.gz', 'finngen_R9_N14_CHRONKIDNEYDIS.gz', 'finngen_R9_N14_GLOMER_NEPHRITIS.gz', 'TAGC_meta-analyses_results_for_asthma_risk', 'TAGC_meta-analyses_results_for_asthma_risk.zip']\n"
     ]
    }
   ],
   "source": [
    "gwas_path = 'E:/downloads/gwas'\n",
    "gwas_files = os.listdir(gwas_path)\n",
    "print(gwas_files)"
   ],
   "metadata": {
    "collapsed": false,
    "ExecuteTime": {
     "end_time": "2024-03-23T10:10:51.352277Z",
     "start_time": "2024-03-23T10:10:51.349104Z"
    }
   },
   "id": "156e86758738a1b5",
   "execution_count": 4
  },
  {
   "cell_type": "code",
   "outputs": [],
   "source": [
    "# finngen gwas\n",
    "gwas_files_finngen = [f for f in gwas_files if 'finngen' in f]"
   ],
   "metadata": {
    "collapsed": false,
    "ExecuteTime": {
     "end_time": "2024-03-23T10:11:35.186838Z",
     "start_time": "2024-03-23T10:11:35.184316Z"
    }
   },
   "id": "c5451af750d4066f",
   "execution_count": 5
  },
  {
   "cell_type": "code",
   "outputs": [],
   "source": [
    "df_asthma = pd.read_csv('E:/downloads/gwas/TAGC_Multiancestry_and_European-Ancestry_Meta-analyses_Results.tsv', sep='\\t', low_memory=False)"
   ],
   "metadata": {
    "collapsed": false,
    "ExecuteTime": {
     "end_time": "2024-03-23T10:13:49.523345Z",
     "start_time": "2024-03-23T10:13:46.556457Z"
    }
   },
   "id": "8760c82c3628ce94",
   "execution_count": 6
  },
  {
   "cell_type": "code",
   "outputs": [
    {
     "data": {
      "text/plain": "Index(['chr', 'rsid', 'position', 'reference_allele', 'alternate_allele',\n       'Multiancestry_beta_fix', 'Multiancestry_se_fix',\n       'Multiancestry_pval_fix', 'Multiancestry_beta_rand',\n       'Multiancestry_se_rand', 'Multiancestry_pval_rand',\n       'Multiancestry_HetQtest', 'Multiancestry_df_HetQtest',\n       'Multiancestry_pval_HetQtest', 'European_ancestry_beta_fix',\n       'European_ancestry_se_fix', 'European_ancestry_pval_fix',\n       'European_ancestry_beta_rand', 'European_ancestry_se_rand',\n       'European_ancestry_pval_rand', 'European_ancestry_HetQtest',\n       'European_ancestry_df_HetQtest', 'European_ancestry_pval_HetQtest'],\n      dtype='object')"
     },
     "execution_count": 7,
     "metadata": {},
     "output_type": "execute_result"
    }
   ],
   "source": [
    "df_asthma.columns"
   ],
   "metadata": {
    "collapsed": false,
    "ExecuteTime": {
     "end_time": "2024-03-23T10:13:50.470600Z",
     "start_time": "2024-03-23T10:13:50.465808Z"
    }
   },
   "id": "abf7a68810cbcabe",
   "execution_count": 7
  },
  {
   "cell_type": "code",
   "outputs": [],
   "source": [
    "# change column names, rename to: CHR, BP, SNP, A1, A2, P, BETA, SE (other selected columns:  EAF, N)\n",
    "df_asthma = df_asthma.rename(columns={\n",
    "    'chr': 'CHR',\n",
    "    'position': 'BP',\n",
    "    'rsid': 'SNP',\n",
    "    'alternate_allele': 'A1',\n",
    "    'reference_allele': 'A2',\n",
    "    'Multiancestry_beta_fix': 'BETA',\n",
    "    'Multiancestry_se_fix': 'SE',\n",
    "    'Multiancestry_pval_fix': 'P',\n",
    "})\n",
    "df_asthma = df_asthma[['CHR', 'BP', 'SNP', 'A1', 'A2', 'P', 'BETA', 'SE']]"
   ],
   "metadata": {
    "collapsed": false,
    "ExecuteTime": {
     "end_time": "2024-03-23T10:16:38.824450Z",
     "start_time": "2024-03-23T10:16:38.700002Z"
    }
   },
   "id": "b31cccf86a47bb08",
   "execution_count": 9
  },
  {
   "cell_type": "code",
   "outputs": [
    {
     "name": "stdout",
     "output_type": "stream",
     "text": [
      "   CHR       BP        SNP A1 A2         P      BETA        SE\n",
      "0    1   752566  rs3094315  A  G  0.680173 -0.008309  0.020156\n",
      "1    1   779322  rs4040617  G  A  0.908569 -0.002831  0.024648\n",
      "2    1   785050  rs2905062  A  G  0.901650  0.003518  0.028470\n",
      "3    1   785989  rs2980300  C  T  0.900844  0.003523  0.028272\n",
      "4    1  1003629  rs4075116  T  C  0.883253  0.002322  0.015811\n"
     ]
    }
   ],
   "source": [
    "print(df_asthma.head())"
   ],
   "metadata": {
    "collapsed": false,
    "ExecuteTime": {
     "end_time": "2024-03-23T10:16:42.519628Z",
     "start_time": "2024-03-23T10:16:42.516080Z"
    }
   },
   "id": "84df56376dc01d",
   "execution_count": 10
  },
  {
   "cell_type": "code",
   "outputs": [],
   "source": [
    "top_hits = df_asthma[df_asthma['P'] < 5e-8]"
   ],
   "metadata": {
    "collapsed": false,
    "ExecuteTime": {
     "end_time": "2024-03-23T10:17:13.539454Z",
     "start_time": "2024-03-23T10:17:13.535100Z"
    }
   },
   "id": "3f4aa0fffb747d1a",
   "execution_count": 11
  },
  {
   "cell_type": "code",
   "outputs": [],
   "source": [
    "# save to csv\n",
    "df_asthma.to_csv('data/gwas_summary/disease/Asthma.txt.gz', index=False, sep=' ', compression='gzip', na_rep='NA')"
   ],
   "metadata": {
    "collapsed": false,
    "ExecuteTime": {
     "end_time": "2024-03-23T10:18:40.096101Z",
     "start_time": "2024-03-23T10:18:16.797153Z"
    }
   },
   "id": "5b07044e64999004",
   "execution_count": 12
  },
  {
   "cell_type": "code",
   "outputs": [],
   "source": [
    "top_hits.to_csv('data/gwas_summary/disease/tophits/Asthma_top.csv', index=False, na_rep='NA')"
   ],
   "metadata": {
    "collapsed": false,
    "ExecuteTime": {
     "end_time": "2024-03-23T10:18:55.479276Z",
     "start_time": "2024-03-23T10:18:55.473834Z"
    }
   },
   "id": "1b89137c42a326c5",
   "execution_count": 13
  },
  {
   "cell_type": "code",
   "outputs": [],
   "source": [
    "df_gwas = pd.read_csv('E:/downloads/gwas/finngen_R9_I9_CHD.gz', sep='\\t', low_memory=False, compression='gzip')"
   ],
   "metadata": {
    "collapsed": false,
    "ExecuteTime": {
     "end_time": "2024-03-23T10:21:07.654394Z",
     "start_time": "2024-03-23T10:20:42.062805Z"
    }
   },
   "id": "652069f38fca7880",
   "execution_count": 14
  },
  {
   "cell_type": "code",
   "outputs": [
    {
     "data": {
      "text/plain": "Index(['#chrom', 'pos', 'ref', 'alt', 'rsids', 'nearest_genes', 'pval',\n       'mlogp', 'beta', 'sebeta', 'af_alt', 'af_alt_cases', 'af_alt_controls'],\n      dtype='object')"
     },
     "execution_count": 15,
     "metadata": {},
     "output_type": "execute_result"
    }
   ],
   "source": [
    "df_gwas.columns"
   ],
   "metadata": {
    "collapsed": false,
    "ExecuteTime": {
     "end_time": "2024-03-23T10:21:10.447861Z",
     "start_time": "2024-03-23T10:21:10.445275Z"
    }
   },
   "id": "7923bcebb55a5635",
   "execution_count": 15
  },
  {
   "cell_type": "code",
   "outputs": [],
   "source": [
    "# change column names, rename to: CHR, BP, SNP, A1, A2, P, BETA, SE (other selected columns:  EAF, N)\n",
    "df_gwas = df_gwas.rename(columns={\n",
    "    '#chrom': 'CHR',\n",
    "    'pos': 'BP',\n",
    "    'rsids': 'SNP',\n",
    "    'alt': 'A1',\n",
    "    'ref': 'A2',\n",
    "    'pval': 'P',\n",
    "    'beta': 'BETA',\n",
    "    'sebeta': 'SE',\n",
    "    'af_alt': 'EAF',\n",
    "})\n",
    "df_gwas = df_gwas[['CHR', 'BP', 'SNP', 'A1', 'A2', 'P', 'BETA', 'SE', 'EAF']]"
   ],
   "metadata": {
    "collapsed": false,
    "ExecuteTime": {
     "end_time": "2024-03-23T10:22:54.079390Z",
     "start_time": "2024-03-23T10:22:52.874945Z"
    }
   },
   "id": "1913830845256a9b",
   "execution_count": 16
  },
  {
   "cell_type": "code",
   "outputs": [],
   "source": [
    "# top hits\n",
    "top_hits = df_gwas[df_gwas['P'] < 5e-8]"
   ],
   "metadata": {
    "collapsed": false,
    "ExecuteTime": {
     "end_time": "2024-03-23T10:23:05.881225Z",
     "start_time": "2024-03-23T10:23:05.871100Z"
    }
   },
   "id": "12b085c42d0732b6",
   "execution_count": 18
  },
  {
   "cell_type": "code",
   "outputs": [],
   "source": [
    "# save to csv\n",
    "df_gwas.to_csv('data/gwas_summary/disease/CHD.txt.gz', index=False, sep=' ', compression='gzip', na_rep='NA')\n",
    "top_hits.to_csv('data/gwas_summary/disease/tophits/CHD_top.csv', index=False, na_rep='NA')"
   ],
   "metadata": {
    "collapsed": false,
    "ExecuteTime": {
     "end_time": "2024-03-23T10:29:24.933172Z",
     "start_time": "2024-03-23T10:24:52.315157Z"
    }
   },
   "id": "be041f6dbf59b307",
   "execution_count": 19
  },
  {
   "cell_type": "code",
   "outputs": [
    {
     "name": "stdout",
     "output_type": "stream",
     "text": [
      "processing: finngen_R9_CARDIAC_ARRHYTM.gz\n",
      "saving results, number of SNPs: 20167610 top hits: 4252\n",
      "processing: finngen_R9_E4_OBESITY.gz\n",
      "saving results, number of SNPs: 20170233 top hits: 1775\n",
      "processing: finngen_R9_H7_RETINOPATHYDIAB.gz\n",
      "saving results, number of SNPs: 20169735 top hits: 24955\n",
      "processing: finngen_R9_I9_CHD.gz\n",
      "processing: finngen_R9_I9_HEARTFAIL.gz\n",
      "saving results, number of SNPs: 20170236 top hits: 315\n",
      "processing: finngen_R9_I9_HYPTENS.gz\n",
      "saving results, number of SNPs: 20170234 top hits: 16643\n",
      "processing: finngen_R9_N14_ACUTERENFAIL.gz\n",
      "saving results, number of SNPs: 20170075 top hits: 1\n",
      "processing: finngen_R9_N14_CHRONKIDNEYDIS.gz\n",
      "saving results, number of SNPs: 20170113 top hits: 780\n",
      "processing: finngen_R9_N14_GLOMER_NEPHRITIS.gz\n",
      "saving results, number of SNPs: 20170236 top hits: 4\n"
     ]
    }
   ],
   "source": [
    "for f in gwas_files_finngen:\n",
    "    print('processing:', f)\n",
    "    # ignore CHD because it is already processed\n",
    "    if f == 'finngen_R9_I9_CHD.gz':\n",
    "        continue\n",
    "    df_gwas = pd.read_csv(f'{gwas_path}/{f}', sep='\\t', low_memory=False, compression='gzip')\n",
    "    df_gwas = df_gwas.rename(columns={\n",
    "        '#chrom': 'CHR',\n",
    "        'pos': 'BP',\n",
    "        'rsids': 'SNP',\n",
    "        'alt': 'A1',\n",
    "        'ref': 'A2',\n",
    "        'pval': 'P',\n",
    "        'beta': 'BETA',\n",
    "        'sebeta': 'SE',\n",
    "        'af_alt': 'EAF',\n",
    "    })\n",
    "    df_gwas = df_gwas[['CHR', 'BP', 'SNP', 'A1', 'A2', 'P', 'BETA', 'SE', 'EAF']]\n",
    "    top_hits = df_gwas[df_gwas['P'] < 5e-8]\n",
    "    print('saving results, number of SNPs:', len(df_gwas), 'top hits:', len(top_hits))\n",
    "    df_gwas.to_csv(f'data/gwas_summary/disease/{f}.txt.gz', index=False, sep=' ', compression='gzip', na_rep='NA')\n",
    "    top_hits.to_csv(f'data/gwas_summary/disease/tophits/{f}_top.csv', index=False, na_rep='NA')"
   ],
   "metadata": {
    "collapsed": false,
    "ExecuteTime": {
     "end_time": "2024-03-23T11:12:07.456756Z",
     "start_time": "2024-03-23T10:32:35.645515Z"
    }
   },
   "id": "4765e805d006e420",
   "execution_count": 21
  },
  {
   "cell_type": "code",
   "outputs": [],
   "source": [
    "df_gwas = pd.read_csv('data/gwas_summary/disease/GN.txt.gz', sep=' ', compression='gzip', low_memory=False)"
   ],
   "metadata": {
    "collapsed": false,
    "ExecuteTime": {
     "end_time": "2024-03-23T12:03:14.706618Z",
     "start_time": "2024-03-23T12:02:55.904827Z"
    }
   },
   "id": "775517f9a02a7d0a",
   "execution_count": 27
  },
  {
   "cell_type": "code",
   "outputs": [],
   "source": [
    "df_top = df_gwas[df_gwas['P'] < 5e-6]"
   ],
   "metadata": {
    "collapsed": false,
    "ExecuteTime": {
     "end_time": "2024-03-23T12:03:18.649482Z",
     "start_time": "2024-03-23T12:03:18.637634Z"
    }
   },
   "id": "690bed18303ec3a1",
   "execution_count": 28
  },
  {
   "cell_type": "code",
   "outputs": [],
   "source": [
    "df_top.to_csv('data/gwas_summary/disease/tophits/GN_top.csv', index=False, na_rep='NA')"
   ],
   "metadata": {
    "collapsed": false,
    "ExecuteTime": {
     "end_time": "2024-03-23T12:03:27.309993Z",
     "start_time": "2024-03-23T12:03:27.306295Z"
    }
   },
   "id": "d1443f62e9bf7145",
   "execution_count": 29
  },
  {
   "cell_type": "code",
   "outputs": [],
   "source": [],
   "metadata": {
    "collapsed": false
   },
   "id": "8173cda881484d05"
  }
 ],
 "metadata": {
  "kernelspec": {
   "display_name": "Python 3",
   "language": "python",
   "name": "python3"
  },
  "language_info": {
   "codemirror_mode": {
    "name": "ipython",
    "version": 2
   },
   "file_extension": ".py",
   "mimetype": "text/x-python",
   "name": "python",
   "nbconvert_exporter": "python",
   "pygments_lexer": "ipython2",
   "version": "2.7.6"
  }
 },
 "nbformat": 4,
 "nbformat_minor": 5
}
