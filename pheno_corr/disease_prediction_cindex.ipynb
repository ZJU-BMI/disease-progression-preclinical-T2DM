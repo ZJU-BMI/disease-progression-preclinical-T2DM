{
 "cells": [
  {
   "cell_type": "code",
   "id": "initial_id",
   "metadata": {
    "collapsed": true
   },
   "source": [
    "import pandas as pd\n",
    "import numpy as np\n",
    "# StratifiedKFold\n",
    "from sklearn.model_selection import StratifiedKFold\n",
    "# CoxPHFitter\n",
    "from sklearn.model_selection import train_test_split\n",
    "from lifelines import CoxPHFitter\n",
    "from lifelines.utils import concordance_index\n",
    "# PCA\n",
    "from sklearn.decomposition import PCA\n",
    "from utils import SAkfold"
   ],
   "outputs": [],
   "execution_count": null
  },
  {
   "cell_type": "code",
   "source": [
    "# data biomarkers\n",
    "df_bio = pd.read_csv('data/sustain_results_biomarkers_rmstage0_zscored.csv')\n",
    "print(df_bio.columns)"
   ],
   "metadata": {
    "collapsed": false
   },
   "id": "a4d471a7d4b3e033",
   "outputs": [],
   "execution_count": null
  },
  {
   "cell_type": "code",
   "source": [
    "# biomarkers: HbA1c, BMI, HDLc, TyG, HLS_Retic, Glucose, RET, IRF, ApoA, ALT, TG, Urate, WBC, CHOL, CRP, LYM, LDLc, Vitamin_D\n",
    "biomarkers =['HbA1c', 'BMI', 'HDLc', 'TyG', 'HLS_Retic', 'Glucose', 'RET', 'IRF', 'ApoA', \n",
    "             'ALT', 'TG', 'Urate', 'WBC', 'CHOL', 'CRP', 'LYM', 'LDLc', 'Vitamin_D']\n",
    "diseases = [\n",
    "    'Alzheimers_disease',\n",
    "    'Anorexia_nervosa',\n",
    "    'Anxiety_disorder',\n",
    "    'Bipolar_disorder',\n",
    "    'Depression_disorder',\n",
    "    'Epilepsy',\n",
    "    'Multiple_sclerosis',\n",
    "    'Obsessive_compulsive_disorder',\n",
    "    'Parkinsons_disease',\n",
    "    'Schizophrenia',\n",
    "    'Sleep_disorder',\n",
    "    'Stroke'\n",
    "]"
   ],
   "metadata": {
    "collapsed": false
   },
   "id": "ad808b4913d159b5",
   "outputs": [],
   "execution_count": null
  },
  {
   "cell_type": "code",
   "source": [
    "# Subtype\n",
    "df_bio['Subtype1'] = np.where(((df_bio['Subtype'] == 'Subtype 1') & (df_bio['t2dm'] == 1)), 1, 0)\n",
    "df_bio['Subtype2'] = np.where(((df_bio['Subtype'] == 'Subtype 2') & (df_bio['t2dm'] == 1)), 1, 0)\n",
    "print(df_bio['Subtype1'].value_counts())\n",
    "print(df_bio['Subtype2'].value_counts())"
   ],
   "metadata": {
    "collapsed": false
   },
   "id": "4b4cedbd4e8be920",
   "outputs": [],
   "execution_count": null
  },
  {
   "cell_type": "code",
   "source": [
    "# prediction model 1, only use biomarkers for disease prediction\n",
    "feats = biomarkers\n",
    "res_baseline = SAkfold(diseases=diseases, df_bio=df_bio, kf=10, feats=feats)"
   ],
   "metadata": {
    "collapsed": false
   },
   "id": "7c88ad2a26bc3200",
   "outputs": [],
   "execution_count": null
  },
  {
   "cell_type": "code",
   "source": [
    "# mean, std of c-index\n",
    "mean_c_index = np.mean(res_baseline, axis=1)\n",
    "std_c_index = np.std(res_baseline, axis=1)\n",
    "# to csv\n",
    "df_res = pd.DataFrame({'disease': diseases, 'mean_c_index': mean_c_index, 'std_c_index': std_c_index})\n",
    "df_res.to_csv('results/prediction/baseline_c_index.csv', index=False)"
   ],
   "metadata": {
    "collapsed": false
   },
   "id": "e1902435b2152aaa",
   "outputs": [],
   "execution_count": null
  },
  {
   "cell_type": "code",
   "source": [
    "# prediction model 2, biomarkers and subtype 1 for disease prediction\n",
    "# use the first N components as features for prediction\n",
    "# feats = ['PC' + str(i) for i in range(N)]\n",
    "feats = biomarkers + ['Subtype1']\n",
    "res_s1 = SAkfold(diseases=diseases, df_bio=df_bio, kf=10, feats=feats)"
   ],
   "metadata": {
    "collapsed": false
   },
   "id": "b3d67e2dda9a996e",
   "outputs": [],
   "execution_count": null
  },
  {
   "cell_type": "code",
   "source": [
    "mean_c_index = np.mean(res_s1, axis=1)\n",
    "std_c_index = np.std(res_s1, axis=1)\n",
    "# to csv\n",
    "df_res_s1 = pd.DataFrame({'disease': diseases, 'mean_c_index': mean_c_index, 'std_c_index': std_c_index})\n",
    "df_res_s1.to_csv('results/prediction/subtype1_c_index.csv', index=False)"
   ],
   "metadata": {
    "collapsed": false
   },
   "id": "2ee98fa5b098e2d8",
   "outputs": [],
   "execution_count": null
  },
  {
   "cell_type": "code",
   "source": [
    "# prediction model 3, biomarkers and subtype 2 for disease prediction\n",
    "# use the first N components as features for prediction\n",
    "# feats = ['PC' + str(i) for i in range(N)]\n",
    "feats = biomarkers + ['Subtype2']\n",
    "res_s2 = SAkfold(diseases=diseases, df_bio=df_bio, kf=10, feats=feats)"
   ],
   "metadata": {
    "collapsed": false
   },
   "id": "365334f3641ddf9b",
   "outputs": [],
   "execution_count": null
  },
  {
   "cell_type": "code",
   "source": [
    "# mean, std of c-index\n",
    "mean_c_index = np.mean(res_s2, axis=1)\n",
    "std_c_index = np.std(res_s2, axis=1)\n",
    "# to csv\n",
    "df_res_s2 = pd.DataFrame({'disease': diseases, 'mean_c_index': mean_c_index, 'std_c_index': std_c_index})\n",
    "df_res_s2.to_csv('results/prediction/subtype2_c_index.csv', index=False)"
   ],
   "metadata": {
    "collapsed": false
   },
   "id": "c5f3acb232dd8686",
   "outputs": [],
   "execution_count": null
  },
  {
   "cell_type": "code",
   "source": [
    "# merge s1, s2, baseline\n",
    "cols = df_res.columns.tolist()\n",
    "df_res['group'] = 'Baseline'\n",
    "df_res_s1['group'] = 'Subtype 1'\n",
    "df_res_s2['group'] = 'Subtype 2'\n",
    "df_res_all = pd.concat([df_res, df_res_s1, df_res_s2])\n",
    "df_res_all = df_res_all[['group', 'disease', 'mean_c_index', 'std_c_index']]"
   ],
   "metadata": {
    "collapsed": false
   },
   "id": "c871f55897818965",
   "outputs": [],
   "execution_count": null
  },
  {
   "cell_type": "code",
   "source": [
    "# sort by disease, group\n",
    "df_res_all = df_res_all.sort_values(by=['disease', 'group'])\n",
    "# to csv\n",
    "df_res_all.to_csv('results/prediction/all_c_index.csv', index=False)"
   ],
   "metadata": {
    "collapsed": false
   },
   "id": "ca88cc4aa8b45a53",
   "outputs": [],
   "execution_count": null
  },
  {
   "cell_type": "code",
   "source": [
    "# pvalues for subtype 1 and control\n",
    "from scipy.stats import ttest_ind\n",
    "pvalues_s1, pvalues_s2, pvalues_s12 = [], [], []\n",
    "for disease in diseases:\n",
    "    c_index_control = res_baseline[diseases.index(disease)]\n",
    "    c_index_s1 = res_s1[diseases.index(disease)]\n",
    "    c_index_s2 = res_s2[diseases.index(disease)]\n",
    "    _, pvalue_s1c = ttest_ind(c_index_s1, c_index_control)\n",
    "    _, pvalue_s2c = ttest_ind(c_index_s2, c_index_control)\n",
    "    _, pvalue_s12 = ttest_ind(c_index_s1, c_index_s2)\n",
    "    pvalues_s1.append(pvalue_s1c)\n",
    "    pvalues_s2.append(pvalue_s2c)\n",
    "    pvalues_s12.append(pvalue_s12)"
   ],
   "metadata": {
    "collapsed": false
   },
   "id": "139f946aee647f5f",
   "outputs": [],
   "execution_count": null
  },
  {
   "metadata": {},
   "cell_type": "code",
   "source": [
    "# to csv\n",
    "df_pvalues = pd.DataFrame({'disease': diseases, 'pvalue_s1': pvalues_s1, 'pvalue_s2': pvalues_s2, 'pvalue_s12': pvalues_s12})"
   ],
   "id": "74e23f71f2b82631",
   "outputs": [],
   "execution_count": null
  },
  {
   "metadata": {},
   "cell_type": "code",
   "source": "df_pvalues.to_csv('results/prediction/pvalues_cindex.csv', index=False)",
   "id": "965fd10f0a9e5e1b",
   "outputs": [],
   "execution_count": null
  },
  {
   "metadata": {},
   "cell_type": "code",
   "source": [
    "# save all fold results\n",
    "diseases_rep = [disease for disease in diseases for _ in range(10)]\n",
    "df_res_baseline_af = pd.DataFrame({'disease': diseases_rep, 'c_index': res_baseline.flatten(), 'group': 'Baseline'})\n",
    "df_res_s1_af = pd.DataFrame({'disease': diseases_rep, 'c_index': res_s1.flatten(), 'group': 'Subtype 1'})\n",
    "df_res_s2_af = pd.DataFrame({'disease': diseases_rep, 'c_index': res_s2.flatten(), 'group': 'Subtype 2'})\n",
    "# merge\n",
    "df_res_all_af = pd.concat([df_res_baseline_af, df_res_s1_af, df_res_s2_af], axis=0)\n",
    "# to csv\n",
    "df_res_all_af.to_csv('results/prediction/all_c_index_af.csv', index=False)"
   ],
   "id": "997ba2c67d7d794c",
   "outputs": [],
   "execution_count": null
  },
  {
   "metadata": {},
   "cell_type": "code",
   "source": [
    "cph = CoxPHFitter()\n",
    "df_sa = pd.read_csv('data/subtype1/survival_data_hypertension.csv')"
   ],
   "id": "75f15cfdeb60f3ce",
   "outputs": [],
   "execution_count": null
  },
  {
   "metadata": {},
   "cell_type": "code",
   "source": [
    "# train test split\n",
    "df_train, df_test = train_test_split(df_sa, test_size=0.2, random_state=42)"
   ],
   "id": "e1ed279793b89a08",
   "outputs": [],
   "execution_count": null
  },
  {
   "metadata": {},
   "cell_type": "code",
   "source": [
    "# drop column Eid and Stage\n",
    "# df_train = df_train.drop(columns=['Eid', 'Stage'])\n",
    "cph.fit(df_train, duration_col='time', event_col='hypertension')"
   ],
   "id": "b76a9d75ba952bb7",
   "outputs": [],
   "execution_count": null
  },
  {
   "metadata": {},
   "cell_type": "code",
   "source": [
    "# predict survival at time 1-15 years\n",
    "survival = cph.predict_survival_function(df_test[['Subtype']], times=[1, 2, 3, 4, 5, 6, 7, 8, 9, 10, 11, 12, 13, 14, 15])"
   ],
   "id": "79e05816d91c0e50",
   "outputs": [],
   "execution_count": null
  },
  {
   "metadata": {},
   "cell_type": "code",
   "source": "",
   "id": "caf11f9bda0b7868",
   "outputs": [],
   "execution_count": null
  }
 ],
 "metadata": {
  "kernelspec": {
   "display_name": "Python 3",
   "language": "python",
   "name": "python3"
  },
  "language_info": {
   "codemirror_mode": {
    "name": "ipython",
    "version": 2
   },
   "file_extension": ".py",
   "mimetype": "text/x-python",
   "name": "python",
   "nbconvert_exporter": "python",
   "pygments_lexer": "ipython2",
   "version": "2.7.6"
  }
 },
 "nbformat": 4,
 "nbformat_minor": 5
}
