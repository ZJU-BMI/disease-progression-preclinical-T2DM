{
 "cells": [
  {
   "cell_type": "code",
   "id": "initial_id",
   "metadata": {
    "collapsed": true
   },
   "source": [
    "import os\n",
    "import pandas as pd\n",
    "import numpy as np\n",
    "import statsmodels.api as sm\n",
    "from utils import zscore_regressed_out_covariates"
   ],
   "outputs": [],
   "execution_count": null
  },
  {
   "cell_type": "code",
   "source": [
    "# Load data\n",
    "df = pd.read_csv('data/data_subtype.csv')\n",
    "df.columns"
   ],
   "metadata": {
    "collapsed": false
   },
   "id": "dbb0920a4aa43d4",
   "outputs": [],
   "execution_count": null
  },
  {
   "cell_type": "code",
   "source": [
    "covariates = ['Sex', 'Age', 'Drinking_status', 'Smoking_status', 'Income', 'Education']\n",
    "cognitive_scores = [\n",
    "    'Maximum_digits_remembered_correctly',\n",
    "    'Number_of_symbol_digit_matches_made_correctly',\n",
    "    'Mean_time_to_correctly_identify_matches',\n",
    "    'Fluid_intelligence_score',\n",
    "    'Prospective_memory_result',\n",
    "    'Duration_to_complete_alphanumeric_path',\n",
    "]\n",
    "cog_cate = [\n",
    "    'Numeric memory',\n",
    "    'Symbol digit substitution',\n",
    "    'Reaction time',\n",
    "    'Fluid intelligence and reasoning',\n",
    "    'Prospective memory',\n",
    "    'Trail making',\n",
    "]"
   ],
   "metadata": {
    "collapsed": false
   },
   "id": "79e6132254363e8d",
   "outputs": [],
   "execution_count": null
  },
  {
   "cell_type": "code",
   "source": [
    "# for each cognitive score, regress out the covariates and linear regression with subtype\n",
    "res_subtype1 = np.zeros((len(cognitive_scores), 5))\n",
    "res_subtype2 = np.zeros((len(cognitive_scores), 5))\n",
    "for i, score in enumerate(cognitive_scores):\n",
    "    print(f'Regressing out covariates for {score}')\n",
    "    df_cog = df[['t2dm','Subtype', score] + covariates].dropna()\n",
    "    \n",
    "    print('Original shape:', df_cog.shape)\n",
    "    df_cog_zscored = zscore_regressed_out_covariates(df_cog, 't2dm', [score], covariates)\n",
    "    df_subtype1 = df_cog_zscored[df_cog_zscored['Subtype'].isin(['control', 'Subtype 1'])].copy()\n",
    "    df_subtype2 = df_cog_zscored[df_cog_zscored['Subtype'].isin(['control', 'Subtype 2'])].copy()\n",
    "    \n",
    "    # convert to int. control: 0, subtype: 1\n",
    "    df_subtype1['Subtype'] = df_subtype1['Subtype'].map({'control': 0, 'Subtype 1': 1})\n",
    "    df_subtype2['Subtype'] = df_subtype2['Subtype'].map({'control': 0, 'Subtype 2': 1})\n",
    "    \n",
    "    # linear regression for subtype 1 and cognitive score\n",
    "    x1 = sm.add_constant(df_subtype1['Subtype'])\n",
    "    y1 = df_subtype1[score]\n",
    "    model1 = sm.OLS(y1, x1).fit()\n",
    "    # save beta, se, pvalue, tvalue, and r2\n",
    "    res_subtype1[i, 0] = model1.params['Subtype']\n",
    "    res_subtype1[i, 1] = model1.bse['Subtype']\n",
    "    res_subtype1[i, 2] = model1.pvalues['Subtype']\n",
    "    res_subtype1[i, 3] = model1.tvalues['Subtype']\n",
    "    res_subtype1[i, 4] = model1.rsquared\n",
    "    \n",
    "    # linear regression for subtype 2 and cognitive score\n",
    "    x2 = sm.add_constant(df_subtype2['Subtype'])\n",
    "    y2 = df_subtype2[score]\n",
    "    model2 = sm.OLS(y2, x2).fit()\n",
    "    # save beta, se, pvalue, tvalue, and r2\n",
    "    res_subtype2[i, 0] = model2.params['Subtype']\n",
    "    res_subtype2[i, 1] = model2.bse['Subtype']\n",
    "    res_subtype2[i, 2] = model2.pvalues['Subtype']\n",
    "    res_subtype2[i, 3] = model2.tvalues['Subtype']\n",
    "    res_subtype2[i, 4] = model2.rsquared\n",
    "    "
   ],
   "metadata": {
    "collapsed": false
   },
   "id": "a972b4cb2ab89a0b",
   "outputs": [],
   "execution_count": null
  },
  {
   "cell_type": "code",
   "source": [
    "# save results\n",
    "res_subtype1_df = pd.DataFrame(res_subtype1, columns=['beta', 'se', 'pvalue', 'tvalue', 'r2'])\n",
    "res_subtype2_df = pd.DataFrame(res_subtype2, columns=['beta', 'se', 'pvalue', 'tvalue', 'r2'])\n",
    "res_subtype1_df['Subtype'] = 'Subtype 1'\n",
    "res_subtype2_df['Subtype'] = 'Subtype 2'\n",
    "res_subtype1_df['cognitive_score'] = cognitive_scores\n",
    "res_subtype2_df['cognitive_score'] = cognitive_scores\n",
    "# reorder columns\n",
    "res_subtype1_df = res_subtype1_df[['Subtype', 'cognitive_score' , 'beta', 'se', 'pvalue', 'tvalue', 'r2']]\n",
    "res_subtype2_df = res_subtype2_df[['Subtype', 'cognitive_score' , 'beta', 'se', 'pvalue', 'tvalue', 'r2']]"
   ],
   "metadata": {
    "collapsed": false
   },
   "id": "108c1c44a29054c5",
   "outputs": [],
   "execution_count": null
  },
  {
   "cell_type": "code",
   "source": [
    "# fdr correction\n",
    "from statsmodels.stats.multitest import multipletests\n",
    "res_subtype1_df['P_FDR'] = multipletests(res_subtype1_df['pvalue'], method='fdr_bh')[1]\n",
    "res_subtype2_df['P_FDR'] = multipletests(res_subtype2_df['pvalue'], method='fdr_bh')[1]"
   ],
   "metadata": {
    "collapsed": false
   },
   "id": "600a3d023c97878a",
   "outputs": [],
   "execution_count": null
  },
  {
   "cell_type": "code",
   "source": [
    "# concatenate results\n",
    "res_subtype = pd.concat([res_subtype1_df, res_subtype2_df])\n",
    "res_subtype['Sig_Note'] = res_subtype['P_FDR'].apply(lambda x: '< 0.05' if x < 0.05 else 'NS' )\n",
    "os.makedirs('results/cognitive', exist_ok=True)\n",
    "res_subtype.to_csv('results/cognitive/cognitive_scores_subtype.csv', index=False)"
   ],
   "metadata": {
    "collapsed": false
   },
   "id": "ed4c2a94dc4a616b",
   "outputs": [],
   "execution_count": null
  },
  {
   "cell_type": "code",
   "source": [],
   "metadata": {
    "collapsed": false
   },
   "id": "c52470102df5e9eb",
   "outputs": [],
   "execution_count": null
  }
 ],
 "metadata": {
  "kernelspec": {
   "display_name": "Python 3",
   "language": "python",
   "name": "python3"
  },
  "language_info": {
   "codemirror_mode": {
    "name": "ipython",
    "version": 2
   },
   "file_extension": ".py",
   "mimetype": "text/x-python",
   "name": "python",
   "nbconvert_exporter": "python",
   "pygments_lexer": "ipython2",
   "version": "2.7.6"
  }
 },
 "nbformat": 4,
 "nbformat_minor": 5
}
