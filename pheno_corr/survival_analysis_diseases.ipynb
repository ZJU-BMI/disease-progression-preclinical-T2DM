{
 "cells": [
  {
   "cell_type": "markdown",
   "source": [
    "# survival analysis betweem T2D Subtype and diseases"
   ],
   "metadata": {
    "collapsed": false
   },
   "id": "f00074b336c97d67"
  },
  {
   "cell_type": "code",
   "source": [
    "import os\n",
    "import pandas as pd\n",
    "import numpy as np\n",
    "from lifelines import KaplanMeierFitter, CoxPHFitter"
   ],
   "metadata": {
    "collapsed": false
   },
   "id": "6f8f1bd303427b11",
   "outputs": [],
   "execution_count": null
  },
  {
   "cell_type": "code",
   "source": [
    "diseases = [\n",
    "    'Alzheimers_disease', \n",
    "    'Anorexia_nervosa', \n",
    "    'Anxiety_disorder', \n",
    "    'Bipolar_disorder', \n",
    "    'Depression_disorder', \n",
    "    'Epilepsy', \n",
    "    'Multiple_sclerosis', \n",
    "    'Obsessive_compulsive_disorder', \n",
    "    'Parkinsons_disease', \n",
    "    'Schizophrenia', \n",
    "    'Sleep_disorder', \n",
    "    'Stroke'\n",
    "    # 'hypertension', \n",
    "    # 'heart_failure', \n",
    "    # 'ischemic_heart_disease', \n",
    "    # 'cardiac_arrhythmias', \n",
    "    # 'acute_kidney_failure', \n",
    "    # 'chronic_kidney_disease',\n",
    "    # 'glomerulus_nephritis',\n",
    "    # 'obesity', \n",
    "    # 'retinopathy', \n",
    "    # 'asthma'\n",
    "]\n",
    "subtypes = ['subtype1', 'subtype2']\n",
    "control = False"
   ],
   "metadata": {
    "collapsed": false
   },
   "id": "cc4ff97b88ecf94a",
   "outputs": [],
   "execution_count": null
  },
  {
   "cell_type": "code",
   "source": [
    "# CoxPH for each brain disorder\n",
    "# save HR, 95% CI lower, upper and p-value, \n",
    "res_subtype1 = np.zeros((len(diseases), 11))\n",
    "for dis in diseases:\n",
    "    if control:\n",
    "        df = pd.read_csv(f'data/subtype1_control/survival_data_{dis}.csv')\n",
    "    else:\n",
    "        df = pd.read_csv(f'data/subtype1/survival_data_{dis}.csv')\n",
    "    # drop Eid\n",
    "    df = df.drop(columns=['Eid', 'Stage'])\n",
    "    cph = CoxPHFitter()\n",
    "    cph.fit(df, duration_col='time', event_col=dis)\n",
    "    # save HR, 95% CI lower, upper and p-value\n",
    "    res_subtype1[diseases.index(dis), :] = cph.summary.loc['Subtype'].values"
   ],
   "metadata": {
    "collapsed": false
   },
   "id": "1ed21e42df728260",
   "outputs": [],
   "execution_count": null
  },
  {
   "cell_type": "code",
   "source": [
    "# CoxPH for each brain disorder for subtype2\n",
    "res_subtype2 = np.zeros((len(diseases), 11))\n",
    "for dis in diseases:\n",
    "    if control:\n",
    "        df = pd.read_csv(f'data/subtype2_control/survival_data_{dis}.csv')\n",
    "    else:\n",
    "        df = pd.read_csv(f'data/subtype2/survival_data_{dis}.csv')\n",
    "    # drop Eid\n",
    "    df = df.drop(columns=['Eid', 'Stage'])\n",
    "    cph = CoxPHFitter()\n",
    "    cph.fit(df, duration_col='time', event_col=dis)\n",
    "    # save HR, 95% CI lower, upper and p-value\n",
    "    res_subtype2[diseases.index(dis), :] = cph.summary.loc['Subtype'].values"
   ],
   "metadata": {
    "collapsed": false
   },
   "id": "f00bd103f32cc078",
   "outputs": [],
   "execution_count": null
  },
  {
   "cell_type": "code",
   "source": [
    "cols = cph.summary.columns.tolist()\n",
    "print(cols)"
   ],
   "metadata": {
    "collapsed": false
   },
   "id": "d139a72547a36806",
   "outputs": [],
   "execution_count": null
  },
  {
   "cell_type": "code",
   "source": [
    "# save results\n",
    "res_subtype1 = pd.DataFrame(res_subtype1, columns=cols)\n",
    "res_subtype1['Subtype'] = 'Subtype 1'\n",
    "res_subtype1['Diseases'] = diseases\n",
    "# rearrange columns\n",
    "res_subtype1 = res_subtype1[['Subtype', 'Diseases'] + cols]\n",
    "\n",
    "res_subtype2 = pd.DataFrame(res_subtype2, columns=cols)\n",
    "res_subtype2['Subtype'] = 'Subtype 2'\n",
    "res_subtype2['Diseases'] = diseases\n",
    "# rearrange columns\n",
    "res_subtype2 = res_subtype2[['Subtype', 'Diseases'] + cols]"
   ],
   "metadata": {
    "collapsed": false
   },
   "id": "72680a8cc9c71b8",
   "outputs": [],
   "execution_count": null
  },
  {
   "cell_type": "code",
   "source": [
    "# fdr correction\n",
    "from statsmodels.stats.multitest import multipletests\n",
    "res_subtype1['P_FDR'] = multipletests(res_subtype1['p'], method='fdr_bh')[1]\n",
    "res_subtype2['P_FDR'] = multipletests(res_subtype2['p'], method='fdr_bh')[1]"
   ],
   "metadata": {
    "collapsed": false
   },
   "id": "e0334e6e43b72fa6",
   "outputs": [],
   "execution_count": null
  },
  {
   "cell_type": "code",
   "source": [
    "# merge results\n",
    "res = pd.concat([res_subtype1, res_subtype2], axis=0)\n",
    "# rename coef to HR\n",
    "res = res.rename(columns={\n",
    "    'coef': 'beta', \n",
    "    'exp(coef)': 'HR',\n",
    "    'se(coef)': 'se (beta)',\n",
    "    'coef lower 95%': 'beta lower 95% CI',\n",
    "    'coef upper 95%': 'beta upper 95% CI',\n",
    "    'exp(coef) lower 95%': 'HR lower 95% CI',\n",
    "    'exp(coef) upper 95%': 'HR upper 95% CI',\n",
    "})\n",
    "res['Sig_Note'] = np.where(res['P_FDR'] < 0.05, 'p.adj < 0.05', 'NS')"
   ],
   "metadata": {
    "collapsed": false
   },
   "id": "43b7f7dc38ea28e3",
   "outputs": [],
   "execution_count": null
  },
  {
   "cell_type": "code",
   "source": [
    "if control:\n",
    "    res_path = 'results/SA_diseases_control'\n",
    "else:\n",
    "    res_path = 'results/SA_diseases'\n",
    "os.makedirs(res_path, exist_ok=True)\n",
    "# res.to_csv(os.path.join(res_path, 'coxph_diseases.csv'), index=False)"
   ],
   "metadata": {
    "collapsed": false
   },
   "id": "13ffc4f57d37cd71",
   "outputs": [],
   "execution_count": null
  },
  {
   "cell_type": "code",
   "source": [
    "res_s1 = res[res['Subtype'] == 'Subtype 1'].copy()\n",
    "res_s2 = res[res['Subtype'] == 'Subtype 2'].copy()\n",
    "res_s1.drop(columns='Subtype', inplace=True)\n",
    "res_s2.drop(columns='Subtype', inplace=True)\n",
    "\n",
    "res_comp = pd.merge(res_s1, res_s2, on='Diseases', suffixes=('_subtype1', '_subtype2'))\n",
    "res_comp = res_comp[\n",
    "    ['Diseases', 'HR_subtype1', 'HR_subtype2',\n",
    "                     'P_FDR_subtype1','P_FDR_subtype2',\n",
    "                     'Sig_Note_subtype1', 'Sig_Note_subtype2'\n",
    "     ]\n",
    "]\n",
    "res_comp.to_csv(os.path.join(res_path, 'coxph_diseases_subtype_comp.csv'), index=False)"
   ],
   "metadata": {
    "collapsed": false
   },
   "id": "5d44f0b2fcbadb3a",
   "outputs": [],
   "execution_count": null
  },
  {
   "cell_type": "code",
   "source": "df_dis_name = pd.read_csv('data/disease_gwas_ids.csv')",
   "metadata": {
    "collapsed": false
   },
   "id": "408071f4044b37ae",
   "outputs": [],
   "execution_count": null
  },
  {
   "metadata": {},
   "cell_type": "code",
   "source": "res = pd.merge(res, df_dis_name[['pheno', 'pheno_abv']], left_on='Diseases', right_on='pheno', how='left')",
   "id": "70c10550e17533e4",
   "outputs": [],
   "execution_count": null
  },
  {
   "metadata": {},
   "cell_type": "code",
   "source": "res.to_csv(os.path.join(res_path, 'coxph_diseases.csv'), index=False)",
   "id": "6fb23a10ae5eaab2",
   "outputs": [],
   "execution_count": null
  },
  {
   "metadata": {},
   "cell_type": "code",
   "source": [
    "# coxph for subtype1 and subtype 2, subtype 1 as reference\n",
    "res_subtype_comp = np.zeros((len(diseases), 11))\n",
    "for dis in diseases:\n",
    "    df1 = pd.read_csv(f'data/subtype1/survival_data_{dis}.csv')\n",
    "    df2 = pd.read_csv(f'data/subtype2/survival_data_{dis}.csv')\n",
    "    # remove controls\n",
    "    df1 = df1[df1['Subtype'] == 1]\n",
    "    df2 = df2[df2['Subtype'] == 1]\n",
    "    df1['Subtype'] = 0 # as reference\n",
    "    df = pd.concat([df1, df2], axis=0)\n",
    "    # drop Eid\n",
    "    df = df.drop(columns=['Eid', 'Stage'])\n",
    "    cph = CoxPHFitter()\n",
    "    cph.fit(df, duration_col='time', event_col=dis)\n",
    "    # save HR, 95% CI lower, upper and p-value\n",
    "    res_subtype_comp[diseases.index(dis), :] = cph.summary.loc['Subtype'].values"
   ],
   "id": "c5e4ec16f671bf92",
   "outputs": [],
   "execution_count": null
  },
  {
   "metadata": {},
   "cell_type": "code",
   "source": [
    "res_subtype_comp = pd.DataFrame(res_subtype_comp, columns=cols)\n",
    "res_subtype_comp['Diseases'] = diseases\n",
    "res_subtype_comp['Subtype'] = 'Subtype 2 vs 1'\n",
    "res_subtype_comp = res_subtype_comp[['Diseases'] + cols]\n",
    "res_subtype_comp['P_FDR'] = multipletests(res_subtype_comp['p'], method='fdr_bh')[1]\n",
    "res_subtype_comp.rename(columns={\n",
    "    'coef': 'beta', \n",
    "    'exp(coef)': 'HR',\n",
    "    'se(coef)': 'se (beta)',\n",
    "    'coef lower 95%': 'beta lower 95% CI',\n",
    "    'coef upper 95%': 'beta upper 95% CI',\n",
    "    'exp(coef) lower 95%': 'HR lower 95% CI',\n",
    "    'exp(coef) upper 95%': 'HR upper 95% CI',\n",
    "}, inplace=True)\n",
    "res_subtype_comp = pd.merge(res_subtype_comp, df_dis_name[['pheno', 'pheno_abv']], left_on='Diseases', right_on='pheno', how='left')\n",
    "res_subtype_comp.to_csv(os.path.join(res_path, 'coxph_diseases_subtype1vs2.csv'), index=False)"
   ],
   "id": "761cf879b2a4a71d",
   "outputs": [],
   "execution_count": null
  },
  {
   "metadata": {},
   "cell_type": "code",
   "source": "",
   "id": "7ea4639c01601a04",
   "outputs": [],
   "execution_count": null
  }
 ],
 "metadata": {
  "kernelspec": {
   "display_name": "Python 3",
   "language": "python",
   "name": "python3"
  },
  "language_info": {
   "codemirror_mode": {
    "name": "ipython",
    "version": 2
   },
   "file_extension": ".py",
   "mimetype": "text/x-python",
   "name": "python",
   "nbconvert_exporter": "python",
   "pygments_lexer": "ipython2",
   "version": "2.7.6"
  }
 },
 "nbformat": 4,
 "nbformat_minor": 5
}
