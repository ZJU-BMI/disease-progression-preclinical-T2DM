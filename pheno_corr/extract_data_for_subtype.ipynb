{
 "cells": [
  {
   "cell_type": "code",
   "id": "initial_id",
   "metadata": {
    "collapsed": true,
    "ExecuteTime": {
     "end_time": "2024-04-27T07:38:52.186773Z",
     "start_time": "2024-04-27T07:38:52.184494Z"
    }
   },
   "source": [
    "import numpy as np\n",
    "import pandas as pd"
   ],
   "outputs": [],
   "execution_count": 5
  },
  {
   "cell_type": "code",
   "source": [
    "df = pd.read_csv('data/sustain_results_biomarkers.csv')\n",
    "df_t2dm = df[df['t2dm'] == 1]\n",
    "print(df_t2dm['Subtype'].value_counts())"
   ],
   "metadata": {
    "collapsed": false,
    "ExecuteTime": {
     "end_time": "2024-04-27T07:38:52.362779Z",
     "start_time": "2024-04-27T07:38:52.187777Z"
    }
   },
   "id": "28e32719e1eccbf3",
   "outputs": [
    {
     "name": "stdout",
     "output_type": "stream",
     "text": [
      "Subtype\n",
      "Subtype 2    10903\n",
      "Subtype 1     9402\n",
      "Name: count, dtype: int64\n"
     ]
    }
   ],
   "execution_count": 6
  },
  {
   "cell_type": "code",
   "source": [
    "df_brain_disease = pd.read_csv('data/diseases/data_brain_disorder_all.csv')\n",
    "df_cognitive = pd.read_csv('data/cognitive/data_cognitive_all.csv')\n",
    "df_comm_disease = pd.read_csv('data/diseases/common_disease.csv')"
   ],
   "metadata": {
    "collapsed": false,
    "ExecuteTime": {
     "end_time": "2024-04-27T07:38:52.756147Z",
     "start_time": "2024-04-27T07:38:52.362779Z"
    }
   },
   "id": "3e4224d77274907e",
   "outputs": [],
   "execution_count": 7
  },
  {
   "cell_type": "code",
   "source": "df = df[['Eid', 't2dm', 'Sex', 'Age', 'Drinking_status', 'Smoking_status', 'Income', 'Education', 'Subtype', 'Stage']]",
   "metadata": {
    "collapsed": false,
    "ExecuteTime": {
     "end_time": "2024-04-27T07:38:52.760655Z",
     "start_time": "2024-04-27T07:38:52.756147Z"
    }
   },
   "id": "459be1f71c2b08d6",
   "outputs": [],
   "execution_count": 8
  },
  {
   "cell_type": "code",
   "source": [
    "# merge the data\n",
    "df = df.merge(df_brain_disease, on='Eid', how='left')\n",
    "df = df.merge(df_cognitive, on='Eid', how='left')\n",
    "df = df.merge(df_comm_disease, on='Eid', how='left')\n",
    "print(df['Subtype'].value_counts())"
   ],
   "metadata": {
    "collapsed": false,
    "ExecuteTime": {
     "end_time": "2024-04-27T07:38:52.911583Z",
     "start_time": "2024-04-27T07:38:52.761162Z"
    }
   },
   "id": "8de1cacb03b6c845",
   "outputs": [
    {
     "name": "stdout",
     "output_type": "stream",
     "text": [
      "Subtype\n",
      "Subtype 1    20773\n",
      "Subtype 2    19837\n",
      "Name: count, dtype: int64\n"
     ]
    }
   ],
   "execution_count": 9
  },
  {
   "cell_type": "code",
   "source": [
    "# subtype if df['t2dm'] == 0 then 'control' else subtype\n",
    "df['Subtype'] = df.apply(lambda x: 'control' if x['t2dm'] == 0 else x['Subtype'], axis=1)"
   ],
   "metadata": {
    "collapsed": false,
    "ExecuteTime": {
     "end_time": "2024-04-27T07:38:53.042567Z",
     "start_time": "2024-04-27T07:38:52.911583Z"
    }
   },
   "id": "97d52633c4545781",
   "outputs": [],
   "execution_count": 10
  },
  {
   "cell_type": "code",
   "source": [
    "print(df['Subtype'].value_counts())"
   ],
   "metadata": {
    "collapsed": false,
    "ExecuteTime": {
     "end_time": "2024-04-27T07:38:53.046701Z",
     "start_time": "2024-04-27T07:38:53.042567Z"
    }
   },
   "id": "5940029d6487c835",
   "outputs": [
    {
     "name": "stdout",
     "output_type": "stream",
     "text": [
      "Subtype\n",
      "control      20305\n",
      "Subtype 2    10903\n",
      "Subtype 1     9402\n",
      "Name: count, dtype: int64\n"
     ]
    }
   ],
   "execution_count": 11
  },
  {
   "cell_type": "code",
   "source": [
    "df.to_csv('data/data_subtype.csv', index=False)"
   ],
   "metadata": {
    "collapsed": false,
    "ExecuteTime": {
     "end_time": "2024-04-27T07:38:53.223541Z",
     "start_time": "2024-04-27T07:38:53.046701Z"
    }
   },
   "id": "b30cc7b35bffa3f6",
   "outputs": [],
   "execution_count": 12
  },
  {
   "cell_type": "code",
   "source": [
    "# idp data\n",
    "df_idp = pd.read_csv('data/idp/data_587idp_v2.csv')"
   ],
   "metadata": {
    "collapsed": false,
    "ExecuteTime": {
     "end_time": "2024-04-27T07:38:54.554585Z",
     "start_time": "2024-04-27T07:38:53.223541Z"
    }
   },
   "id": "c74438f68620c542",
   "outputs": [],
   "execution_count": 13
  },
  {
   "cell_type": "code",
   "source": [
    "df_idp_sub = df.merge(df_idp, on='Eid', how='inner')"
   ],
   "metadata": {
    "collapsed": false,
    "ExecuteTime": {
     "end_time": "2024-04-27T07:38:54.617340Z",
     "start_time": "2024-04-27T07:38:54.554585Z"
    }
   },
   "id": "e49a481db362220b",
   "outputs": [],
   "execution_count": 14
  },
  {
   "cell_type": "code",
   "source": [
    "df_idp_sub.to_csv('data/data_subtype_idp.csv', index=False)"
   ],
   "metadata": {
    "collapsed": false,
    "ExecuteTime": {
     "end_time": "2024-04-27T07:38:55.085620Z",
     "start_time": "2024-04-27T07:38:54.618343Z"
    }
   },
   "id": "2cf5f9c997c12421",
   "outputs": [],
   "execution_count": 15
  },
  {
   "cell_type": "code",
   "source": [
    "print(df.columns)\n",
    "print(df['Subtype'].value_counts())"
   ],
   "metadata": {
    "collapsed": false,
    "ExecuteTime": {
     "end_time": "2024-04-27T07:50:35.042121Z",
     "start_time": "2024-04-27T07:50:35.037216Z"
    }
   },
   "id": "35a1c37f682a01d8",
   "outputs": [
    {
     "name": "stdout",
     "output_type": "stream",
     "text": [
      "Index(['Eid', 't2dm', 'Sex', 'Age', 'Drinking_status', 'Smoking_status',\n",
      "       'Income', 'Education', 'Subtype', 'Stage', 'Alzheimers_disease',\n",
      "       'Anorexia_nervosa', 'Anxiety_disorder', 'Bipolar_disorder',\n",
      "       'Depression_disorder', 'Epilepsy', 'Multiple_sclerosis',\n",
      "       'Obsessive_compulsive_disorder', 'Parkinsons_disease',\n",
      "       'post_traumatic_stress_disorder', 'Schizophrenia', 'Sleep_disorder',\n",
      "       'Stroke', 'Maximum_digits_remembered_correctly',\n",
      "       'Number_of_symbol_digit_matches_made_correctly',\n",
      "       'Mean_time_to_correctly_identify_matches', 'Fluid_intelligence_score',\n",
      "       'Prospective_memory_result',\n",
      "       'Errors_before_selecting_correct_item_in_alphanumeric_path',\n",
      "       'Duration_to_complete_alphanumeric_path', 'hypertension',\n",
      "       'renal_failure', 'heart_failure', 'obesity', 'hyperlipidemia',\n",
      "       'ischemic_heart_disease', 'retinopathy', 'asthma',\n",
      "       'acute_kidney_failure', 'chronic_kidney_disease', 'cardiac_arrhythmias',\n",
      "       'glomerulus_nephritis'],\n",
      "      dtype='object')\n",
      "Subtype\n",
      "control      20305\n",
      "Subtype 2    10903\n",
      "Subtype 1     9402\n",
      "Name: count, dtype: int64\n"
     ]
    }
   ],
   "execution_count": 17
  },
  {
   "cell_type": "code",
   "source": [
    "diseases = [\n",
    "    'Alzheimers_disease',\n",
    "    'Anorexia_nervosa',\n",
    "    'Anxiety_disorder',\n",
    "    'Bipolar_disorder',\n",
    "    'Depression_disorder',\n",
    "    'Epilepsy',\n",
    "    'Multiple_sclerosis',\n",
    "    'Obsessive_compulsive_disorder',\n",
    "    'Parkinsons_disease',\n",
    "    'Schizophrenia',\n",
    "    'Sleep_disorder',\n",
    "    'Stroke',\n",
    "    'hypertension', \n",
    "    'heart_failure', \n",
    "    'ischemic_heart_disease', \n",
    "    'cardiac_arrhythmias', \n",
    "    'acute_kidney_failure', \n",
    "    'chronic_kidney_disease',\n",
    "    'glomerulus_nephritis',\n",
    "    'obesity', \n",
    "    # 'hyperlipidemia', \n",
    "    'retinopathy', \n",
    "    'asthma'\n",
    "]"
   ],
   "metadata": {
    "collapsed": false,
    "ExecuteTime": {
     "end_time": "2024-04-27T07:53:10.296582Z",
     "start_time": "2024-04-27T07:53:10.293656Z"
    }
   },
   "id": "e9d36adcd3428a9b",
   "outputs": [],
   "execution_count": 19
  },
  {
   "cell_type": "code",
   "source": [
    "# diseases cases in each subtype\n",
    "import numpy as np\n",
    "cases = np.zeros((len(diseases), 3), dtype=int)\n",
    "for i, disease in enumerate(diseases):\n",
    "    print(disease)\n",
    "    n_control = df[(df[disease] == 1) & (df['Subtype'] == 'control')].shape[0]\n",
    "    n_s1 = df[(df[disease] == 1) & (df['Subtype'] == 'Subtype 1')].shape[0]\n",
    "    n_s2 = df[(df[disease] == 1) & (df['Subtype'] == 'Subtype 2')].shape[0]\n",
    "    cases[i, :] = [n_control, n_s1, n_s2]"
   ],
   "metadata": {
    "collapsed": false,
    "ExecuteTime": {
     "end_time": "2024-04-27T07:56:35.291211Z",
     "start_time": "2024-04-27T07:56:35.189811Z"
    }
   },
   "id": "46b00270a5c71ee6",
   "outputs": [
    {
     "name": "stdout",
     "output_type": "stream",
     "text": [
      "Alzheimers_disease\n",
      "Anorexia_nervosa\n",
      "Anxiety_disorder\n",
      "Bipolar_disorder\n",
      "Depression_disorder\n",
      "Epilepsy\n",
      "Multiple_sclerosis\n",
      "Obsessive_compulsive_disorder\n",
      "Parkinsons_disease\n",
      "Schizophrenia\n",
      "Sleep_disorder\n",
      "Stroke\n",
      "hypertension\n",
      "heart_failure\n",
      "ischemic_heart_disease\n",
      "cardiac_arrhythmias\n",
      "acute_kidney_failure\n",
      "chronic_kidney_disease\n",
      "glomerulus_nephritis\n",
      "obesity\n",
      "retinopathy\n",
      "asthma\n"
     ]
    }
   ],
   "execution_count": 24
  },
  {
   "metadata": {
    "ExecuteTime": {
     "end_time": "2024-04-27T07:56:35.686047Z",
     "start_time": "2024-04-27T07:56:35.682735Z"
    }
   },
   "cell_type": "code",
   "source": [
    "# save the cases\n",
    "df_cases = pd.DataFrame(cases, columns=['control', 'Subtype 1', 'Subtype 2'], index=diseases)\n",
    "df_cases.to_csv('data/disease_cases.csv')"
   ],
   "id": "b194d08459677c4e",
   "outputs": [],
   "execution_count": 25
  },
  {
   "metadata": {},
   "cell_type": "code",
   "outputs": [],
   "execution_count": null,
   "source": "",
   "id": "5864ff9a45225217"
  }
 ],
 "metadata": {
  "kernelspec": {
   "display_name": "Python 3",
   "language": "python",
   "name": "python3"
  },
  "language_info": {
   "codemirror_mode": {
    "name": "ipython",
    "version": 2
   },
   "file_extension": ".py",
   "mimetype": "text/x-python",
   "name": "python",
   "nbconvert_exporter": "python",
   "pygments_lexer": "ipython2",
   "version": "2.7.6"
  }
 },
 "nbformat": 4,
 "nbformat_minor": 5
}
