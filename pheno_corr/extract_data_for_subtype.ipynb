{
 "cells": [
  {
   "cell_type": "code",
   "id": "initial_id",
   "metadata": {
    "collapsed": true
   },
   "source": [
    "import numpy as np\n",
    "import pandas as pd"
   ],
   "outputs": [],
   "execution_count": 1
  },
  {
   "cell_type": "code",
   "source": [
    "df = pd.read_csv('data/sustain_results_biomarkers_rmstage0.csv')\n",
    "df_t2dm = df[df['t2dm'] == 1]\n",
    "print(df_t2dm['Subtype'].value_counts())"
   ],
   "metadata": {
    "collapsed": false,
    "jupyter": {
     "is_executing": true
    },
    "ExecuteTime": {
     "start_time": "2024-11-14T09:12:35.611935Z"
    }
   },
   "id": "28e32719e1eccbf3",
   "outputs": [],
   "execution_count": null
  },
  {
   "cell_type": "code",
   "source": [
    "df_brain_disease = pd.read_csv('data/diseases/data_brain_disorder_all.csv')\n",
    "df_cognitive = pd.read_csv('data/cognitive/data_cognitive_all.csv')\n",
    "df_comm_disease = pd.read_csv('data/diseases/common_disease.csv')"
   ],
   "metadata": {
    "collapsed": false
   },
   "id": "3e4224d77274907e",
   "outputs": [],
   "execution_count": null
  },
  {
   "cell_type": "code",
   "source": "df = df[['Eid', 't2dm', 'Sex', 'Age', 'Drinking_status', 'Smoking_status', 'Income', 'Education', 'Subtype', 'Stage']]",
   "metadata": {
    "collapsed": false
   },
   "id": "459be1f71c2b08d6",
   "outputs": [],
   "execution_count": null
  },
  {
   "cell_type": "code",
   "source": [
    "# merge the data\n",
    "df = df.merge(df_brain_disease, on='Eid', how='left')\n",
    "df = df.merge(df_cognitive, on='Eid', how='left')\n",
    "df = df.merge(df_comm_disease, on='Eid', how='left')\n",
    "print(df['Subtype'].value_counts())"
   ],
   "metadata": {
    "collapsed": false
   },
   "id": "8de1cacb03b6c845",
   "outputs": [],
   "execution_count": null
  },
  {
   "cell_type": "code",
   "source": [
    "# subtype if df['t2dm'] == 0 then 'control' else subtype\n",
    "df['Subtype'] = df.apply(lambda x: 'control' if x['t2dm'] == 0 else x['Subtype'], axis=1)"
   ],
   "metadata": {
    "collapsed": false
   },
   "id": "97d52633c4545781",
   "outputs": [],
   "execution_count": null
  },
  {
   "cell_type": "code",
   "source": [
    "print(df['Subtype'].value_counts())"
   ],
   "metadata": {
    "collapsed": false
   },
   "id": "5940029d6487c835",
   "outputs": [],
   "execution_count": null
  },
  {
   "cell_type": "code",
   "source": [
    "df.to_csv('data/data_subtype.csv', index=False)"
   ],
   "metadata": {
    "collapsed": false
   },
   "id": "b30cc7b35bffa3f6",
   "outputs": [],
   "execution_count": null
  },
  {
   "cell_type": "code",
   "source": [
    "# idp data\n",
    "df_idp = pd.read_csv('data/idp/data_587idp_v2.csv')"
   ],
   "metadata": {
    "collapsed": false
   },
   "id": "c74438f68620c542",
   "outputs": [],
   "execution_count": null
  },
  {
   "cell_type": "code",
   "source": [
    "df_idp_sub = df.merge(df_idp, on='Eid', how='inner')"
   ],
   "metadata": {
    "collapsed": false
   },
   "id": "e49a481db362220b",
   "outputs": [],
   "execution_count": null
  },
  {
   "cell_type": "code",
   "source": [
    "df_idp_sub.to_csv('data/data_subtype_idp.csv', index=False)"
   ],
   "metadata": {
    "collapsed": false
   },
   "id": "2cf5f9c997c12421",
   "outputs": [],
   "execution_count": null
  },
  {
   "cell_type": "code",
   "source": [
    "print(df.columns)\n",
    "print(df['Subtype'].value_counts())"
   ],
   "metadata": {
    "collapsed": false
   },
   "id": "35a1c37f682a01d8",
   "outputs": [],
   "execution_count": null
  },
  {
   "cell_type": "code",
   "source": [
    "diseases = [\n",
    "    'Alzheimers_disease',\n",
    "    'Anorexia_nervosa',\n",
    "    'Anxiety_disorder',\n",
    "    'Bipolar_disorder',\n",
    "    'Depression_disorder',\n",
    "    'Epilepsy',\n",
    "    'Multiple_sclerosis',\n",
    "    'Obsessive_compulsive_disorder',\n",
    "    'Parkinsons_disease',\n",
    "    'Schizophrenia',\n",
    "    'Sleep_disorder',\n",
    "    'Stroke',\n",
    "    'hypertension', \n",
    "    'heart_failure', \n",
    "    'ischemic_heart_disease', \n",
    "    'cardiac_arrhythmias', \n",
    "    'acute_kidney_failure', \n",
    "    'chronic_kidney_disease',\n",
    "    'glomerulus_nephritis',\n",
    "    'obesity', \n",
    "    # 'hyperlipidemia', \n",
    "    'retinopathy', \n",
    "    'asthma'\n",
    "]"
   ],
   "metadata": {
    "collapsed": false
   },
   "id": "e9d36adcd3428a9b",
   "outputs": [],
   "execution_count": null
  },
  {
   "cell_type": "code",
   "source": [
    "# diseases cases in each subtype\n",
    "import numpy as np\n",
    "cases = np.zeros((len(diseases), 3), dtype=int)\n",
    "for i, disease in enumerate(diseases):\n",
    "    print(disease)\n",
    "    n_control = df[(df[disease] == 1) & (df['Subtype'] == 'control')].shape[0]\n",
    "    n_s1 = df[(df[disease] == 1) & (df['Subtype'] == 'Subtype 1')].shape[0]\n",
    "    n_s2 = df[(df[disease] == 1) & (df['Subtype'] == 'Subtype 2')].shape[0]\n",
    "    cases[i, :] = [n_control, n_s1, n_s2]"
   ],
   "metadata": {
    "collapsed": false
   },
   "id": "46b00270a5c71ee6",
   "outputs": [],
   "execution_count": null
  },
  {
   "metadata": {},
   "cell_type": "code",
   "source": [
    "# save the cases\n",
    "df_cases = pd.DataFrame(cases, columns=['control', 'Subtype 1', 'Subtype 2'], index=diseases)\n",
    "df_cases.to_csv('data/disease_cases.csv')"
   ],
   "id": "b194d08459677c4e",
   "outputs": [],
   "execution_count": null
  },
  {
   "metadata": {},
   "cell_type": "code",
   "source": "",
   "id": "5864ff9a45225217",
   "outputs": [],
   "execution_count": null
  }
 ],
 "metadata": {
  "kernelspec": {
   "display_name": "Python 3",
   "language": "python",
   "name": "python3"
  },
  "language_info": {
   "codemirror_mode": {
    "name": "ipython",
    "version": 2
   },
   "file_extension": ".py",
   "mimetype": "text/x-python",
   "name": "python",
   "nbconvert_exporter": "python",
   "pygments_lexer": "ipython2",
   "version": "2.7.6"
  }
 },
 "nbformat": 4,
 "nbformat_minor": 5
}
