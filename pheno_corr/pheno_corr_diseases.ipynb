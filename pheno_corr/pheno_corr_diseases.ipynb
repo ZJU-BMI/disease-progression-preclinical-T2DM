{
 "cells": [
  {
   "cell_type": "code",
   "execution_count": 1,
   "id": "initial_id",
   "metadata": {
    "collapsed": true,
    "ExecuteTime": {
     "end_time": "2024-04-05T06:54:06.241317Z",
     "start_time": "2024-04-05T06:54:06.238098Z"
    }
   },
   "outputs": [],
   "source": [
    "import os\n",
    "import numpy as np\n",
    "import pandas as pd\n",
    "# chisq\n",
    "from scipy.stats import chi2_contingency"
   ]
  },
  {
   "cell_type": "code",
   "outputs": [
    {
     "data": {
      "text/plain": "Index(['Eid', 't2dm', 'Sex', 'Age', 'Drinking_status', 'Smoking_status',\n       'Income', 'Education', 'Subtype', 'Stage', 'Stage2',\n       'Alzheimers_disease', 'Anorexia_nervosa', 'Anxiety_disorder',\n       'Bipolar_disorder', 'Depression_disorder', 'Epilepsy',\n       'Multiple_sclerosis', 'Obsessive_compulsive_disorder',\n       'Parkinsons_disease', 'post_traumatic_stress_disorder', 'Schizophrenia',\n       'Sleep_disorder', 'Stroke', 'Maximum_digits_remembered_correctly',\n       'Number_of_symbol_digit_matches_made_correctly',\n       'Mean_time_to_correctly_identify_matches', 'Fluid_intelligence_score',\n       'Prospective_memory_result',\n       'Errors_before_selecting_correct_item_in_alphanumeric_path',\n       'Duration_to_complete_alphanumeric_path', 'hypertension',\n       'renal_failure', 'heart_failure', 'obesity', 'hyperlipidemia',\n       'ischemic_heart_disease', 'retinopathy', 'asthma',\n       'acute_kidney_failure', 'chronic_kidney_disease', 'cardiac_arrhythmias',\n       'glomerulus_nephritis'],\n      dtype='object')"
     },
     "execution_count": 2,
     "metadata": {},
     "output_type": "execute_result"
    }
   ],
   "source": [
    "# load data for brain disorders\n",
    "df = pd.read_csv('data/data_subtype.csv')\n",
    "df.columns"
   ],
   "metadata": {
    "collapsed": false,
    "ExecuteTime": {
     "end_time": "2024-04-05T06:54:07.845345Z",
     "start_time": "2024-04-05T06:54:07.736550Z"
    }
   },
   "id": "37b15e57ec444b2e",
   "execution_count": 2
  },
  {
   "cell_type": "code",
   "outputs": [],
   "source": [
    "# get the list of diseases\n",
    "diseases = [\n",
    "    'Alzheimers_disease',\n",
    "    'Anorexia_nervosa',\n",
    "    'Anxiety_disorder',\n",
    "    'Bipolar_disorder',\n",
    "    'Depression_disorder',\n",
    "    'Epilepsy',\n",
    "    'Multiple_sclerosis',\n",
    "    'Obsessive_compulsive_disorder',\n",
    "    'Parkinsons_disease',\n",
    "    'Schizophrenia',\n",
    "    'Sleep_disorder',\n",
    "    'Stroke',\n",
    "    'hypertension', \n",
    "    'heart_failure', \n",
    "    'ischemic_heart_disease', \n",
    "    'cardiac_arrhythmias', \n",
    "    'acute_kidney_failure', \n",
    "    'chronic_kidney_disease',\n",
    "    'glomerulus_nephritis',\n",
    "    'obesity', \n",
    "    # 'hyperlipidemia', \n",
    "    'retinopathy', \n",
    "    'asthma'\n",
    "]"
   ],
   "metadata": {
    "collapsed": false,
    "ExecuteTime": {
     "end_time": "2024-04-05T06:54:08.777755Z",
     "start_time": "2024-04-05T06:54:08.773279Z"
    }
   },
   "id": "2ef725ac4fe57f37",
   "execution_count": 3
  },
  {
   "cell_type": "code",
   "outputs": [],
   "source": [
    "df_subtype1 = df[df['Subtype'].isin(['control', 'Subtype 1'])].copy()\n",
    "df_subtype2 = df[df['Subtype'].isin(['control', 'Subtype 2'])].copy()\n",
    "# map contorl to 0 and subtype to 1\n",
    "df_subtype1['Subtype'] = df_subtype1['Subtype'].map({'control': 0, 'Subtype 1': 1})\n",
    "df_subtype2['Subtype'] = df_subtype2['Subtype'].map({'control': 0, 'Subtype 2': 1})"
   ],
   "metadata": {
    "collapsed": false,
    "ExecuteTime": {
     "end_time": "2024-04-05T06:54:10.609859Z",
     "start_time": "2024-04-05T06:54:10.573495Z"
    }
   },
   "id": "4b3afe0ed6387ae3",
   "execution_count": 4
  },
  {
   "cell_type": "code",
   "outputs": [],
   "source": [
    "# Odd ratio and chisq test for each brain disorder, subtype1\n",
    "res_subtype1 = np.zeros((len(diseases), 5))\n",
    "for i, bd in enumerate(diseases):\n",
    "    # get the contingency table\n",
    "    cont_table = pd.crosstab(df_subtype1[bd], df_subtype1['Subtype'])\n",
    "    # chisq test\n",
    "    chi2, p, dof, ex = chi2_contingency(cont_table)\n",
    "    # odd ratio\n",
    "    odd_ratio = (cont_table.iloc[1, 1] * cont_table.iloc[0, 0]) / (cont_table.iloc[0, 1] * cont_table.iloc[1, 0])\n",
    "    # 95% CI\n",
    "    ci = 1.96 * np.sqrt(1 / cont_table.iloc[0, 1] + 1 / cont_table.iloc[1, 0] + 1 / cont_table.iloc[0, 0] + 1 / cont_table.iloc[1, 1])\n",
    "    ci_low = np.exp(np.log(odd_ratio) - ci)\n",
    "    ci_high = np.exp(np.log(odd_ratio) + ci)\n",
    "    res_subtype1[i, :] = [odd_ratio, chi2, p, ci[0], ci[1]]"
   ],
   "metadata": {
    "collapsed": false,
    "ExecuteTime": {
     "end_time": "2024-04-05T06:54:55.045672Z",
     "start_time": "2024-04-05T06:54:54.862357Z"
    }
   },
   "id": "781bccd64e71d57f",
   "execution_count": 5
  },
  {
   "cell_type": "code",
   "outputs": [],
   "source": [
    "res_subtype2 = np.zeros((len(diseases), 5))\n",
    "for i, bd in enumerate(diseases):\n",
    "    # get the contingency table\n",
    "    cont_table = pd.crosstab(df_subtype2[bd], df_subtype2['Subtype'])\n",
    "    # chisq test\n",
    "    chi2, p, dof, ex = chi2_contingency(cont_table)\n",
    "    # odd ratio\n",
    "    odd_ratio = (cont_table.iloc[1, 1] * cont_table.iloc[0, 0]) / (cont_table.iloc[0, 1] * cont_table.iloc[1, 0])\n",
    "    # 95% CI\n",
    "    ci = np.exp(np.log(odd_ratio) + np.array([-1.96, 1.96]) * np.sqrt(1 / cont_table.iloc[0, 1] + 1 / cont_table.iloc[1, 0] + 1 / cont_table.iloc[0, 0] + 1 / cont_table.iloc[1, 1]))\n",
    "    res_subtype2[i, :] = [odd_ratio, chi2, p, ci[0], ci[1]]"
   ],
   "metadata": {
    "collapsed": false,
    "ExecuteTime": {
     "end_time": "2024-04-05T06:55:15.563267Z",
     "start_time": "2024-04-05T06:55:15.320872Z"
    }
   },
   "id": "39f6b3e454a7b59b",
   "execution_count": 6
  },
  {
   "cell_type": "code",
   "outputs": [],
   "source": [
    "# save the results\n",
    "res_subtype1 = pd.DataFrame(res_subtype1, columns=['Odd ratio', 'Chisq', 'p', '95lowerCI', '95higherCI'])\n",
    "res_subtype1['Subtype'] = 'Subtype 1'\n",
    "res_subtype1['Diseases'] = diseases\n",
    "res_subtype2 = pd.DataFrame(res_subtype2, columns=['Odd ratio', 'Chisq', 'p', '95lowerCI', '95higherCI'])\n",
    "res_subtype2['Subtype'] = 'Subtype 2'\n",
    "res_subtype2['Diseases'] = diseases\n",
    "# reorder the columns\n",
    "res_subtype1 = res_subtype1[['Subtype', 'Diseases', 'Odd ratio', '95lowerCI', '95higherCI', 'Chisq', 'p']]\n",
    "res_subtype2 = res_subtype2[['Subtype', 'Diseases', 'Odd ratio', '95lowerCI', '95higherCI', 'Chisq', 'p']]"
   ],
   "metadata": {
    "collapsed": false,
    "ExecuteTime": {
     "end_time": "2024-04-05T06:56:33.872240Z",
     "start_time": "2024-04-05T06:56:33.862858Z"
    }
   },
   "id": "a332f0da6c011b98",
   "execution_count": 8
  },
  {
   "cell_type": "code",
   "outputs": [],
   "source": [
    "# fdr correction\n",
    "from statsmodels.stats.multitest import multipletests\n",
    "res_subtype1['P_FDR'] = multipletests(res_subtype1['p'], method='fdr_bh')[1]\n",
    "res_subtype2['P_FDR'] = multipletests(res_subtype2['p'], method='fdr_bh')[1]"
   ],
   "metadata": {
    "collapsed": false,
    "ExecuteTime": {
     "end_time": "2024-04-05T06:56:35.999271Z",
     "start_time": "2024-04-05T06:56:35.979065Z"
    }
   },
   "id": "341c85dd3ebb4eb",
   "execution_count": 9
  },
  {
   "cell_type": "code",
   "outputs": [],
   "source": [
    "# combine the results\n",
    "res = pd.concat([res_subtype1, res_subtype2])\n",
    "res['Sig_Note'] = res['P_FDR'].apply(lambda x: '< 0.05' if x < 0.05 else 'NS' )\n",
    "# save the results\n",
    "os.makedirs('results/diseases', exist_ok=True)\n",
    "res.to_csv('results/diseases/common_disease_subtype.csv', index=False)"
   ],
   "metadata": {
    "collapsed": false,
    "ExecuteTime": {
     "end_time": "2024-04-05T06:56:36.526819Z",
     "start_time": "2024-04-05T06:56:36.514457Z"
    }
   },
   "id": "aa13fcbbc1b40333",
   "execution_count": 10
  },
  {
   "cell_type": "code",
   "outputs": [
    {
     "data": {
      "text/plain": "Index(['Subtype', 'Diseases', 'Odd ratio', '95lowerCI', '95higherCI', 'Chisq',\n       'p', 'P_FDR', 'Sig_Note'],\n      dtype='object')"
     },
     "execution_count": 11,
     "metadata": {},
     "output_type": "execute_result"
    }
   ],
   "source": [
    "res.columns"
   ],
   "metadata": {
    "collapsed": false,
    "ExecuteTime": {
     "end_time": "2024-04-05T06:56:39.760359Z",
     "start_time": "2024-04-05T06:56:39.753676Z"
    }
   },
   "id": "cfcc5423c0c871b6",
   "execution_count": 11
  },
  {
   "cell_type": "code",
   "outputs": [],
   "source": [
    "res_s1 = res[res['Subtype'] == 'Subtype 1'].copy()\n",
    "res_s2 = res[res['Subtype'] == 'Subtype 2'].copy()\n",
    "res_s1.drop(columns='Subtype', inplace=True)\n",
    "res_s2.drop(columns='Subtype', inplace=True)\n",
    "res_comp = pd.merge(res_s1, res_s2, on='Diseases', suffixes=('_subtype1', '_subtype2'))\n",
    "\n",
    "res_comp = res_comp[\n",
    "    ['Diseases', 'Odd ratio_subtype1', 'Odd ratio_subtype2',\n",
    "                     'Chisq_subtype1', 'Chisq_subtype2',\n",
    "                     'p_subtype1', 'p_subtype2', \n",
    "                     'P_FDR_subtype1','P_FDR_subtype2',\n",
    "                     'Sig_Note_subtype1', 'Sig_Note_subtype2'\n",
    "     ]\n",
    "]\n",
    "res_comp.to_csv('results/diseases/common_disease_subtype_comp.csv', index=False)"
   ],
   "metadata": {
    "collapsed": false,
    "ExecuteTime": {
     "end_time": "2024-04-05T06:56:40.743720Z",
     "start_time": "2024-04-05T06:56:40.722591Z"
    }
   },
   "id": "f70acd9f02ecb607",
   "execution_count": 12
  },
  {
   "cell_type": "code",
   "outputs": [],
   "source": [],
   "metadata": {
    "collapsed": false,
    "ExecuteTime": {
     "end_time": "2024-03-23T09:12:47.397117Z",
     "start_time": "2024-03-23T09:12:47.394955Z"
    }
   },
   "id": "40f66623e6bac651",
   "execution_count": 22
  }
 ],
 "metadata": {
  "kernelspec": {
   "display_name": "Python 3",
   "language": "python",
   "name": "python3"
  },
  "language_info": {
   "codemirror_mode": {
    "name": "ipython",
    "version": 2
   },
   "file_extension": ".py",
   "mimetype": "text/x-python",
   "name": "python",
   "nbconvert_exporter": "python",
   "pygments_lexer": "ipython2",
   "version": "2.7.6"
  }
 },
 "nbformat": 4,
 "nbformat_minor": 5
}
