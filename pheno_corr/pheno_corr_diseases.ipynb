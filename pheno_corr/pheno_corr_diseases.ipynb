{
 "cells": [
  {
   "cell_type": "code",
   "id": "initial_id",
   "metadata": {
    "collapsed": true
   },
   "source": [
    "import os\n",
    "import numpy as np\n",
    "import pandas as pd\n",
    "# chisq\n",
    "from scipy.stats import chi2_contingency"
   ],
   "outputs": [],
   "execution_count": null
  },
  {
   "cell_type": "code",
   "source": [
    "# load data for brain disorders\n",
    "df = pd.read_csv('data/data_subtype.csv')\n",
    "df.columns"
   ],
   "metadata": {
    "collapsed": false
   },
   "id": "37b15e57ec444b2e",
   "outputs": [],
   "execution_count": null
  },
  {
   "cell_type": "code",
   "source": [
    "# get the list of diseases\n",
    "diseases = [\n",
    "    'Alzheimers_disease',\n",
    "    'Anorexia_nervosa',\n",
    "    'Anxiety_disorder',\n",
    "    'Bipolar_disorder',\n",
    "    'Depression_disorder',\n",
    "    'Epilepsy',\n",
    "    'Multiple_sclerosis',\n",
    "    'Obsessive_compulsive_disorder',\n",
    "    'Parkinsons_disease',\n",
    "    'Schizophrenia',\n",
    "    'Sleep_disorder',\n",
    "    'Stroke',\n",
    "    'hypertension', \n",
    "    'heart_failure', \n",
    "    'ischemic_heart_disease', \n",
    "    'cardiac_arrhythmias', \n",
    "    'acute_kidney_failure', \n",
    "    'chronic_kidney_disease',\n",
    "    'glomerulus_nephritis',\n",
    "    'obesity', \n",
    "    # 'hyperlipidemia', \n",
    "    'retinopathy', \n",
    "    'asthma'\n",
    "]"
   ],
   "metadata": {
    "collapsed": false
   },
   "id": "2ef725ac4fe57f37",
   "outputs": [],
   "execution_count": null
  },
  {
   "cell_type": "code",
   "source": [
    "df_subtype1 = df[df['Subtype'].isin(['control', 'Subtype 1'])].copy()\n",
    "df_subtype2 = df[df['Subtype'].isin(['control', 'Subtype 2'])].copy()\n",
    "# map contorl to 0 and subtype to 1\n",
    "df_subtype1['Subtype'] = df_subtype1['Subtype'].map({'control': 0, 'Subtype 1': 1})\n",
    "df_subtype2['Subtype'] = df_subtype2['Subtype'].map({'control': 0, 'Subtype 2': 1})"
   ],
   "metadata": {
    "collapsed": false
   },
   "id": "4b3afe0ed6387ae3",
   "outputs": [],
   "execution_count": null
  },
  {
   "cell_type": "code",
   "source": [
    "# Odd ratio and chisq test for each brain disorder, subtype1\n",
    "res_subtype1 = np.zeros((len(diseases), 5))\n",
    "for i, bd in enumerate(diseases):\n",
    "    # get the contingency table\n",
    "    cont_table = pd.crosstab(df_subtype1[bd], df_subtype1['Subtype'])\n",
    "    # chisq test\n",
    "    chi2, p, dof, ex = chi2_contingency(cont_table)\n",
    "    # odd ratio\n",
    "    odd_ratio = (cont_table.iloc[1, 1] * cont_table.iloc[0, 0]) / (cont_table.iloc[0, 1] * cont_table.iloc[1, 0])\n",
    "    # 95% CI\n",
    "    ci = 1.96 * np.sqrt(1 / cont_table.iloc[0, 1] + 1 / cont_table.iloc[1, 0] + 1 / cont_table.iloc[0, 0] + 1 / cont_table.iloc[1, 1])\n",
    "    ci_low = np.exp(np.log(odd_ratio) - ci)\n",
    "    ci_high = np.exp(np.log(odd_ratio) + ci)\n",
    "    res_subtype1[i, :] = [odd_ratio, chi2, p, ci[0], ci[1]]"
   ],
   "metadata": {
    "collapsed": false
   },
   "id": "781bccd64e71d57f",
   "outputs": [],
   "execution_count": null
  },
  {
   "cell_type": "code",
   "source": [
    "res_subtype2 = np.zeros((len(diseases), 5))\n",
    "for i, bd in enumerate(diseases):\n",
    "    # get the contingency table\n",
    "    cont_table = pd.crosstab(df_subtype2[bd], df_subtype2['Subtype'])\n",
    "    # chisq test\n",
    "    chi2, p, dof, ex = chi2_contingency(cont_table)\n",
    "    # odd ratio\n",
    "    odd_ratio = (cont_table.iloc[1, 1] * cont_table.iloc[0, 0]) / (cont_table.iloc[0, 1] * cont_table.iloc[1, 0])\n",
    "    # 95% CI\n",
    "    ci = np.exp(np.log(odd_ratio) + np.array([-1.96, 1.96]) * np.sqrt(1 / cont_table.iloc[0, 1] + 1 / cont_table.iloc[1, 0] + 1 / cont_table.iloc[0, 0] + 1 / cont_table.iloc[1, 1]))\n",
    "    res_subtype2[i, :] = [odd_ratio, chi2, p, ci[0], ci[1]]"
   ],
   "metadata": {
    "collapsed": false
   },
   "id": "39f6b3e454a7b59b",
   "outputs": [],
   "execution_count": null
  },
  {
   "cell_type": "code",
   "source": [
    "# save the results\n",
    "res_subtype1 = pd.DataFrame(res_subtype1, columns=['Odd ratio', 'Chisq', 'p', '95lowerCI', '95higherCI'])\n",
    "res_subtype1['Subtype'] = 'Subtype 1'\n",
    "res_subtype1['Diseases'] = diseases\n",
    "res_subtype2 = pd.DataFrame(res_subtype2, columns=['Odd ratio', 'Chisq', 'p', '95lowerCI', '95higherCI'])\n",
    "res_subtype2['Subtype'] = 'Subtype 2'\n",
    "res_subtype2['Diseases'] = diseases\n",
    "# reorder the columns\n",
    "res_subtype1 = res_subtype1[['Subtype', 'Diseases', 'Odd ratio', '95lowerCI', '95higherCI', 'Chisq', 'p']]\n",
    "res_subtype2 = res_subtype2[['Subtype', 'Diseases', 'Odd ratio', '95lowerCI', '95higherCI', 'Chisq', 'p']]"
   ],
   "metadata": {
    "collapsed": false
   },
   "id": "a332f0da6c011b98",
   "outputs": [],
   "execution_count": null
  },
  {
   "cell_type": "code",
   "source": [
    "# fdr correction\n",
    "from statsmodels.stats.multitest import multipletests\n",
    "res_subtype1['P_FDR'] = multipletests(res_subtype1['p'], method='fdr_bh')[1]\n",
    "res_subtype2['P_FDR'] = multipletests(res_subtype2['p'], method='fdr_bh')[1]"
   ],
   "metadata": {
    "collapsed": false
   },
   "id": "341c85dd3ebb4eb",
   "outputs": [],
   "execution_count": null
  },
  {
   "cell_type": "code",
   "source": [
    "# combine the results\n",
    "res = pd.concat([res_subtype1, res_subtype2])\n",
    "res['Sig_Note'] = res['P_FDR'].apply(lambda x: '< 0.05' if x < 0.05 else 'NS' )\n",
    "# save the results\n",
    "os.makedirs('results/diseases', exist_ok=True)\n",
    "res.to_csv('results/diseases/common_disease_subtype.csv', index=False)"
   ],
   "metadata": {
    "collapsed": false
   },
   "id": "aa13fcbbc1b40333",
   "outputs": [],
   "execution_count": null
  },
  {
   "cell_type": "code",
   "source": [
    "res.columns"
   ],
   "metadata": {
    "collapsed": false
   },
   "id": "cfcc5423c0c871b6",
   "outputs": [],
   "execution_count": null
  },
  {
   "cell_type": "code",
   "source": [
    "res_s1 = res[res['Subtype'] == 'Subtype 1'].copy()\n",
    "res_s2 = res[res['Subtype'] == 'Subtype 2'].copy()\n",
    "res_s1.drop(columns='Subtype', inplace=True)\n",
    "res_s2.drop(columns='Subtype', inplace=True)\n",
    "res_comp = pd.merge(res_s1, res_s2, on='Diseases', suffixes=('_subtype1', '_subtype2'))\n",
    "\n",
    "res_comp = res_comp[\n",
    "    ['Diseases', 'Odd ratio_subtype1', 'Odd ratio_subtype2',\n",
    "                     'Chisq_subtype1', 'Chisq_subtype2',\n",
    "                     'p_subtype1', 'p_subtype2', \n",
    "                     'P_FDR_subtype1','P_FDR_subtype2',\n",
    "                     'Sig_Note_subtype1', 'Sig_Note_subtype2'\n",
    "     ]\n",
    "]\n",
    "res_comp.to_csv('results/diseases/common_disease_subtype_comp.csv', index=False)"
   ],
   "metadata": {
    "collapsed": false
   },
   "id": "f70acd9f02ecb607",
   "outputs": [],
   "execution_count": null
  },
  {
   "cell_type": "code",
   "source": [],
   "metadata": {
    "collapsed": false
   },
   "id": "40f66623e6bac651",
   "outputs": [],
   "execution_count": null
  }
 ],
 "metadata": {
  "kernelspec": {
   "display_name": "Python 3",
   "language": "python",
   "name": "python3"
  },
  "language_info": {
   "codemirror_mode": {
    "name": "ipython",
    "version": 2
   },
   "file_extension": ".py",
   "mimetype": "text/x-python",
   "name": "python",
   "nbconvert_exporter": "python",
   "pygments_lexer": "ipython2",
   "version": "2.7.6"
  }
 },
 "nbformat": 4,
 "nbformat_minor": 5
}
