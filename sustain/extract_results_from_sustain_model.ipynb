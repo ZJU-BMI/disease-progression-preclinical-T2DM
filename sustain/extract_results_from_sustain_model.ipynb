{
 "cells": [
  {
   "cell_type": "code",
   "id": "initial_id",
   "metadata": {
    "collapsed": true
   },
   "source": [
    "import os\n",
    "import pySuStaIn\n",
    "import pandas as pd\n",
    "import numpy as np\n",
    "import pickle\n",
    "import seaborn as sns\n",
    "from utils import biomarker_selection"
   ],
   "outputs": [],
   "execution_count": null
  },
  {
   "cell_type": "code",
   "source": [
    "diabetes = 't2dm'\n",
    "dm_type = 'pre'\n",
    "thres = 0.3\n",
    "sustain_result_path = f'results/{diabetes}_{dm_type}_thres{thres}/pickle_files/'\n",
    "biomarkers, num_biomarkers, direction = biomarker_selection(threshold=thres)"
   ],
   "metadata": {
    "collapsed": false
   },
   "id": "e2fdbb17add5ff07",
   "outputs": [],
   "execution_count": null
  },
  {
   "cell_type": "code",
   "source": [
    "# load the original data\n",
    "covariates = ['Sex', 'Age', 'Drinking_status', 'Smoking_status', 'Education', 'Income']\n",
    "df_data = pd.read_csv(f'data/data_{diabetes}_{dm_type}_balanced_no_outliers.csv')"
   ],
   "metadata": {
    "collapsed": false
   },
   "id": "1c81849bd89edaf5",
   "outputs": [],
   "execution_count": null
  },
  {
   "cell_type": "code",
   "source": [
    "# load the results for different subtypes 0-3\n",
    "sustain_result0 = pickle.load(open(sustain_result_path + f'{diabetes}_{dm_type}_subtype0.pickle', 'rb'))\n",
    "sustain_result1 = pickle.load(open(sustain_result_path + f'{diabetes}_{dm_type}_subtype1.pickle', 'rb'))\n",
    "sustain_result2 = pickle.load(open(sustain_result_path + f'{diabetes}_{dm_type}_subtype2.pickle', 'rb'))\n",
    "# sustain_result3 = pickle.load(open(sustain_result_path + f'{diabetes}_{selection}_top{num_biomarkers}_subtype3.pickle', 'rb'))"
   ],
   "metadata": {
    "collapsed": false
   },
   "id": "6f44ae2742bcb93d",
   "outputs": [],
   "execution_count": null
  },
  {
   "metadata": {},
   "cell_type": "code",
   "source": "prob_s1= sustain_result1['prob_ml_subtype']",
   "id": "752c601cea3a576",
   "outputs": [],
   "execution_count": null
  },
  {
   "cell_type": "code",
   "source": [
    "# concat sustain results with the original data\n",
    "result_names = [\n",
    "    'ml_subtype', # the assigned subtype\n",
    "    'prob_ml_subtype', # the probability of the assigned subtype\n",
    "    'ml_stage', # the assigned stage \n",
    "    'prob_ml_stage',\n",
    "]\n",
    "for var in result_names:\n",
    "    df_data[var] = sustain_result0[var]\n",
    "    df_data[var + '_1'] = sustain_result1[var]\n",
    "    df_data[var + '_2'] = sustain_result2[var]\n",
    "    # df_data[var + '_3'] = sustain_result3[var]"
   ],
   "metadata": {
    "collapsed": false
   },
   "id": "f00d72ab3b83ab6f",
   "outputs": [],
   "execution_count": null
  },
  {
   "cell_type": "code",
   "source": [
    "# save the results\n",
    "result_path = f'results/{diabetes}_{dm_type}_thres{thres}/saved_results/'\n",
    "os.makedirs(result_path, exist_ok=True)"
   ],
   "metadata": {
    "collapsed": false
   },
   "id": "72b0b7d09e07beed",
   "outputs": [],
   "execution_count": null
  },
  {
   "cell_type": "code",
   "source": [
    "df_data['Subtype'] = 'Subtype ' + (df_data['ml_subtype_1'] + 1).astype(int).astype(str)\n",
    "print(df_data['Subtype'].value_counts())"
   ],
   "metadata": {
    "collapsed": false
   },
   "id": "f4af2124e56485b2",
   "outputs": [],
   "execution_count": null
  },
  {
   "cell_type": "code",
   "source": [
    "df_data.to_csv(os.path.join(result_path, f'sustain_results_biomarkers.csv'), index=False)"
   ],
   "metadata": {
    "collapsed": false
   },
   "id": "7734e0686735ebe2",
   "outputs": [],
   "execution_count": null
  },
  {
   "cell_type": "code",
   "source": [
    "from utils import zscore_regressed_out_covariates\n",
    "\n",
    "# Parameters\n",
    "N_startpoints = 25  # startpoints\n",
    "N_S_max = 2  # maximum number of subtypes\n",
    "N_iterations_MCMC = int(1e5)  # number of iterations for MCMC\n",
    "SuStaInLabels = biomarkers  # labels for the biomarkers\n",
    "dataset_name = diabetes  # name of the dataset\n",
    "output_folder = f'results/{diabetes}_{dm_type}_thres{thres}/'\n",
    "\n",
    "# regress out covariates\n",
    "# zscore for IDPs and biomarkers\n",
    "df_data_zscored = zscore_regressed_out_covariates(df_data, diabetes, biomarkers, covariates)\n",
    "\n",
    "zdata = df_data_zscored[SuStaInLabels].values\n",
    "# setup z_vals and z_max\n",
    "z_max = np.quantile(zdata, 0.95, axis=0)\n",
    "\n",
    "# z_vals for each SuStaInLabels from 0 to z_max, 3 breakpoints, shape (len(SuStaInLabels), 3)\n",
    "# z_vals = []\n",
    "# for i in range(len(SuStaInLabels)):\n",
    "#     z_vals.append(np.linspace(0, z_max[i], 3)[1:])\n",
    "# z_vals = np.array(z_vals)\n",
    "z_vals = np.array([[1, 2]] * len(SuStaInLabels))\n",
    "\n",
    "sustain_input = pySuStaIn.ZscoreSustain(\n",
    "                              zdata,\n",
    "                              z_vals,\n",
    "                              z_max,\n",
    "                              SuStaInLabels,\n",
    "                              N_startpoints,\n",
    "                              N_S_max, \n",
    "                              N_iterations_MCMC, \n",
    "                              output_folder, \n",
    "                              dataset_name, \n",
    "                              True)"
   ],
   "metadata": {
    "collapsed": false
   },
   "id": "1b02a1afa11cb532",
   "outputs": [],
   "execution_count": null
  },
  {
   "cell_type": "code",
   "source": [
    "# Let's plot positional variance diagrams to interpret the subtype progressions\n",
    "import matplotlib.pyplot as plt\n",
    "# for each subtype model max 2 subtype\n",
    "for s in range(2):\n",
    "    # load pickle file (SuStaIn output) and get the sample log likelihood values\n",
    "    pickle_filename_s = sustain_result_path + f'{diabetes}_{dm_type}_subtype{s}.pickle'\n",
    "    pk = pd.read_pickle(pickle_filename_s)\n",
    "    samples_likelihood = pk[\"samples_likelihood\"]\n",
    "    \n",
    "    # plot the values as a line plot\n",
    "    plt.figure(0)\n",
    "    plt.plot(range(N_iterations_MCMC), samples_likelihood, label=\"subtype\" + str(s + 1))\n",
    "    plt.legend(loc='upper right')\n",
    "    plt.xlabel('MCMC samples')\n",
    "    plt.ylabel('Log likelihood')\n",
    "    plt.title('MCMC trace')\n",
    "    # save figure\n",
    "    plt.savefig(os.path.join(result_path, f'{diabetes}_subtype{s}_mcmc_trace.png'), bbox_inches='tight', dpi=300)\n",
    "\n",
    "    \n",
    "    # plot the values as a histogramp plot\n",
    "    plt.figure(1)\n",
    "    plt.hist(samples_likelihood, label=\"subtype\" + str(s + 1))\n",
    "    plt.legend(loc='upper right')\n",
    "    plt.xlabel('Log likelihood')  \n",
    "    plt.ylabel('Number of samples')  \n",
    "    plt.title('Histograms of model likelihood')\n",
    "    # save figure\n",
    "    plt.savefig(os.path.join(result_path, f'{diabetes}_subtype{s}_histogram.png'), bbox_inches='tight', dpi=300)"
   ],
   "metadata": {
    "collapsed": false
   },
   "id": "242442ef6779d126",
   "outputs": [],
   "execution_count": null
  },
  {
   "cell_type": "code",
   "source": [
    "# histogram of assigned stages and subtypes\n",
    "sns.histplot(data=df_data[df_data[diabetes] == 1], x='ml_stage_1')"
   ],
   "metadata": {
    "collapsed": false
   },
   "id": "f73da4816c65ba99",
   "outputs": [],
   "execution_count": null
  },
  {
   "cell_type": "code",
   "source": [
    "sns.histplot(data=df_data[df_data[diabetes] == 1], x='Subtype')"
   ],
   "metadata": {
    "collapsed": false
   },
   "id": "bd24d5578186af8f",
   "outputs": [],
   "execution_count": null
  },
  {
   "cell_type": "code",
   "source": [
    "samples_sequence = sustain_result1['samples_sequence']\n",
    "samples_f = sustain_result1['samples_f']\n",
    "pySuStaIn.ZscoreSustain._plot_sustain_model(sustain_input, samples_sequence, samples_f, len(df_data), subtype_order=(0, 1), figsize=(12, 15))\n",
    "plt.grid(False)"
   ],
   "metadata": {
    "collapsed": false
   },
   "id": "90e393190efa8b07",
   "outputs": [],
   "execution_count": null
  },
  {
   "cell_type": "code",
   "source": [
    "df_idps = pd.read_csv(f'data/data_587idp_v2.csv')\n",
    "\n",
    "df_idps = pd.merge(df_data[['Eid', 't2dm'] + covariates + ['ml_subtype', 'ml_subtype_1', 'ml_stage', 'ml_stage_1', 'Subtype']], df_idps, on='Eid')\n",
    "\n",
    "df_time_diff = pd.read_csv('data/time_diff_mri.csv')\n",
    "df_idps = pd.merge(df_idps, df_time_diff, on='Eid')\n",
    "# df_idps.to_csv(os.path.join(result_path, 'sustain_results_idps.csv'), index=False)"
   ],
   "metadata": {
    "collapsed": false
   },
   "id": "c493e066524d43f0",
   "outputs": [],
   "execution_count": null
  },
  {
   "cell_type": "code",
   "source": [
    "# count stages\n",
    "# save path for stage count\n",
    "os.makedirs(os.path.join(result_path, 'stage_count'), exist_ok=True)\n",
    "df_idps_dm = df_idps[df_idps[diabetes] == 1].copy()\n",
    "x = df_idps_dm.groupby(['Subtype', 'ml_stage_1']).size().reset_index(name='counts')\n",
    "x['ml_stage_1'] = x['ml_stage_1'].astype(int).astype(str)\n",
    "# save to csv\n",
    "x.to_csv(os.path.join(result_path, 'stage_count', 'subtype_stage_counts.csv'), index=False)\n",
    "print(df_idps_dm['Subtype'].value_counts())\n",
    "print(x)"
   ],
   "metadata": {
    "collapsed": false
   },
   "id": "2b770f9b8f9154fa",
   "outputs": [],
   "execution_count": null
  },
  {
   "cell_type": "code",
   "source": [
    "# merge stages for subtype 1\n",
    "# def merge_stages(stage):\n",
    "#     if stage in [0]:\n",
    "#         return 1\n",
    "#     elif stage in [1, 2, 3]:\n",
    "#         return 2\n",
    "#     elif stage in [4, 5, 6, 7]:\n",
    "#         return 3\n",
    "#     elif stage in [8, 9, 10]:\n",
    "#         return 4\n",
    "#     else : # >= 11\n",
    "#         return 5\n",
    "# \n",
    "# # merge stages for subtype 2\n",
    "# def merge_stages2(stage):\n",
    "#     if stage in [0]:\n",
    "#         return 1\n",
    "#     elif stage in [1, 2]:\n",
    "#         return 2\n",
    "#     elif stage in [3, 4]:\n",
    "#         return 3\n",
    "#     elif stage in [5, 6, 7]:\n",
    "#         return 4\n",
    "#     else : # >= 11\n",
    "#         return 5\n",
    "def merge_stages(stage):\n",
    "    if stage <= 4:\n",
    "        return 1\n",
    "    elif stage <= 10:\n",
    "        return 2\n",
    "    else:\n",
    "        return 3\n",
    "\n",
    "def merge_stages2(stage):\n",
    "    if stage <= 3:\n",
    "        return 1\n",
    "    elif stage <= 7:\n",
    "        return 2\n",
    "    # elif stage in [28, 32]:\n",
    "    #     return -1 # not used (outliers)\n",
    "    else:\n",
    "        return 3"
   ],
   "metadata": {
    "collapsed": false
   },
   "id": "edb0567a51d00825",
   "outputs": [],
   "execution_count": null
  },
  {
   "cell_type": "code",
   "source": [
    "# merge stages for subtypes separately\n",
    "df_data['stage1'] = df_data['ml_stage_1'].apply(merge_stages)\n",
    "df_data['stage2'] = df_data['ml_stage_1'].apply(merge_stages2)\n",
    "# if subtype 1, use stage1, else use stage2\n",
    "df_data['Stage'] = df_data.apply(lambda x: x['stage1'] if x['ml_subtype_1'] == 0 else x['stage2'], axis=1)\n",
    "# drop stage1 and stage2\n",
    "df_data = df_data.drop(columns=['stage1', 'stage2'])\n",
    "df_idps['Stage1'] = df_idps['ml_stage_1'].apply(merge_stages)\n",
    "df_idps['Stage2'] = df_idps['ml_stage_1'].apply(merge_stages2)\n",
    "# if subtype 1, use stage1, else use stage2\n",
    "df_idps['Stage'] = df_idps.apply(lambda x: x['Stage1'] if x['ml_subtype_1'] == 0 else x['Stage2'], axis=1)\n",
    "# drop stage1 and stage2\n",
    "df_idps = df_idps.drop(columns=['Stage1', 'Stage2'])"
   ],
   "metadata": {
    "collapsed": false
   },
   "id": "21d24a5f9ea6e454",
   "outputs": [],
   "execution_count": null
  },
  {
   "cell_type": "code",
   "source": [
    "# merge stages for subtypes separately\n",
    "df_idps_dm['Stage1'] = df_idps_dm['ml_stage_1'].apply(merge_stages)\n",
    "df_idps_dm['Stage2'] = df_idps_dm['ml_stage_1'].apply(merge_stages2)\n",
    "# if subtype 1, use stage1, else use stage2\n",
    "df_idps_dm['Stage'] = df_idps_dm.apply(lambda x: x['Stage1'] if x['ml_subtype_1'] == 0 else x['Stage2'], axis=1)\n",
    "# drop stage1 and stage2\n",
    "df_idps_dm = df_idps_dm.drop(columns=['Stage1', 'Stage2'])\n",
    "x2 = df_idps_dm.groupby(['Subtype', 'Stage']).size().reset_index(name='counts')\n",
    "x2['Stage'] = x2['Stage'].astype(int).astype(str)\n",
    "# save to csv\n",
    "x2.to_csv(os.path.join(result_path, 'stage_count', 'subtype_stage_counts_merged.csv'), index=False)\n",
    "print(x2)"
   ],
   "metadata": {
    "collapsed": false
   },
   "id": "1af7cb869e484d85",
   "outputs": [],
   "execution_count": null
  },
  {
   "cell_type": "code",
   "source": [
    "df_data_dm = df_data[df_data[diabetes] == 1].copy()\n",
    "x3 = df_data_dm.groupby(['Subtype', 'Stage']).size().reset_index(name='counts')\n",
    "x3['Stage'] = x3['Stage'].astype(int).astype(str)\n",
    "# save to csv\n",
    "x3.to_csv(os.path.join(result_path, 'stage_count', 'subtype_stage_counts_merged_all.csv'), index=False)\n",
    "print(x3)"
   ],
   "metadata": {
    "collapsed": false
   },
   "id": "97d85b8ed16ce864",
   "outputs": [],
   "execution_count": null
  },
  {
   "cell_type": "code",
   "source": [
    "df_idps['time_diff_int'] = df_idps['time_diff_mri'].apply(lambda x: int(x))"
   ],
   "metadata": {
    "collapsed": false
   },
   "id": "d7cfb2814b8f407e",
   "outputs": [],
   "execution_count": null
  },
  {
   "cell_type": "code",
   "source": [
    "# save the results\n",
    "df_data.to_csv(os.path.join(result_path, f'sustain_results_biomarkers.csv'), index=False)"
   ],
   "metadata": {
    "collapsed": false
   },
   "id": "175ea531c9f79bb6",
   "outputs": [],
   "execution_count": null
  },
  {
   "cell_type": "code",
   "source": [
    "# order by subtype, stage, and time_diff\n",
    "df_idps_sorted = df_idps.sort_values(by=['Subtype', 'Stage', 'time_diff_int'])\n",
    "df_idps_sorted.to_csv(os.path.join(result_path, 'sustain_results_idps_sorted.csv'), index=False)"
   ],
   "metadata": {
    "collapsed": false
   },
   "id": "8490aff311ab1ce6",
   "outputs": [],
   "execution_count": null
  },
  {
   "cell_type": "code",
   "source": [
    "# count by subtype and stage, and time_diff_int\n",
    "x4 = df_idps_sorted.groupby(['Subtype', 'Stage', 'time_diff_int']).size().reset_index(name='counts')\n",
    "x4.to_csv(os.path.join(result_path, 'stage_count', 'subtype_stage_time_diff_counts.csv'), index=False)"
   ],
   "metadata": {
    "collapsed": false
   },
   "id": "7d6ae569ee7c9bd5",
   "outputs": [],
   "execution_count": null
  },
  {
   "cell_type": "code",
   "source": [
    "# time bins\n",
    "def time_bins(time_diff):\n",
    "    if time_diff < 7:\n",
    "        return '4-7 years'\n",
    "    elif time_diff < 10:\n",
    "        return '7-10 years'\n",
    "    else:\n",
    "        return '10+ years'\n",
    "df_idps_sorted['Time_bins'] = df_idps_sorted['time_diff_mri'].apply(time_bins)"
   ],
   "metadata": {
    "collapsed": false
   },
   "id": "25d95bb36e4a51e2",
   "outputs": [],
   "execution_count": null
  },
  {
   "cell_type": "code",
   "source": [
    "# count by subtype, stage, and time_bins\n",
    "x5 = df_idps_sorted.groupby(['Subtype', 'Stage', 'Time_bins']).size().reset_index(name='counts')\n",
    "# sort by subtype, stage, and time_bins\n",
    "x5 = x5.sort_values(by=['Subtype', 'Time_bins', 'Stage'])\n",
    "x5.to_csv(os.path.join(result_path, 'stage_count', 'subtype_stage_time_bins_counts.csv'), index=False)\n",
    "print(x5)"
   ],
   "metadata": {
    "collapsed": false
   },
   "id": "36a2cd0491b5560c",
   "outputs": [],
   "execution_count": null
  },
  {
   "cell_type": "code",
   "source": [
    "df_idps['Time_bins'] = df_idps['time_diff_mri'].apply(time_bins)\n",
    "df_idps.to_csv(os.path.join(result_path, 'sustain_results_idps.csv'), index=False)"
   ],
   "metadata": {
    "collapsed": false
   },
   "id": "15796c0309b10cfa",
   "outputs": [],
   "execution_count": null
  },
  {
   "cell_type": "code",
   "source": [
    "print(df_data_dm['Subtype'].value_counts())"
   ],
   "metadata": {
    "collapsed": false
   },
   "id": "7a17cf57790d179b",
   "outputs": [],
   "execution_count": null
  },
  {
   "cell_type": "code",
   "source": [
    "# zscore for IDPs and biomarkers\n",
    "IDPs = df_idps.columns[df_idps.columns.str.contains('IDP')]\n",
    "df_idps_zscored = zscore_regressed_out_covariates(df_idps, diabetes, IDPs, covariates)\n",
    "# save zscored results\n",
    "df_idps_zscored.to_csv(os.path.join(result_path, 'sustain_results_idps_zscored.csv'), index=False)"
   ],
   "metadata": {
    "collapsed": false
   },
   "id": "e8192f44b392af6c",
   "outputs": [],
   "execution_count": null
  },
  {
   "cell_type": "code",
   "source": [
    "df_data_zscored = zscore_regressed_out_covariates(df_data, diabetes, biomarkers, covariates)\n",
    "df_data_zscored.to_csv(os.path.join(result_path, 'sustain_results_biomarkers_zscored.csv'), index=False)"
   ],
   "metadata": {
    "collapsed": false
   },
   "id": "65163793fa0eba74",
   "outputs": [],
   "execution_count": null
  },
  {
   "cell_type": "code",
   "source": [],
   "metadata": {
    "collapsed": false
   },
   "id": "de5b46702545c66b",
   "outputs": [],
   "execution_count": null
  },
  {
   "cell_type": "code",
   "source": [],
   "metadata": {
    "collapsed": false
   },
   "id": "84a759216b344287",
   "outputs": [],
   "execution_count": null
  }
 ],
 "metadata": {
  "kernelspec": {
   "display_name": "Python 3",
   "language": "python",
   "name": "python3"
  },
  "language_info": {
   "codemirror_mode": {
    "name": "ipython",
    "version": 2
   },
   "file_extension": ".py",
   "mimetype": "text/x-python",
   "name": "python",
   "nbconvert_exporter": "python",
   "pygments_lexer": "ipython2",
   "version": "2.7.6"
  }
 },
 "nbformat": 4,
 "nbformat_minor": 5
}
