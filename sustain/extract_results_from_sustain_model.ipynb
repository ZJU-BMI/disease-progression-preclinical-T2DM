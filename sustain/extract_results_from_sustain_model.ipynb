{
 "cells": [
  {
   "cell_type": "code",
   "id": "initial_id",
   "metadata": {
    "collapsed": true,
    "ExecuteTime": {
     "end_time": "2024-04-25T07:55:30.710611Z",
     "start_time": "2024-04-25T07:55:30.543805Z"
    }
   },
   "source": [
    "import os\n",
    "import pySuStaIn\n",
    "import pandas as pd\n",
    "import numpy as np\n",
    "import pickle\n",
    "import seaborn as sns\n",
    "from utils import biomarker_selection"
   ],
   "outputs": [],
   "execution_count": 1
  },
  {
   "cell_type": "code",
   "source": [
    "diabetes = 't2dm'\n",
    "dm_type = 'pre'\n",
    "thres = 0.3\n",
    "sustain_result_path = f'results/{diabetes}_{dm_type}_thres{thres}/pickle_files/'\n",
    "biomarkers, num_biomarkers, direction = biomarker_selection(threshold=thres)"
   ],
   "metadata": {
    "collapsed": false,
    "ExecuteTime": {
     "end_time": "2024-04-25T07:55:30.726633Z",
     "start_time": "2024-04-25T07:55:30.712113Z"
    }
   },
   "id": "e2fdbb17add5ff07",
   "outputs": [
    {
     "name": "stdout",
     "output_type": "stream",
     "text": [
      "Selected 18 biomarkers for modeling:\n",
      "HbA1c, BMI, HDLc, TyG, HLS_Retic, Glucose, RET, IRF, ApoA, ALT, TG, Urate, WBC, CHOL, CRP, LYM, LDLc, Vitamin_D\n"
     ]
    }
   ],
   "execution_count": 2
  },
  {
   "cell_type": "code",
   "source": [
    "# load the original data\n",
    "covariates = ['Sex', 'Age', 'Drinking_status', 'Smoking_status', 'Education', 'Income']\n",
    "df_data = pd.read_csv(f'data/data_{diabetes}_{dm_type}_balanced_no_outliers.csv')"
   ],
   "metadata": {
    "collapsed": false,
    "ExecuteTime": {
     "end_time": "2024-04-25T07:55:30.915073Z",
     "start_time": "2024-04-25T07:55:30.727633Z"
    }
   },
   "id": "1c81849bd89edaf5",
   "outputs": [],
   "execution_count": 3
  },
  {
   "cell_type": "code",
   "source": [
    "# load the results for different subtypes 0-3\n",
    "sustain_result0 = pickle.load(open(sustain_result_path + f'{diabetes}_{dm_type}_subtype0.pickle', 'rb'))\n",
    "sustain_result1 = pickle.load(open(sustain_result_path + f'{diabetes}_{dm_type}_subtype1.pickle', 'rb'))\n",
    "sustain_result2 = pickle.load(open(sustain_result_path + f'{diabetes}_{dm_type}_subtype2.pickle', 'rb'))\n",
    "# sustain_result3 = pickle.load(open(sustain_result_path + f'{diabetes}_{selection}_top{num_biomarkers}_subtype3.pickle', 'rb'))"
   ],
   "metadata": {
    "collapsed": false,
    "ExecuteTime": {
     "end_time": "2024-04-25T07:55:31.086681Z",
     "start_time": "2024-04-25T07:55:30.916074Z"
    }
   },
   "id": "6f44ae2742bcb93d",
   "outputs": [],
   "execution_count": 4
  },
  {
   "metadata": {},
   "cell_type": "code",
   "outputs": [],
   "execution_count": null,
   "source": "prob_s1= sustain_result1['prob_ml_subtype']",
   "id": "752c601cea3a576"
  },
  {
   "cell_type": "code",
   "source": [
    "# concat sustain results with the original data\n",
    "result_names = [\n",
    "    'ml_subtype', # the assigned subtype\n",
    "    'prob_ml_subtype', # the probability of the assigned subtype\n",
    "    'ml_stage', # the assigned stage \n",
    "    'prob_ml_stage',\n",
    "]\n",
    "for var in result_names:\n",
    "    df_data[var] = sustain_result0[var]\n",
    "    df_data[var + '_1'] = sustain_result1[var]\n",
    "    df_data[var + '_2'] = sustain_result2[var]\n",
    "    # df_data[var + '_3'] = sustain_result3[var]"
   ],
   "metadata": {
    "collapsed": false,
    "ExecuteTime": {
     "end_time": "2024-04-25T07:59:10.858711Z",
     "start_time": "2024-04-25T07:59:10.839580Z"
    }
   },
   "id": "f00d72ab3b83ab6f",
   "outputs": [],
   "execution_count": 5
  },
  {
   "cell_type": "code",
   "source": [
    "# save the results\n",
    "result_path = f'results/{diabetes}_{dm_type}_thres{thres}/saved_results/'\n",
    "os.makedirs(result_path, exist_ok=True)"
   ],
   "metadata": {
    "collapsed": false,
    "ExecuteTime": {
     "end_time": "2024-04-24T12:10:50.521842Z",
     "start_time": "2024-04-24T12:10:50.514328Z"
    }
   },
   "id": "72b0b7d09e07beed",
   "outputs": [],
   "execution_count": 7
  },
  {
   "cell_type": "code",
   "source": [
    "df_data['Subtype'] = 'Subtype ' + (df_data['ml_subtype_1'] + 1).astype(int).astype(str)\n",
    "print(df_data['Subtype'].value_counts())"
   ],
   "metadata": {
    "collapsed": false,
    "ExecuteTime": {
     "end_time": "2024-04-24T12:10:57.255237Z",
     "start_time": "2024-04-24T12:10:57.234175Z"
    }
   },
   "id": "f4af2124e56485b2",
   "outputs": [
    {
     "name": "stdout",
     "output_type": "stream",
     "text": [
      "Subtype\n",
      "Subtype 1    20773\n",
      "Subtype 2    19837\n",
      "Name: count, dtype: int64\n"
     ]
    }
   ],
   "execution_count": 8
  },
  {
   "cell_type": "code",
   "source": [
    "df_data.to_csv(os.path.join(result_path, f'sustain_results_biomarkers.csv'), index=False)"
   ],
   "metadata": {
    "collapsed": false,
    "ExecuteTime": {
     "end_time": "2024-04-24T12:10:58.720508Z",
     "start_time": "2024-04-24T12:10:57.475469Z"
    }
   },
   "id": "7734e0686735ebe2",
   "outputs": [],
   "execution_count": 9
  },
  {
   "cell_type": "code",
   "source": [
    "from utils import zscore_regressed_out_covariates\n",
    "\n",
    "# Parameters\n",
    "N_startpoints = 25  # startpoints\n",
    "N_S_max = 2  # maximum number of subtypes\n",
    "N_iterations_MCMC = int(1e5)  # number of iterations for MCMC\n",
    "SuStaInLabels = biomarkers  # labels for the biomarkers\n",
    "dataset_name = diabetes  # name of the dataset\n",
    "output_folder = f'results/{diabetes}_{dm_type}_thres{thres}/'\n",
    "\n",
    "# regress out covariates\n",
    "# zscore for IDPs and biomarkers\n",
    "df_data_zscored = zscore_regressed_out_covariates(df_data, diabetes, biomarkers, covariates)\n",
    "\n",
    "zdata = df_data_zscored[SuStaInLabels].values\n",
    "# setup z_vals and z_max\n",
    "z_max = np.quantile(zdata, 0.95, axis=0)\n",
    "\n",
    "# z_vals for each SuStaInLabels from 0 to z_max, 3 breakpoints, shape (len(SuStaInLabels), 3)\n",
    "# z_vals = []\n",
    "# for i in range(len(SuStaInLabels)):\n",
    "#     z_vals.append(np.linspace(0, z_max[i], 3)[1:])\n",
    "# z_vals = np.array(z_vals)\n",
    "z_vals = np.array([[1, 2]] * len(SuStaInLabels))\n",
    "\n",
    "sustain_input = pySuStaIn.ZscoreSustain(\n",
    "                              zdata,\n",
    "                              z_vals,\n",
    "                              z_max,\n",
    "                              SuStaInLabels,\n",
    "                              N_startpoints,\n",
    "                              N_S_max, \n",
    "                              N_iterations_MCMC, \n",
    "                              output_folder, \n",
    "                              dataset_name, \n",
    "                              True)"
   ],
   "metadata": {
    "collapsed": false,
    "ExecuteTime": {
     "end_time": "2024-04-24T12:11:01.798666Z",
     "start_time": "2024-04-24T12:11:01.033981Z"
    }
   },
   "id": "1b02a1afa11cb532",
   "outputs": [],
   "execution_count": 10
  },
  {
   "cell_type": "code",
   "source": [
    "# Let's plot positional variance diagrams to interpret the subtype progressions\n",
    "import matplotlib.pyplot as plt\n",
    "# for each subtype model max 2 subtype\n",
    "for s in range(2):\n",
    "    # load pickle file (SuStaIn output) and get the sample log likelihood values\n",
    "    pickle_filename_s = sustain_result_path + f'{diabetes}_{dm_type}_subtype{s}.pickle'\n",
    "    pk = pd.read_pickle(pickle_filename_s)\n",
    "    samples_likelihood = pk[\"samples_likelihood\"]\n",
    "    \n",
    "    # plot the values as a line plot\n",
    "    plt.figure(0)\n",
    "    plt.plot(range(N_iterations_MCMC), samples_likelihood, label=\"subtype\" + str(s + 1))\n",
    "    plt.legend(loc='upper right')\n",
    "    plt.xlabel('MCMC samples')\n",
    "    plt.ylabel('Log likelihood')\n",
    "    plt.title('MCMC trace')\n",
    "    # save figure\n",
    "    plt.savefig(os.path.join(result_path, f'{diabetes}_subtype{s}_mcmc_trace.png'), bbox_inches='tight', dpi=300)\n",
    "\n",
    "    \n",
    "    # plot the values as a histogramp plot\n",
    "    plt.figure(1)\n",
    "    plt.hist(samples_likelihood, label=\"subtype\" + str(s + 1))\n",
    "    plt.legend(loc='upper right')\n",
    "    plt.xlabel('Log likelihood')  \n",
    "    plt.ylabel('Number of samples')  \n",
    "    plt.title('Histograms of model likelihood')\n",
    "    # save figure\n",
    "    plt.savefig(os.path.join(result_path, f'{diabetes}_subtype{s}_histogram.png'), bbox_inches='tight', dpi=300)"
   ],
   "metadata": {
    "collapsed": false,
    "ExecuteTime": {
     "end_time": "2024-04-24T12:11:03.802432Z",
     "start_time": "2024-04-24T12:11:02.570487Z"
    }
   },
   "id": "242442ef6779d126",
   "outputs": [
    {
     "data": {
      "text/plain": [
       "<Figure size 640x480 with 1 Axes>"
      ],
      "image/png": "[encoded data removed]"
     },
     "metadata": {},
     "output_type": "display_data"
    },
    {
     "data": {
      "text/plain": [
       "<Figure size 640x480 with 1 Axes>"
      ],
      "image/png": "[encoded data removed]"
     },
     "metadata": {},
     "output_type": "display_data"
    }
   ],
   "execution_count": 11
  },
  {
   "cell_type": "code",
   "source": [
    "# histogram of assigned stages and subtypes\n",
    "sns.histplot(data=df_data[df_data[diabetes] == 1], x='ml_stage_1')"
   ],
   "metadata": {
    "collapsed": false,
    "ExecuteTime": {
     "end_time": "2024-04-24T12:11:04.045215Z",
     "start_time": "2024-04-24T12:11:03.804431Z"
    }
   },
   "id": "f73da4816c65ba99",
   "outputs": [
    {
     "data": {
      "text/plain": [
       "<Axes: xlabel='ml_stage_1', ylabel='Count'>"
      ]
     },
     "execution_count": 12,
     "metadata": {},
     "output_type": "execute_result"
    },
    {
     "data": {
      "text/plain": [
       "<Figure size 640x480 with 1 Axes>"
      ],
      "image/png": "[encoded data removed]"
     },
     "metadata": {},
     "output_type": "display_data"
    }
   ],
   "execution_count": 12
  },
  {
   "cell_type": "code",
   "source": [
    "sns.histplot(data=df_data[df_data[diabetes] == 1], x='Subtype')"
   ],
   "metadata": {
    "collapsed": false,
    "ExecuteTime": {
     "end_time": "2024-04-24T12:11:04.151272Z",
     "start_time": "2024-04-24T12:11:04.046723Z"
    }
   },
   "id": "bd24d5578186af8f",
   "outputs": [
    {
     "data": {
      "text/plain": [
       "<Axes: xlabel='Subtype', ylabel='Count'>"
      ]
     },
     "execution_count": 13,
     "metadata": {},
     "output_type": "execute_result"
    },
    {
     "data": {
      "text/plain": [
       "<Figure size 640x480 with 1 Axes>"
      ],
      "image/png": "[encoded data removed]"
     },
     "metadata": {},
     "output_type": "display_data"
    }
   ],
   "execution_count": 13
  },
  {
   "cell_type": "code",
   "source": [
    "samples_sequence = sustain_result1['samples_sequence']\n",
    "samples_f = sustain_result1['samples_f']\n",
    "pySuStaIn.ZscoreSustain._plot_sustain_model(sustain_input, samples_sequence, samples_f, len(df_data), subtype_order=(0, 1), figsize=(12, 15))\n",
    "plt.grid(False)"
   ],
   "metadata": {
    "collapsed": false,
    "ExecuteTime": {
     "end_time": "2024-04-24T12:11:06.161306Z",
     "start_time": "2024-04-24T12:11:05.012240Z"
    }
   },
   "id": "90e393190efa8b07",
   "outputs": [
    {
     "data": {
      "text/plain": [
       "<Figure size 1200x1500 with 2 Axes>"
      ],
      "image/png": "[encoded data removed]"
     },
     "metadata": {},
     "output_type": "display_data"
    }
   ],
   "execution_count": 14
  },
  {
   "cell_type": "code",
   "source": [
    "df_idps = pd.read_csv(f'data/data_587idp_v2.csv')\n",
    "\n",
    "df_idps = pd.merge(df_data[['Eid', 't2dm'] + covariates + ['ml_subtype', 'ml_subtype_1', 'ml_stage', 'ml_stage_1', 'Subtype']], df_idps, on='Eid')\n",
    "\n",
    "df_time_diff = pd.read_csv('data/time_diff_mri.csv')\n",
    "df_idps = pd.merge(df_idps, df_time_diff, on='Eid')\n",
    "# df_idps.to_csv(os.path.join(result_path, 'sustain_results_idps.csv'), index=False)"
   ],
   "metadata": {
    "collapsed": false,
    "ExecuteTime": {
     "end_time": "2024-04-24T12:11:07.986197Z",
     "start_time": "2024-04-24T12:11:06.163210Z"
    }
   },
   "id": "c493e066524d43f0",
   "outputs": [],
   "execution_count": 15
  },
  {
   "cell_type": "code",
   "source": [
    "# count stages\n",
    "# save path for stage count\n",
    "os.makedirs(os.path.join(result_path, 'stage_count'), exist_ok=True)\n",
    "df_idps_dm = df_idps[df_idps[diabetes] == 1].copy()\n",
    "x = df_idps_dm.groupby(['Subtype', 'ml_stage_1']).size().reset_index(name='counts')\n",
    "x['ml_stage_1'] = x['ml_stage_1'].astype(int).astype(str)\n",
    "# save to csv\n",
    "x.to_csv(os.path.join(result_path, 'stage_count', 'subtype_stage_counts.csv'), index=False)\n",
    "print(df_idps_dm['Subtype'].value_counts())\n",
    "print(x)"
   ],
   "metadata": {
    "collapsed": false,
    "ExecuteTime": {
     "end_time": "2024-04-24T12:11:08.016700Z",
     "start_time": "2024-04-24T12:11:07.987196Z"
    }
   },
   "id": "2b770f9b8f9154fa",
   "outputs": [
    {
     "name": "stdout",
     "output_type": "stream",
     "text": [
      "Subtype\n",
      "Subtype 2    614\n",
      "Subtype 1    520\n",
      "Name: count, dtype: int64\n",
      "      Subtype ml_stage_1  counts\n",
      "0   Subtype 1          0     102\n",
      "1   Subtype 1          1      39\n",
      "2   Subtype 1          2      30\n",
      "3   Subtype 1          3      41\n",
      "4   Subtype 1          4      35\n",
      "5   Subtype 1          5      32\n",
      "6   Subtype 1          6      25\n",
      "7   Subtype 1          7      25\n",
      "8   Subtype 1          8      32\n",
      "9   Subtype 1          9      34\n",
      "10  Subtype 1         10      41\n",
      "11  Subtype 1         11      27\n",
      "12  Subtype 1         12       6\n",
      "13  Subtype 1         13      10\n",
      "14  Subtype 1         14       5\n",
      "15  Subtype 1         15      11\n",
      "16  Subtype 1         16       3\n",
      "17  Subtype 1         17       8\n",
      "18  Subtype 1         18       1\n",
      "19  Subtype 1         19       5\n",
      "20  Subtype 1         20       2\n",
      "21  Subtype 1         21       5\n",
      "22  Subtype 1         28       1\n",
      "23  Subtype 2          0      97\n",
      "24  Subtype 2          1      63\n",
      "25  Subtype 2          2      46\n",
      "26  Subtype 2          3      54\n",
      "27  Subtype 2          4      68\n",
      "28  Subtype 2          5      65\n",
      "29  Subtype 2          6      48\n",
      "30  Subtype 2          7      26\n",
      "31  Subtype 2          8      62\n",
      "32  Subtype 2          9      25\n",
      "33  Subtype 2         10      10\n",
      "34  Subtype 2         11      11\n",
      "35  Subtype 2         12       3\n",
      "36  Subtype 2         13       1\n",
      "37  Subtype 2         14       7\n",
      "38  Subtype 2         15       2\n",
      "39  Subtype 2         16       6\n",
      "40  Subtype 2         17       7\n",
      "41  Subtype 2         18       2\n",
      "42  Subtype 2         19       7\n",
      "43  Subtype 2         22       1\n",
      "44  Subtype 2         24       1\n",
      "45  Subtype 2         26       2\n"
     ]
    }
   ],
   "execution_count": 16
  },
  {
   "cell_type": "code",
   "source": [
    "# merge stages for subtype 1\n",
    "# def merge_stages(stage):\n",
    "#     if stage in [0]:\n",
    "#         return 1\n",
    "#     elif stage in [1, 2, 3]:\n",
    "#         return 2\n",
    "#     elif stage in [4, 5, 6, 7]:\n",
    "#         return 3\n",
    "#     elif stage in [8, 9, 10]:\n",
    "#         return 4\n",
    "#     else : # >= 11\n",
    "#         return 5\n",
    "# \n",
    "# # merge stages for subtype 2\n",
    "# def merge_stages2(stage):\n",
    "#     if stage in [0]:\n",
    "#         return 1\n",
    "#     elif stage in [1, 2]:\n",
    "#         return 2\n",
    "#     elif stage in [3, 4]:\n",
    "#         return 3\n",
    "#     elif stage in [5, 6, 7]:\n",
    "#         return 4\n",
    "#     else : # >= 11\n",
    "#         return 5\n",
    "def merge_stages(stage):\n",
    "    if stage <= 4:\n",
    "        return 1\n",
    "    elif stage <= 10:\n",
    "        return 2\n",
    "    else:\n",
    "        return 3\n",
    "\n",
    "def merge_stages2(stage):\n",
    "    if stage <= 3:\n",
    "        return 1\n",
    "    elif stage <= 7:\n",
    "        return 2\n",
    "    # elif stage in [28, 32]:\n",
    "    #     return -1 # not used (outliers)\n",
    "    else:\n",
    "        return 3"
   ],
   "metadata": {
    "collapsed": false,
    "ExecuteTime": {
     "end_time": "2024-04-24T12:11:08.535651Z",
     "start_time": "2024-04-24T12:11:08.525450Z"
    }
   },
   "id": "edb0567a51d00825",
   "outputs": [],
   "execution_count": 17
  },
  {
   "cell_type": "code",
   "source": [
    "# merge stages for subtypes separately\n",
    "df_data['stage1'] = df_data['ml_stage_1'].apply(merge_stages)\n",
    "df_data['stage2'] = df_data['ml_stage_1'].apply(merge_stages2)\n",
    "# if subtype 1, use stage1, else use stage2\n",
    "df_data['Stage'] = df_data.apply(lambda x: x['stage1'] if x['ml_subtype_1'] == 0 else x['stage2'], axis=1)\n",
    "# drop stage1 and stage2\n",
    "df_data = df_data.drop(columns=['stage1', 'stage2'])\n",
    "df_idps['Stage1'] = df_idps['ml_stage_1'].apply(merge_stages)\n",
    "df_idps['Stage2'] = df_idps['ml_stage_1'].apply(merge_stages2)\n",
    "# if subtype 1, use stage1, else use stage2\n",
    "df_idps['Stage'] = df_idps.apply(lambda x: x['Stage1'] if x['ml_subtype_1'] == 0 else x['Stage2'], axis=1)\n",
    "# drop stage1 and stage2\n",
    "df_idps = df_idps.drop(columns=['Stage1', 'Stage2'])"
   ],
   "metadata": {
    "collapsed": false,
    "ExecuteTime": {
     "end_time": "2024-04-24T12:11:09.403179Z",
     "start_time": "2024-04-24T12:11:09.050095Z"
    }
   },
   "id": "21d24a5f9ea6e454",
   "outputs": [],
   "execution_count": 18
  },
  {
   "cell_type": "code",
   "source": [
    "# merge stages for subtypes separately\n",
    "df_idps_dm['Stage1'] = df_idps_dm['ml_stage_1'].apply(merge_stages)\n",
    "df_idps_dm['Stage2'] = df_idps_dm['ml_stage_1'].apply(merge_stages2)\n",
    "# if subtype 1, use stage1, else use stage2\n",
    "df_idps_dm['Stage'] = df_idps_dm.apply(lambda x: x['Stage1'] if x['ml_subtype_1'] == 0 else x['Stage2'], axis=1)\n",
    "# drop stage1 and stage2\n",
    "df_idps_dm = df_idps_dm.drop(columns=['Stage1', 'Stage2'])\n",
    "x2 = df_idps_dm.groupby(['Subtype', 'Stage']).size().reset_index(name='counts')\n",
    "x2['Stage'] = x2['Stage'].astype(int).astype(str)\n",
    "# save to csv\n",
    "x2.to_csv(os.path.join(result_path, 'stage_count', 'subtype_stage_counts_merged.csv'), index=False)\n",
    "print(x2)"
   ],
   "metadata": {
    "collapsed": false,
    "ExecuteTime": {
     "end_time": "2024-04-24T12:11:09.858146Z",
     "start_time": "2024-04-24T12:11:09.807527Z"
    }
   },
   "id": "1af7cb869e484d85",
   "outputs": [
    {
     "name": "stdout",
     "output_type": "stream",
     "text": [
      "     Subtype Stage  counts\n",
      "0  Subtype 1     1     247\n",
      "1  Subtype 1     2     189\n",
      "2  Subtype 1     3      84\n",
      "3  Subtype 2     1     260\n",
      "4  Subtype 2     2     207\n",
      "5  Subtype 2     3     147\n"
     ]
    }
   ],
   "execution_count": 19
  },
  {
   "cell_type": "code",
   "source": [
    "df_data_dm = df_data[df_data[diabetes] == 1].copy()\n",
    "x3 = df_data_dm.groupby(['Subtype', 'Stage']).size().reset_index(name='counts')\n",
    "x3['Stage'] = x3['Stage'].astype(int).astype(str)\n",
    "# save to csv\n",
    "x3.to_csv(os.path.join(result_path, 'stage_count', 'subtype_stage_counts_merged_all.csv'), index=False)\n",
    "print(x3)"
   ],
   "metadata": {
    "collapsed": false,
    "ExecuteTime": {
     "end_time": "2024-04-24T12:11:10.405188Z",
     "start_time": "2024-04-24T12:11:10.367006Z"
    }
   },
   "id": "97d85b8ed16ce864",
   "outputs": [
    {
     "name": "stdout",
     "output_type": "stream",
     "text": [
      "     Subtype Stage  counts\n",
      "0  Subtype 1     1    4130\n",
      "1  Subtype 1     2    3393\n",
      "2  Subtype 1     3    1879\n",
      "3  Subtype 2     1    4536\n",
      "4  Subtype 2     2    3937\n",
      "5  Subtype 2     3    2430\n"
     ]
    }
   ],
   "execution_count": 20
  },
  {
   "cell_type": "code",
   "source": [
    "df_idps['time_diff_int'] = df_idps['time_diff_mri'].apply(lambda x: int(x))"
   ],
   "metadata": {
    "collapsed": false,
    "ExecuteTime": {
     "end_time": "2024-04-24T12:11:10.769851Z",
     "start_time": "2024-04-24T12:11:10.763907Z"
    }
   },
   "id": "d7cfb2814b8f407e",
   "outputs": [],
   "execution_count": 21
  },
  {
   "cell_type": "code",
   "source": [
    "# save the results\n",
    "df_data.to_csv(os.path.join(result_path, f'sustain_results_biomarkers.csv'), index=False)"
   ],
   "metadata": {
    "collapsed": false,
    "ExecuteTime": {
     "end_time": "2024-04-24T12:11:12.432788Z",
     "start_time": "2024-04-24T12:11:11.150316Z"
    }
   },
   "id": "175ea531c9f79bb6",
   "outputs": [],
   "execution_count": 22
  },
  {
   "cell_type": "code",
   "source": [
    "# order by subtype, stage, and time_diff\n",
    "df_idps_sorted = df_idps.sort_values(by=['Subtype', 'Stage', 'time_diff_int'])\n",
    "df_idps_sorted.to_csv(os.path.join(result_path, 'sustain_results_idps_sorted.csv'), index=False)"
   ],
   "metadata": {
    "collapsed": false,
    "ExecuteTime": {
     "end_time": "2024-04-24T12:11:12.997999Z",
     "start_time": "2024-04-24T12:11:12.434789Z"
    }
   },
   "id": "8490aff311ab1ce6",
   "outputs": [],
   "execution_count": 23
  },
  {
   "cell_type": "code",
   "source": [
    "# count by subtype and stage, and time_diff_int\n",
    "x4 = df_idps_sorted.groupby(['Subtype', 'Stage', 'time_diff_int']).size().reset_index(name='counts')\n",
    "x4.to_csv(os.path.join(result_path, 'stage_count', 'subtype_stage_time_diff_counts.csv'), index=False)"
   ],
   "metadata": {
    "collapsed": false,
    "ExecuteTime": {
     "end_time": "2024-04-24T12:11:13.013290Z",
     "start_time": "2024-04-24T12:11:12.999980Z"
    }
   },
   "id": "7d6ae569ee7c9bd5",
   "outputs": [],
   "execution_count": 24
  },
  {
   "cell_type": "code",
   "source": [
    "# time bins\n",
    "def time_bins(time_diff):\n",
    "    if time_diff < 7:\n",
    "        return '4-7 years'\n",
    "    elif time_diff < 10:\n",
    "        return '7-10 years'\n",
    "    else:\n",
    "        return '10+ years'\n",
    "df_idps_sorted['Time_bins'] = df_idps_sorted['time_diff_mri'].apply(time_bins)"
   ],
   "metadata": {
    "collapsed": false,
    "ExecuteTime": {
     "end_time": "2024-04-24T12:11:13.028785Z",
     "start_time": "2024-04-24T12:11:13.015274Z"
    }
   },
   "id": "25d95bb36e4a51e2",
   "outputs": [],
   "execution_count": 25
  },
  {
   "cell_type": "code",
   "source": [
    "# count by subtype, stage, and time_bins\n",
    "x5 = df_idps_sorted.groupby(['Subtype', 'Stage', 'Time_bins']).size().reset_index(name='counts')\n",
    "# sort by subtype, stage, and time_bins\n",
    "x5 = x5.sort_values(by=['Subtype', 'Time_bins', 'Stage'])\n",
    "x5.to_csv(os.path.join(result_path, 'stage_count', 'subtype_stage_time_bins_counts.csv'), index=False)\n",
    "print(x5)"
   ],
   "metadata": {
    "collapsed": false,
    "ExecuteTime": {
     "end_time": "2024-04-24T12:11:13.043803Z",
     "start_time": "2024-04-24T12:11:13.031293Z"
    }
   },
   "id": "36a2cd0491b5560c",
   "outputs": [
    {
     "name": "stdout",
     "output_type": "stream",
     "text": [
      "      Subtype  Stage   Time_bins  counts\n",
      "0   Subtype 1      1   10+ years     363\n",
      "3   Subtype 1      2   10+ years     103\n",
      "6   Subtype 1      3   10+ years      35\n",
      "1   Subtype 1      1   4-7 years     160\n",
      "4   Subtype 1      2   4-7 years      33\n",
      "7   Subtype 1      3   4-7 years      17\n",
      "2   Subtype 1      1  7-10 years     479\n",
      "5   Subtype 1      2  7-10 years     126\n",
      "8   Subtype 1      3  7-10 years      55\n",
      "9   Subtype 2      1   10+ years     375\n",
      "12  Subtype 2      2   10+ years      78\n",
      "15  Subtype 2      3   10+ years      59\n",
      "10  Subtype 2      1   4-7 years     154\n",
      "13  Subtype 2      2   4-7 years      40\n",
      "16  Subtype 2      3   4-7 years      20\n",
      "11  Subtype 2      1  7-10 years     459\n",
      "14  Subtype 2      2  7-10 years     101\n",
      "17  Subtype 2      3  7-10 years      68\n"
     ]
    }
   ],
   "execution_count": 26
  },
  {
   "cell_type": "code",
   "source": [
    "df_idps['Time_bins'] = df_idps['time_diff_mri'].apply(time_bins)\n",
    "df_idps.to_csv(os.path.join(result_path, 'sustain_results_idps.csv'), index=False)"
   ],
   "metadata": {
    "collapsed": false,
    "ExecuteTime": {
     "end_time": "2024-04-24T12:11:13.609633Z",
     "start_time": "2024-04-24T12:11:13.044803Z"
    }
   },
   "id": "15796c0309b10cfa",
   "outputs": [],
   "execution_count": 27
  },
  {
   "cell_type": "code",
   "source": [
    "print(df_data_dm['Subtype'].value_counts())"
   ],
   "metadata": {
    "collapsed": false,
    "ExecuteTime": {
     "end_time": "2024-04-24T12:11:13.624399Z",
     "start_time": "2024-04-24T12:11:13.611234Z"
    }
   },
   "id": "7a17cf57790d179b",
   "outputs": [
    {
     "name": "stdout",
     "output_type": "stream",
     "text": [
      "Subtype\n",
      "Subtype 2    10903\n",
      "Subtype 1     9402\n",
      "Name: count, dtype: int64\n"
     ]
    }
   ],
   "execution_count": 28
  },
  {
   "cell_type": "code",
   "source": [
    "# zscore for IDPs and biomarkers\n",
    "IDPs = df_idps.columns[df_idps.columns.str.contains('IDP')]\n",
    "df_idps_zscored = zscore_regressed_out_covariates(df_idps, diabetes, IDPs, covariates)\n",
    "# save zscored results\n",
    "df_idps_zscored.to_csv(os.path.join(result_path, 'sustain_results_idps_zscored.csv'), index=False)"
   ],
   "metadata": {
    "collapsed": false,
    "ExecuteTime": {
     "end_time": "2024-04-24T12:11:24.204836Z",
     "start_time": "2024-04-24T12:11:13.828534Z"
    }
   },
   "id": "e8192f44b392af6c",
   "outputs": [],
   "execution_count": 29
  },
  {
   "cell_type": "code",
   "source": [
    "df_data_zscored = zscore_regressed_out_covariates(df_data, diabetes, biomarkers, covariates)\n",
    "df_data_zscored.to_csv(os.path.join(result_path, 'sustain_results_biomarkers_zscored.csv'), index=False)"
   ],
   "metadata": {
    "collapsed": false,
    "ExecuteTime": {
     "end_time": "2024-04-24T12:11:26.073282Z",
     "start_time": "2024-04-24T12:11:24.205703Z"
    }
   },
   "id": "65163793fa0eba74",
   "outputs": [],
   "execution_count": 30
  },
  {
   "cell_type": "code",
   "outputs": [],
   "source": [],
   "metadata": {
    "collapsed": false,
    "ExecuteTime": {
     "end_time": "2024-04-02T12:10:40.141943Z",
     "start_time": "2024-04-02T12:10:40.127094Z"
    }
   },
   "id": "de5b46702545c66b",
   "execution_count": 29
  },
  {
   "cell_type": "code",
   "outputs": [],
   "source": [],
   "metadata": {
    "collapsed": false,
    "ExecuteTime": {
     "end_time": "2024-04-02T12:10:40.157320Z",
     "start_time": "2024-04-02T12:10:40.142944Z"
    }
   },
   "id": "84a759216b344287",
   "execution_count": 29
  }
 ],
 "metadata": {
  "kernelspec": {
   "display_name": "Python 3",
   "language": "python",
   "name": "python3"
  },
  "language_info": {
   "codemirror_mode": {
    "name": "ipython",
    "version": 2
   },
   "file_extension": ".py",
   "mimetype": "text/x-python",
   "name": "python",
   "nbconvert_exporter": "python",
   "pygments_lexer": "ipython2",
   "version": "2.7.6"
  }
 },
 "nbformat": 4,
 "nbformat_minor": 5
}
