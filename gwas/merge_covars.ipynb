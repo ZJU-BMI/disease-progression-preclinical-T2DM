{
 "cells": [
  {
   "cell_type": "code",
   "execution_count": 13,
   "id": "initial_id",
   "metadata": {
    "collapsed": true,
    "ExecuteTime": {
     "end_time": "2024-03-04T11:48:54.624483Z",
     "start_time": "2024-03-04T11:48:54.622356Z"
    }
   },
   "outputs": [],
   "source": [
    "import pandas as pd"
   ]
  },
  {
   "cell_type": "code",
   "outputs": [],
   "source": [
    "subtype = 'subtype1'\n",
    "# pca results\n",
    "pca_results = pd.read_csv(f'results/{subtype}/pca.eigenvec', sep=' ', header=None)\n",
    "pca_results.columns = ['FID', 'IID'] + ['PC' + str(i) for i in range(1, 11)]"
   ],
   "metadata": {
    "collapsed": false,
    "ExecuteTime": {
     "end_time": "2024-03-04T11:48:54.671117Z",
     "start_time": "2024-03-04T11:48:54.628488Z"
    }
   },
   "id": "2480269d2c53b164",
   "execution_count": 14
  },
  {
   "cell_type": "code",
   "outputs": [],
   "source": [
    "# phenotype\n",
    "df_pheno = pd.read_csv(f'results/{subtype}/{subtype}.pheno', sep=' ')"
   ],
   "metadata": {
    "collapsed": false,
    "ExecuteTime": {
     "end_time": "2024-03-04T11:48:54.697643Z",
     "start_time": "2024-03-04T11:48:54.672120Z"
    }
   },
   "id": "68532322fc418e41",
   "execution_count": 15
  },
  {
   "cell_type": "code",
   "outputs": [],
   "source": [
    "# merge\n",
    "df = pd.merge(df_pheno, pca_results, on=['FID', 'IID'])"
   ],
   "metadata": {
    "collapsed": false,
    "ExecuteTime": {
     "end_time": "2024-03-04T11:48:54.713737Z",
     "start_time": "2024-03-04T11:48:54.698647Z"
    }
   },
   "id": "41b1e67a0352cf21",
   "execution_count": 16
  },
  {
   "cell_type": "code",
   "outputs": [],
   "source": [
    "# save\n",
    "df.to_csv(f'results/{subtype}/{subtype}.phenos', sep=' ', index=False)"
   ],
   "metadata": {
    "collapsed": false,
    "ExecuteTime": {
     "end_time": "2024-03-04T11:48:54.983743Z",
     "start_time": "2024-03-04T11:48:54.714667Z"
    }
   },
   "id": "de0a983be9a4655",
   "execution_count": 17
  },
  {
   "cell_type": "code",
   "outputs": [
    {
     "name": "stdout",
     "output_type": "stream",
     "text": [
      "t2dm\n",
      "1    24933\n",
      "2    15985\n",
      "Name: count, dtype: int64\n"
     ]
    }
   ],
   "source": [
    "print(df['t2dm'].value_counts())"
   ],
   "metadata": {
    "collapsed": false,
    "ExecuteTime": {
     "end_time": "2024-03-04T11:48:54.988354Z",
     "start_time": "2024-03-04T11:48:54.984748Z"
    }
   },
   "id": "3a103b02f6a27563",
   "execution_count": 18
  },
  {
   "cell_type": "code",
   "outputs": [],
   "source": [],
   "metadata": {
    "collapsed": false,
    "ExecuteTime": {
     "end_time": "2024-03-04T11:48:54.991554Z",
     "start_time": "2024-03-04T11:48:54.989359Z"
    }
   },
   "id": "70d4b0716eaba84c",
   "execution_count": 18
  }
 ],
 "metadata": {
  "kernelspec": {
   "display_name": "Python 3",
   "language": "python",
   "name": "python3"
  },
  "language_info": {
   "codemirror_mode": {
    "name": "ipython",
    "version": 2
   },
   "file_extension": ".py",
   "mimetype": "text/x-python",
   "name": "python",
   "nbconvert_exporter": "python",
   "pygments_lexer": "ipython2",
   "version": "2.7.6"
  }
 },
 "nbformat": 4,
 "nbformat_minor": 5
}
