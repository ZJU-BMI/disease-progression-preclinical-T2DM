{
 "cells": [
  {
   "cell_type": "code",
   "execution_count": 1,
   "id": "initial_id",
   "metadata": {
    "collapsed": true,
    "ExecuteTime": {
     "end_time": "2024-03-25T04:45:37.076653Z",
     "start_time": "2024-03-25T04:45:36.538962Z"
    }
   },
   "outputs": [],
   "source": [
    "import pandas as pd\n",
    "import os"
   ]
  },
  {
   "cell_type": "code",
   "outputs": [],
   "source": [
    "# allele frequency\n",
    "df_freq = pd.read_csv('data/freq.frq', sep='\\s+')"
   ],
   "metadata": {
    "collapsed": false,
    "ExecuteTime": {
     "end_time": "2024-03-25T04:46:01.088089Z",
     "start_time": "2024-03-25T04:45:37.077658Z"
    }
   },
   "id": "15aab0d5bbaaf38",
   "execution_count": 2
  },
  {
   "cell_type": "code",
   "outputs": [
    {
     "data": {
      "text/plain": "   CHR          SNP A1 A2      MAF  NCHROBS\n0    1   rs10399793  T  C  0.40920   170462\n1    1    rs2462492  T  C  0.42410   190920\n2    1  rs114608975  C  T  0.04351   424738\n3    1    rs6702460  T  G  0.46720   261626\n4    1    rs8179466  T  C  0.02188   566138",
      "text/html": "<div>\n<style scoped>\n    .dataframe tbody tr th:only-of-type {\n        vertical-align: middle;\n    }\n\n    .dataframe tbody tr th {\n        vertical-align: top;\n    }\n\n    .dataframe thead th {\n        text-align: right;\n    }\n</style>\n<table border=\"1\" class=\"dataframe\">\n  <thead>\n    <tr style=\"text-align: right;\">\n      <th></th>\n      <th>CHR</th>\n      <th>SNP</th>\n      <th>A1</th>\n      <th>A2</th>\n      <th>MAF</th>\n      <th>NCHROBS</th>\n    </tr>\n  </thead>\n  <tbody>\n    <tr>\n      <th>0</th>\n      <td>1</td>\n      <td>rs10399793</td>\n      <td>T</td>\n      <td>C</td>\n      <td>0.40920</td>\n      <td>170462</td>\n    </tr>\n    <tr>\n      <th>1</th>\n      <td>1</td>\n      <td>rs2462492</td>\n      <td>T</td>\n      <td>C</td>\n      <td>0.42410</td>\n      <td>190920</td>\n    </tr>\n    <tr>\n      <th>2</th>\n      <td>1</td>\n      <td>rs114608975</td>\n      <td>C</td>\n      <td>T</td>\n      <td>0.04351</td>\n      <td>424738</td>\n    </tr>\n    <tr>\n      <th>3</th>\n      <td>1</td>\n      <td>rs6702460</td>\n      <td>T</td>\n      <td>G</td>\n      <td>0.46720</td>\n      <td>261626</td>\n    </tr>\n    <tr>\n      <th>4</th>\n      <td>1</td>\n      <td>rs8179466</td>\n      <td>T</td>\n      <td>C</td>\n      <td>0.02188</td>\n      <td>566138</td>\n    </tr>\n  </tbody>\n</table>\n</div>"
     },
     "execution_count": 3,
     "metadata": {},
     "output_type": "execute_result"
    }
   ],
   "source": [
    "df_freq.head()"
   ],
   "metadata": {
    "collapsed": false,
    "ExecuteTime": {
     "end_time": "2024-03-25T04:46:01.101986Z",
     "start_time": "2024-03-25T04:46:01.088963Z"
    }
   },
   "id": "43901201768bc522",
   "execution_count": 3
  },
  {
   "cell_type": "code",
   "outputs": [],
   "source": [
    "subtype = ''\n",
    "num_pc = 10\n",
    "os.makedirs(f'results/subtype{subtype}/gwas_result', exist_ok=True)"
   ],
   "metadata": {
    "collapsed": false,
    "ExecuteTime": {
     "end_time": "2024-03-25T05:06:44.940532Z",
     "start_time": "2024-03-25T05:06:44.934728Z"
    }
   },
   "id": "51b3f3148b5f7f95",
   "execution_count": 23
  },
  {
   "cell_type": "markdown",
   "source": [
    "# GWAS summary"
   ],
   "metadata": {
    "collapsed": false
   },
   "id": "749d2ca62f935b18"
  },
  {
   "cell_type": "code",
   "outputs": [],
   "source": [
    "# GWAS summary from plink\n",
    "gwas_path = f'results/subtype{subtype}/res_pc{num_pc}.assoc.logistic'\n",
    "df_gwas = pd.read_csv(gwas_path, sep='\\s+')"
   ],
   "metadata": {
    "collapsed": false,
    "ExecuteTime": {
     "end_time": "2024-03-25T05:07:27.071759Z",
     "start_time": "2024-03-25T05:06:49.095498Z"
    }
   },
   "id": "45b8e8411f82ff87",
   "execution_count": 24
  },
  {
   "cell_type": "code",
   "outputs": [],
   "source": [
    "# merge allele frequency and GWAS summary\n",
    "df = pd.merge(df_gwas, df_freq[['SNP', 'A2', 'MAF', 'NCHROBS']], on='SNP')"
   ],
   "metadata": {
    "collapsed": false,
    "ExecuteTime": {
     "end_time": "2024-03-25T05:08:24.331673Z",
     "start_time": "2024-03-25T05:08:14.341349Z"
    }
   },
   "id": "39745f650960e869",
   "execution_count": 25
  },
  {
   "cell_type": "code",
   "outputs": [
    {
     "data": {
      "text/plain": "         CHR         SNP         BP A1 TEST  NMISS    BETA       SE     L95  \\\n4224583   10  rs35198068  114754784  C  ADD  20228  0.1791  0.02182  0.1364   \n4224589   10   rs7903146  114758349  T  ADD  20305  0.1786  0.02183  0.1358   \n4224581   10  rs34872471  114754071  C  ADD  20137  0.1776  0.02186  0.1348   \n4224617   10  rs36090025  114774433  C  ADD  20090  0.1712  0.02197  0.1281   \n4224646   10   rs7074440  114785424  A  ADD  20105  0.1702  0.02196  0.1272   \n\n            U95   STAT             P A2     MAF  NCHROBS  \n4224583  0.2219  8.210  2.212000e-16  T  0.2910   971482  \n4224589  0.2214  8.183  2.769000e-16  C  0.2896   974818  \n4224581  0.2205  8.125  4.476000e-16  T  0.2907   967940  \n4224617  0.2142  7.791  6.622000e-15  A  0.2949   966052  \n4224646  0.2132  7.750  9.198000e-15  G  0.2948   966996  ",
      "text/html": "<div>\n<style scoped>\n    .dataframe tbody tr th:only-of-type {\n        vertical-align: middle;\n    }\n\n    .dataframe tbody tr th {\n        vertical-align: top;\n    }\n\n    .dataframe thead th {\n        text-align: right;\n    }\n</style>\n<table border=\"1\" class=\"dataframe\">\n  <thead>\n    <tr style=\"text-align: right;\">\n      <th></th>\n      <th>CHR</th>\n      <th>SNP</th>\n      <th>BP</th>\n      <th>A1</th>\n      <th>TEST</th>\n      <th>NMISS</th>\n      <th>BETA</th>\n      <th>SE</th>\n      <th>L95</th>\n      <th>U95</th>\n      <th>STAT</th>\n      <th>P</th>\n      <th>A2</th>\n      <th>MAF</th>\n      <th>NCHROBS</th>\n    </tr>\n  </thead>\n  <tbody>\n    <tr>\n      <th>4224583</th>\n      <td>10</td>\n      <td>rs35198068</td>\n      <td>114754784</td>\n      <td>C</td>\n      <td>ADD</td>\n      <td>20228</td>\n      <td>0.1791</td>\n      <td>0.02182</td>\n      <td>0.1364</td>\n      <td>0.2219</td>\n      <td>8.210</td>\n      <td>2.212000e-16</td>\n      <td>T</td>\n      <td>0.2910</td>\n      <td>971482</td>\n    </tr>\n    <tr>\n      <th>4224589</th>\n      <td>10</td>\n      <td>rs7903146</td>\n      <td>114758349</td>\n      <td>T</td>\n      <td>ADD</td>\n      <td>20305</td>\n      <td>0.1786</td>\n      <td>0.02183</td>\n      <td>0.1358</td>\n      <td>0.2214</td>\n      <td>8.183</td>\n      <td>2.769000e-16</td>\n      <td>C</td>\n      <td>0.2896</td>\n      <td>974818</td>\n    </tr>\n    <tr>\n      <th>4224581</th>\n      <td>10</td>\n      <td>rs34872471</td>\n      <td>114754071</td>\n      <td>C</td>\n      <td>ADD</td>\n      <td>20137</td>\n      <td>0.1776</td>\n      <td>0.02186</td>\n      <td>0.1348</td>\n      <td>0.2205</td>\n      <td>8.125</td>\n      <td>4.476000e-16</td>\n      <td>T</td>\n      <td>0.2907</td>\n      <td>967940</td>\n    </tr>\n    <tr>\n      <th>4224617</th>\n      <td>10</td>\n      <td>rs36090025</td>\n      <td>114774433</td>\n      <td>C</td>\n      <td>ADD</td>\n      <td>20090</td>\n      <td>0.1712</td>\n      <td>0.02197</td>\n      <td>0.1281</td>\n      <td>0.2142</td>\n      <td>7.791</td>\n      <td>6.622000e-15</td>\n      <td>A</td>\n      <td>0.2949</td>\n      <td>966052</td>\n    </tr>\n    <tr>\n      <th>4224646</th>\n      <td>10</td>\n      <td>rs7074440</td>\n      <td>114785424</td>\n      <td>A</td>\n      <td>ADD</td>\n      <td>20105</td>\n      <td>0.1702</td>\n      <td>0.02196</td>\n      <td>0.1272</td>\n      <td>0.2132</td>\n      <td>7.750</td>\n      <td>9.198000e-15</td>\n      <td>G</td>\n      <td>0.2948</td>\n      <td>966996</td>\n    </tr>\n  </tbody>\n</table>\n</div>"
     },
     "execution_count": 26,
     "metadata": {},
     "output_type": "execute_result"
    }
   ],
   "source": [
    "df.sort_values(by=['P'], ascending=True).head()"
   ],
   "metadata": {
    "collapsed": false,
    "ExecuteTime": {
     "end_time": "2024-03-25T05:08:39.245195Z",
     "start_time": "2024-03-25T05:08:36.414573Z"
    }
   },
   "id": "e7b324e962e267bf",
   "execution_count": 26
  },
  {
   "cell_type": "code",
   "outputs": [
    {
     "name": "stdout",
     "output_type": "stream",
     "text": [
      "64\n"
     ]
    }
   ],
   "source": [
    "# top SNPs by p-value (p < 5e-8)\n",
    "df_top = df[df['P'] < 5e-8]\n",
    "print(len(df_top))\n",
    "df_top.to_csv(f'results/subtype{subtype}/gwas_result/res_subtype_{subtype}_pc{num_pc}_top.csv', index=False, na_rep='NA')"
   ],
   "metadata": {
    "collapsed": false,
    "ExecuteTime": {
     "end_time": "2024-03-25T05:08:44.511723Z",
     "start_time": "2024-03-25T05:08:44.499919Z"
    }
   },
   "id": "19fa467d837aa329",
   "execution_count": 27
  },
  {
   "cell_type": "code",
   "outputs": [],
   "source": [
    "# save the merged data to xxx.txt.gz, sep by space\n",
    "df.to_csv(f'results/subtype{subtype}/gwas_result/res_subtype{subtype}_pc{num_pc}.txt.gz', sep=' ', index=False, compression='gzip', na_rep='NA')"
   ],
   "metadata": {
    "collapsed": false,
    "ExecuteTime": {
     "end_time": "2024-03-25T05:13:24.309054Z",
     "start_time": "2024-03-25T05:08:53.342410Z"
    }
   },
   "id": "9befb32151343368",
   "execution_count": 28
  },
  {
   "cell_type": "code",
   "outputs": [
    {
     "name": "stdout",
     "output_type": "stream",
     "text": [
      "597\n"
     ]
    }
   ],
   "source": [
    "print(df['P'].min())"
   ],
   "metadata": {
    "collapsed": false,
    "ExecuteTime": {
     "end_time": "2024-03-25T04:59:53.652367Z",
     "start_time": "2024-03-25T04:59:53.641557Z"
    }
   },
   "id": "695047c3938d0384",
   "execution_count": 19
  },
  {
   "cell_type": "code",
   "outputs": [],
   "source": [],
   "metadata": {
    "collapsed": false,
    "ExecuteTime": {
     "end_time": "2024-03-25T04:59:55.588844Z",
     "start_time": "2024-03-25T04:59:55.577107Z"
    }
   },
   "id": "8a9baed63c686052",
   "execution_count": 20
  },
  {
   "cell_type": "code",
   "outputs": [
    {
     "name": "stdout",
     "output_type": "stream",
     "text": [
      "2.948e-75\n"
     ]
    }
   ],
   "source": [],
   "metadata": {
    "collapsed": false,
    "ExecuteTime": {
     "end_time": "2024-03-25T04:59:56.326355Z",
     "start_time": "2024-03-25T04:59:56.311951Z"
    }
   },
   "id": "3f6742e8d5f83315",
   "execution_count": 21
  },
  {
   "cell_type": "code",
   "outputs": [],
   "source": [],
   "metadata": {
    "collapsed": false
   },
   "id": "fb796a3949468b84"
  }
 ],
 "metadata": {
  "kernelspec": {
   "display_name": "Python 3",
   "language": "python",
   "name": "python3"
  },
  "language_info": {
   "codemirror_mode": {
    "name": "ipython",
    "version": 2
   },
   "file_extension": ".py",
   "mimetype": "text/x-python",
   "name": "python",
   "nbconvert_exporter": "python",
   "pygments_lexer": "ipython2",
   "version": "2.7.6"
  }
 },
 "nbformat": 4,
 "nbformat_minor": 5
}
