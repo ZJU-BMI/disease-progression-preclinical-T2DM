{
 "cells": [
  {
   "cell_type": "code",
   "id": "initial_id",
   "metadata": {
    "collapsed": true
   },
   "source": [
    "import pandas as pd\n",
    "import os"
   ],
   "outputs": [],
   "execution_count": null
  },
  {
   "cell_type": "code",
   "source": [
    "# allele frequency\n",
    "df_freq = pd.read_csv('data/freq.frq', sep='\\s+')"
   ],
   "metadata": {
    "collapsed": false
   },
   "id": "15aab0d5bbaaf38",
   "outputs": [],
   "execution_count": null
  },
  {
   "cell_type": "code",
   "source": [
    "df_freq.head()"
   ],
   "metadata": {
    "collapsed": false
   },
   "id": "43901201768bc522",
   "outputs": [],
   "execution_count": null
  },
  {
   "cell_type": "code",
   "source": [
    "subtype = 2\n",
    "num_pc = 10\n",
    "os.makedirs(f'results/subtype{subtype}/gwas_result', exist_ok=True)"
   ],
   "metadata": {
    "collapsed": false
   },
   "id": "51b3f3148b5f7f95",
   "outputs": [],
   "execution_count": null
  },
  {
   "cell_type": "markdown",
   "source": [
    "# GWAS summary"
   ],
   "metadata": {
    "collapsed": false
   },
   "id": "749d2ca62f935b18"
  },
  {
   "cell_type": "code",
   "source": [
    "# GWAS summary from plink\n",
    "gwas_path = f'results/subtype{subtype}/res_pc{num_pc}.assoc.logistic'\n",
    "df_gwas = pd.read_csv(gwas_path, sep='\\s+')"
   ],
   "metadata": {
    "collapsed": false
   },
   "id": "45b8e8411f82ff87",
   "outputs": [],
   "execution_count": null
  },
  {
   "cell_type": "code",
   "source": [
    "# merge allele frequency and GWAS summary\n",
    "df = pd.merge(df_gwas, df_freq[['SNP', 'A2', 'MAF', 'NCHROBS']], on='SNP')"
   ],
   "metadata": {
    "collapsed": false
   },
   "id": "39745f650960e869",
   "outputs": [],
   "execution_count": null
  },
  {
   "cell_type": "code",
   "source": [
    "df.sort_values(by=['P'], ascending=True).head()"
   ],
   "metadata": {
    "collapsed": false
   },
   "id": "e7b324e962e267bf",
   "outputs": [],
   "execution_count": null
  },
  {
   "cell_type": "code",
   "source": [
    "# top SNPs by p-value (p < 5e-8)\n",
    "df_top = df[df['P'] < 5e-8]\n",
    "print(len(df_top))\n",
    "df_top.to_csv(f'results/subtype{subtype}/gwas_result/res_subtype_{subtype}_pc{num_pc}_top.csv', index=False, na_rep='NA')"
   ],
   "metadata": {
    "collapsed": false
   },
   "id": "19fa467d837aa329",
   "outputs": [],
   "execution_count": null
  },
  {
   "cell_type": "code",
   "source": [
    "# save the merged data to xxx.txt.gz, sep by space\n",
    "df.to_csv(f'results/subtype{subtype}/gwas_result/res_subtype{subtype}_pc{num_pc}.txt.gz', sep=' ', index=False, compression='gzip', na_rep='NA')"
   ],
   "metadata": {
    "collapsed": false
   },
   "id": "9befb32151343368",
   "outputs": [],
   "execution_count": null
  },
  {
   "cell_type": "code",
   "source": "",
   "metadata": {
    "collapsed": false
   },
   "id": "695047c3938d0384",
   "outputs": [],
   "execution_count": null
  },
  {
   "cell_type": "code",
   "source": [],
   "metadata": {
    "collapsed": false
   },
   "id": "8a9baed63c686052",
   "outputs": [],
   "execution_count": null
  },
  {
   "cell_type": "code",
   "source": [],
   "metadata": {
    "collapsed": false
   },
   "id": "3f6742e8d5f83315",
   "outputs": [],
   "execution_count": null
  },
  {
   "cell_type": "code",
   "source": [],
   "metadata": {
    "collapsed": false
   },
   "id": "fb796a3949468b84",
   "outputs": [],
   "execution_count": null
  }
 ],
 "metadata": {
  "kernelspec": {
   "display_name": "Python 3",
   "language": "python",
   "name": "python3"
  },
  "language_info": {
   "codemirror_mode": {
    "name": "ipython",
    "version": 2
   },
   "file_extension": ".py",
   "mimetype": "text/x-python",
   "name": "python",
   "nbconvert_exporter": "python",
   "pygments_lexer": "ipython2",
   "version": "2.7.6"
  }
 },
 "nbformat": 4,
 "nbformat_minor": 5
}
