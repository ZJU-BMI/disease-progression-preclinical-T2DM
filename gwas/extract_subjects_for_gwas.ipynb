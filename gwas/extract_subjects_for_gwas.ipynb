{
 "cells": [
  {
   "cell_type": "code",
   "outputs": [],
   "source": [
    "import os\n",
    "import pandas as pd"
   ],
   "metadata": {
    "collapsed": false,
    "ExecuteTime": {
     "end_time": "2024-03-25T04:45:28.563574Z",
     "start_time": "2024-03-25T04:45:28.076173Z"
    }
   },
   "id": "bc152fb9d78171f1",
   "execution_count": 1
  },
  {
   "cell_type": "code",
   "outputs": [],
   "source": [
    "df_fam = pd.read_csv('data/allchr.fam', sep=' ', header=None)\n",
    "df_fam.columns = ['FID', 'IID', 'PID', 'MID', 'SEX', 'PHENO']"
   ],
   "metadata": {
    "collapsed": false,
    "ExecuteTime": {
     "end_time": "2024-03-19T12:46:38.760442Z",
     "start_time": "2024-03-19T12:46:38.595559Z"
    }
   },
   "id": "6c6ad3682a301b9d",
   "execution_count": 46
  },
  {
   "cell_type": "code",
   "outputs": [],
   "source": [
    "df_subtype = pd.read_csv('data/sustain_results_biomarkers.csv')\n",
    "os.makedirs('results/subtype1', exist_ok=True)\n",
    "os.makedirs('results/subtype2', exist_ok=True)\n",
    "os.makedirs('results/subtype1_subtype2', exist_ok=True)"
   ],
   "metadata": {
    "collapsed": false,
    "ExecuteTime": {
     "end_time": "2024-03-19T12:46:39.061908Z",
     "start_time": "2024-03-19T12:46:38.761448Z"
    }
   },
   "id": "ba84b9e34922a190",
   "execution_count": 47
  },
  {
   "cell_type": "code",
   "outputs": [],
   "source": [
    "# control and t2dm\n",
    "df_control = df_subtype[df_subtype['t2dm'] == 0]\n",
    "df_t2dm = df_subtype[df_subtype['t2dm'] == 1]\n",
    "# diabetes subtype1 and subtype2\n",
    "df_subtype1 = df_t2dm[df_t2dm['Subtype'] == 'Subtype 1']\n",
    "df_subtype2 = df_t2dm[df_t2dm['Subtype'] == 'Subtype 2']"
   ],
   "metadata": {
    "collapsed": false,
    "ExecuteTime": {
     "end_time": "2024-03-19T12:46:39.090669Z",
     "start_time": "2024-03-19T12:46:39.062915Z"
    }
   },
   "id": "45c676b5739b29b9",
   "execution_count": 48
  },
  {
   "cell_type": "code",
   "outputs": [],
   "source": [
    "# control and subtype1\n",
    "df_control_subtype1 = pd.concat([df_control, df_subtype1])\n",
    "# control and subtype2\n",
    "df_control_subtype2 = pd.concat([df_control, df_subtype2])\n",
    "# subtype1 and subtype2\n",
    "df_subtype1_subtype2 = pd.concat([df_subtype1, df_subtype2])"
   ],
   "metadata": {
    "collapsed": false,
    "ExecuteTime": {
     "end_time": "2024-03-19T12:46:39.121276Z",
     "start_time": "2024-03-19T12:46:39.091688Z"
    }
   },
   "id": "ab66de4bf082b3a6",
   "execution_count": 49
  },
  {
   "cell_type": "code",
   "outputs": [],
   "source": [
    "df_control_subtype1_fam = df_fam[df_fam['IID'].isin(df_control_subtype1['Eid'])]\n",
    "df_control_subtype2_fam = df_fam[df_fam['IID'].isin(df_control_subtype2['Eid'])]\n",
    "df_subtype1_subtype2_fam = df_fam[df_fam['IID'].isin(df_subtype1_subtype2['Eid'])]"
   ],
   "metadata": {
    "collapsed": false,
    "ExecuteTime": {
     "end_time": "2024-03-19T12:46:39.172883Z",
     "start_time": "2024-03-19T12:46:39.122282Z"
    }
   },
   "id": "d130f37336440538",
   "execution_count": 50
  },
  {
   "cell_type": "code",
   "outputs": [],
   "source": [
    "df_control_subtype1_fam.to_csv('results/subtype1/subtype1.fam', sep=' ', index=False, header=False, na_rep='NA')\n",
    "df_control_subtype2_fam.to_csv('results/subtype2/subtype2.fam', sep=' ', index=False, header=False, na_rep='NA')\n",
    "df_subtype1_subtype2_fam.to_csv('results/subtype1_subtype2/subtype.fam', sep=' ', index=False, header=False, na_rep='NA')"
   ],
   "metadata": {
    "collapsed": false,
    "ExecuteTime": {
     "end_time": "2024-03-19T12:46:39.577027Z",
     "start_time": "2024-03-19T12:46:39.173891Z"
    }
   },
   "id": "b3d1e8479fe7ba71",
   "execution_count": 51
  },
  {
   "cell_type": "code",
   "outputs": [],
   "source": [
    "covariates = ['Sex', 'Age', 'Drinking_status', 'Smoking_status', 'Education', 'Income']\n",
    "pheno = ['t2dm', 'Subtype']"
   ],
   "metadata": {
    "collapsed": false,
    "ExecuteTime": {
     "end_time": "2024-03-19T12:46:39.581302Z",
     "start_time": "2024-03-19T12:46:39.578033Z"
    }
   },
   "id": "fccbebde4b1cf7b1",
   "execution_count": 52
  },
  {
   "cell_type": "code",
   "outputs": [],
   "source": [
    "# save FID and IID to a file\n",
    "df_control_subtype1_fam[['FID', 'IID']].to_csv('results/subtype1/subtype1.fid', sep=' ', index=False, header=False, na_rep='NA')\n",
    "df_control_subtype2_fam[['FID', 'IID']].to_csv('results/subtype2/subtype2.fid', sep=' ', index=False, header=False, na_rep='NA')\n",
    "df_subtype1_subtype2_fam[['FID', 'IID']].to_csv('results/subtype1_subtype2/subtype.fid', sep=' ', index=False, header=False, na_rep='NA')"
   ],
   "metadata": {
    "collapsed": false,
    "ExecuteTime": {
     "end_time": "2024-03-19T12:46:39.775051Z",
     "start_time": "2024-03-19T12:46:39.582310Z"
    }
   },
   "id": "1e6cbaf2c809854",
   "execution_count": 53
  },
  {
   "cell_type": "code",
   "outputs": [
    {
     "name": "stdout",
     "output_type": "stream",
     "text": [
      "t2dm\n",
      "2    10903\n",
      "1     9402\n",
      "Name: count, dtype: int64\n"
     ]
    }
   ],
   "source": [
    "# PHNEO data\n",
    "df_control_subtype1_pheno = pd.merge(df_control_subtype1_fam, df_control_subtype1[['Eid'] + pheno + covariates], left_on='IID', right_on='Eid')\n",
    "df_control_subtype2_pheno = pd.merge(df_control_subtype2_fam, df_control_subtype2[['Eid'] + pheno + covariates], left_on='IID', right_on='Eid')\n",
    "df_subtype1_subtype2_pheno = pd.merge(df_subtype1_subtype2_fam, df_subtype1_subtype2[['Eid'] + pheno + covariates], left_on='IID', right_on='Eid')\n",
    "\n",
    "# remove 'Eid' column\n",
    "df_control_subtype1_pheno = df_control_subtype1_pheno.drop(columns=['Eid'])\n",
    "df_control_subtype2_pheno = df_control_subtype2_pheno.drop(columns=['Eid'])\n",
    "df_subtype1_subtype2_pheno = df_subtype1_subtype2_pheno.drop(columns=['Eid'])\n",
    "\n",
    "df_control_subtype1_pheno['t2dm'] = df_control_subtype1_pheno['t2dm'].astype(int) + 1\n",
    "df_control_subtype2_pheno['t2dm'] = df_control_subtype2_pheno['t2dm'].astype(int) + 1\n",
    "# pheno for subtype1_subtype2: 1: subtype1, 2: subtype2\n",
    "df_subtype1_subtype2_pheno['t2dm'] = df_subtype1_subtype2_pheno['Subtype'].apply(lambda x: 1 if x == 'Subtype 1' else 2)\n",
    "print(df_subtype1_subtype2_pheno['t2dm'].value_counts())"
   ],
   "metadata": {
    "collapsed": false,
    "ExecuteTime": {
     "end_time": "2024-03-19T12:46:39.818876Z",
     "start_time": "2024-03-19T12:46:39.776056Z"
    }
   },
   "id": "fe5d34583214725f",
   "execution_count": 54
  },
  {
   "cell_type": "code",
   "outputs": [],
   "source": [
    "df_control_subtype1_pheno.to_csv('results/subtype1/subtype1.pheno', sep=' ', index=False, header=True, na_rep='NA')\n",
    "df_control_subtype2_pheno.to_csv('results/subtype2/subtype2.pheno', sep=' ', index=False, header=True, na_rep='NA')\n",
    "df_subtype1_subtype2_pheno.to_csv('results/subtype1_subtype2/subtype.pheno', sep=' ', index=False, header=True, na_rep='NA')"
   ],
   "metadata": {
    "collapsed": false,
    "ExecuteTime": {
     "end_time": "2024-03-19T12:46:40.587218Z",
     "start_time": "2024-03-19T12:46:39.820904Z"
    }
   },
   "id": "632d6c159f477fac",
   "execution_count": 55
  },
  {
   "cell_type": "code",
   "outputs": [
    {
     "name": "stdout",
     "output_type": "stream",
     "text": [
      "t2dm\n",
      "1    20305\n",
      "2     9402\n",
      "Name: count, dtype: int64\n",
      "t2dm\n",
      "1    20305\n",
      "2    10903\n",
      "Name: count, dtype: int64\n"
     ]
    }
   ],
   "source": [
    "print(df_control_subtype1_pheno['t2dm'].value_counts())\n",
    "print(df_control_subtype2_pheno['t2dm'].value_counts())"
   ],
   "metadata": {
    "collapsed": false,
    "ExecuteTime": {
     "end_time": "2024-03-19T12:46:40.594315Z",
     "start_time": "2024-03-19T12:46:40.588237Z"
    }
   },
   "id": "a05c788ebe981ec8",
   "execution_count": 56
  },
  {
   "cell_type": "code",
   "outputs": [
    {
     "name": "stdout",
     "output_type": "stream",
     "text": [
      "t2dm\n",
      "2    10903\n",
      "1     9402\n",
      "Name: count, dtype: int64\n"
     ]
    }
   ],
   "source": [
    "print(df_subtype1_subtype2_pheno['t2dm'].value_counts())"
   ],
   "metadata": {
    "collapsed": false,
    "ExecuteTime": {
     "end_time": "2024-03-19T12:46:47.258319Z",
     "start_time": "2024-03-19T12:46:47.253156Z"
    }
   },
   "id": "e2a6541e06c86a95",
   "execution_count": 58
  },
  {
   "cell_type": "code",
   "outputs": [],
   "source": [],
   "metadata": {
    "collapsed": false,
    "ExecuteTime": {
     "end_time": "2024-03-19T12:46:47.887880Z",
     "start_time": "2024-03-19T12:46:47.884572Z"
    }
   },
   "id": "683d8494041fdfb1",
   "execution_count": 58
  },
  {
   "cell_type": "code",
   "outputs": [],
   "source": [],
   "metadata": {
    "collapsed": false
   },
   "id": "26a3b906cc9c0efd"
  }
 ],
 "metadata": {
  "kernelspec": {
   "display_name": "Python 3",
   "language": "python",
   "name": "python3"
  },
  "language_info": {
   "codemirror_mode": {
    "name": "ipython",
    "version": 2
   },
   "file_extension": ".py",
   "mimetype": "text/x-python",
   "name": "python",
   "nbconvert_exporter": "python",
   "pygments_lexer": "ipython2",
   "version": "2.7.6"
  }
 },
 "nbformat": 4,
 "nbformat_minor": 5
}
